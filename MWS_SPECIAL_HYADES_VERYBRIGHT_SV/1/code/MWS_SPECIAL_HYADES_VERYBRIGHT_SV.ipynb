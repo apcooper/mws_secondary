{
 "cells": [
  {
   "cell_type": "markdown",
   "metadata": {},
   "source": [
    "# MWS Secondary Target Selection"
   ]
  },
  {
   "cell_type": "markdown",
   "metadata": {},
   "source": [
    "## MWS_SPECIAL_HYADES_VERYBRIGHT_SV"
   ]
  },
  {
   "cell_type": "markdown",
   "metadata": {},
   "source": [
    "Maintainers:\n",
    "  - Boris Gaensicke (selection/catalog)\n",
    "  - Andrew Cooper (secondary target code)"
   ]
  },
  {
   "cell_type": "code",
   "execution_count": 1,
   "metadata": {},
   "outputs": [
    {
     "name": "stdout",
     "output_type": "stream",
     "text": [
      "total 1\n",
      "lrwxrwxrwx 1 apcooper apcooper 89 Aug 29 20:27 \u001b[0m\u001b[01;36mdesi_sv_hyades.fits\u001b[0m -> /project/projectdirs/desi/external/mws/sv/MWS_SPECIAL_HYADES_SV/1/raw/desi_sv_hyades.fits\n"
     ]
    }
   ],
   "source": [
    "ls -l ../raw"
   ]
  },
  {
   "cell_type": "code",
   "execution_count": 2,
   "metadata": {},
   "outputs": [
    {
     "data": {
      "text/plain": [
       "'/global/projecta/projectdirs/desi/external/mws/sv/MWS_SPECIAL_HYADES_VERYBRIGHT_SV/1/code'"
      ]
     },
     "execution_count": 2,
     "metadata": {},
     "output_type": "execute_result"
    }
   ],
   "source": [
    "pwd"
   ]
  },
  {
   "cell_type": "markdown",
   "metadata": {},
   "source": [
    "Stars in the Hyades; selected all stars in Gaia with parallax distance < 100pc in a 15x15 deg box centred on the cluster.\n",
    "\n",
    "The selection criteria are:\n",
    "\n",
    "???"
   ]
  },
  {
   "cell_type": "raw",
   "metadata": {},
   "source": [
    "DATA MODEL REFERENCE:\n",
    "(see /project/projectdirs/desi/target/secondary/README for latest changes)\n",
    "\n",
    "(1) In $SCND_DIR/indata: .fits or .txt files defining the secondary\n",
    "      targets with columns corresponding to:\n",
    "    \n",
    "        ('RA', '>f8')\n",
    "        ('DEC', '>f8')\n",
    "        ('PMRA', '>f4')\n",
    "        ('PMDEC', '>f4')\n",
    "        ('REF_EPOCH', '>f4')\n",
    "        ('OVERRIDE', '?')\n",
    "\n",
    "      Units of these quantities are the same as for the Legacy Surveys\n",
    "      data model.\n",
    "\n",
    "      For .txt files the first N columns must correspond to the N columns\n",
    "      in secondary.indatamodel, and other columns can be anything. The #\n",
    "      may be used as a comment card. For objects with low proper motion\n",
    "      it is permissible to pass zeros for the proper motion columns. If\n",
    "      zero is passed for REF_EPOCH, it will be assumed to be 2015.5\n",
    "\n",
    "      For .fits files, a subset of the columns must correspond to the\n",
    "      columns in secondary.indatamodel, other columns can be anything.\n",
    "\n",
    "      Note that the OVERRIDE column in the data model means \"do not just\n",
    "      accept an existing target, override it and make a new TARGETID.\" It\n",
    "      should be True (override) or False (do not override) for each target.\n",
    "      In .txt files it should be 1 or 0 instead of True/False, and will be\n",
    "      loaded from the text file as the corresponding Boolean."
   ]
  },
  {
   "cell_type": "code",
   "execution_count": 3,
   "metadata": {},
   "outputs": [
    {
     "data": {
      "text/plain": [
       "'/global/projecta/projectdirs/desi/external/mws/sv/MWS_SPECIAL_HYADES_VERYBRIGHT_SV/1/code'"
      ]
     },
     "execution_count": 3,
     "metadata": {},
     "output_type": "execute_result"
    }
   ],
   "source": [
    "pwd"
   ]
  },
  {
   "cell_type": "code",
   "execution_count": 4,
   "metadata": {},
   "outputs": [],
   "source": [
    "import os\n",
    "import numpy as np\n",
    "from astropy.table import Table, Column\n",
    "import astropy.coordinates as coord\n",
    "import astropy.units as u\n",
    "import astropy.io.fits as fits"
   ]
  },
  {
   "cell_type": "code",
   "execution_count": 5,
   "metadata": {},
   "outputs": [],
   "source": [
    "target_class    = 'MWS_SPECIAL_HYADES_VERYBRIGHT_SV'\n",
    "input_filename  = 'desi_sv_hyades.fits'\n",
    "\n",
    "REF_CAT   = 'G'\n",
    "REF_EPOCH = '2015.5'"
   ]
  },
  {
   "cell_type": "code",
   "execution_count": 6,
   "metadata": {},
   "outputs": [],
   "source": [
    "# Relative paths\n",
    "input_path  = os.path.join('..','raw',input_filename)\n",
    "\n",
    "# Separate bright and faint output\n",
    "output_path = os.path.join('..','indata','{}.fits'.format(target_class))\n",
    "\n",
    "output_dir  = os.path.dirname(output_path)\n",
    "if not os.path.exists(output_dir):\n",
    "    print('Making output directory: {}'.format(os.path.abspath(output_dir)))\n",
    "    os.makedirs(dir)"
   ]
  },
  {
   "cell_type": "code",
   "execution_count": 7,
   "metadata": {},
   "outputs": [
    {
     "data": {
      "text/html": [
       "&lt;Table length=3&gt;\n",
       "<table id=\"table46912529036288\" class=\"table-striped table-bordered table-condensed\">\n",
       "<thead><tr><th>ra</th><th>ra_error</th><th>dec</th><th>dec_error</th><th>source_id</th><th>parallax</th><th>parallax_error</th><th>pmra</th><th>pmra_error</th><th>pmdec</th><th>pmdec_error</th><th>duplicated_source</th><th>phot_g_mean_flux</th><th>phot_g_mean_flux_error</th><th>phot_g_mean_mag</th><th>phot_g_mean_mag_error</th><th>phot_bp_mean_flux</th><th>phot_bp_mean_flux_error</th><th>phot_bp_mean_mag</th><th>phot_bp_mean_mag_error</th><th>phot_rp_mean_flux</th><th>phot_rp_mean_flux_error</th><th>phot_rp_mean_mag</th><th>phot_rp_mean_mag_error</th><th>bp_rp</th><th>radial_velocity</th><th>radial_velocity_error</th><th>teff_val</th><th>a_g_val</th><th>e_bp_min_rp_val</th><th>radius_val</th><th>lum_val</th></tr></thead>\n",
       "<thead><tr><th>deg</th><th>mas</th><th>deg</th><th>mas</th><th></th><th>mas</th><th>mas</th><th>mas / yr</th><th>mas / yr</th><th>mas / yr</th><th>mas / yr</th><th></th><th>e-/s</th><th>e-/s</th><th>mag</th><th>mag</th><th>e-/s</th><th>e-/s</th><th>mag</th><th>mag</th><th>e-/s</th><th>e-/s</th><th>mag</th><th>mag</th><th>mag</th><th>km / s</th><th>km / s</th><th>K</th><th>mag</th><th>mag</th><th>solRad</th><th>solLum</th></tr></thead>\n",
       "<thead><tr><th>float64</th><th>float64</th><th>float64</th><th>float64</th><th>int64</th><th>float64</th><th>float32</th><th>float64</th><th>float32</th><th>float64</th><th>float32</th><th>uint8</th><th>float32</th><th>float32</th><th>float64</th><th>float64</th><th>float32</th><th>float32</th><th>float64</th><th>float64</th><th>float32</th><th>float32</th><th>float64</th><th>float64</th><th>float64</th><th>float64</th><th>float32</th><th>float64</th><th>float32</th><th>float32</th><th>float32</th><th>float64</th></tr></thead>\n",
       "<tr><td>59.2256812428</td><td>0.067684196615</td><td>12.2388731852</td><td>0.0390140253599</td><td>38289878259378688</td><td>12.1593154438</td><td>0.076325</td><td>56.1410907116</td><td>0.137403</td><td>8.3598747581</td><td>0.089992</td><td>1</td><td>10733.7</td><td>4.95035</td><td>15.611493</td><td>0.000500738623776</td><td>1975.12</td><td>10.8327</td><td>17.112406</td><td>0.00595482575039</td><td>13777.6</td><td>19.4045</td><td>14.413987</td><td>0.00152915981863</td><td>2.6984186</td><td>nan</td><td>nan</td><td>3809.38</td><td>0.0483</td><td>0.027</td><td>nan</td><td>nan</td></tr>\n",
       "<tr><td>59.2456272243</td><td>0.06408678366</td><td>12.2690942142</td><td>0.0386253296406</td><td>38291080850217088</td><td>10.0872576312</td><td>0.0715764</td><td>21.5822102954</td><td>0.137371</td><td>-114.547529231</td><td>0.0926993</td><td>0</td><td>16145.5</td><td>8.30504</td><td>15.168234</td><td>0.000558487470691</td><td>3080.79</td><td>12.9731</td><td>16.629734</td><td>0.00457198533527</td><td>20422.4</td><td>24.5983</td><td>13.986655</td><td>0.00130774445254</td><td>2.6430788</td><td>nan</td><td>nan</td><td>4055.095</td><td>0.1353</td><td>0.1063</td><td>nan</td><td>nan</td></tr>\n",
       "<tr><td>59.1425624591</td><td>0.0378283411337</td><td>12.37183076</td><td>0.0241876797598</td><td>38295753774630784</td><td>15.969817101</td><td>0.0423035</td><td>39.9452841041</td><td>0.0800702</td><td>-40.2411806576</td><td>0.0604176</td><td>0</td><td>104315.0</td><td>56.0913</td><td>13.142495</td><td>0.000583810183627</td><td>26759.2</td><td>63.6188</td><td>14.282707</td><td>0.00258129180225</td><td>117142.0</td><td>133.497</td><td>12.090142</td><td>0.00123732439818</td><td>2.192565</td><td>24.3523150218</td><td>0.958902</td><td>4010.9402</td><td>0.0447</td><td>0.028</td><td>nan</td><td>nan</td></tr>\n",
       "</table>"
      ],
      "text/plain": [
       "<Table length=3>\n",
       "      ra          ra_error         dec      ... radius_val lum_val\n",
       "     deg            mas            deg      ...   solRad    solLum\n",
       "   float64        float64        float64    ...  float32   float64\n",
       "------------- --------------- ------------- ... ---------- -------\n",
       "59.2256812428  0.067684196615 12.2388731852 ...        nan     nan\n",
       "59.2456272243   0.06408678366 12.2690942142 ...        nan     nan\n",
       "59.1425624591 0.0378283411337   12.37183076 ...        nan     nan"
      ]
     },
     "execution_count": 7,
     "metadata": {},
     "output_type": "execute_result"
    }
   ],
   "source": [
    "import astropy.table as table\n",
    "d = table.Table.read(input_path)\n",
    "d[0:3]"
   ]
  },
  {
   "cell_type": "code",
   "execution_count": 8,
   "metadata": {},
   "outputs": [
    {
     "name": "stdout",
     "output_type": "stream",
     "text": [
      "['ra', 'ra_error', 'dec', 'dec_error', 'source_id', 'parallax', 'parallax_error', 'pmra', 'pmra_error', 'pmdec', 'pmdec_error', 'duplicated_source', 'phot_g_mean_flux', 'phot_g_mean_flux_error', 'phot_g_mean_mag', 'phot_g_mean_mag_error', 'phot_bp_mean_flux', 'phot_bp_mean_flux_error', 'phot_bp_mean_mag', 'phot_bp_mean_mag_error', 'phot_rp_mean_flux', 'phot_rp_mean_flux_error', 'phot_rp_mean_mag', 'phot_rp_mean_mag_error', 'bp_rp', 'radial_velocity', 'radial_velocity_error', 'teff_val', 'a_g_val', 'e_bp_min_rp_val', 'radius_val', 'lum_val']\n"
     ]
    }
   ],
   "source": [
    "print(d.colnames)"
   ]
  },
  {
   "cell_type": "code",
   "execution_count": 9,
   "metadata": {},
   "outputs": [
    {
     "name": "stdout",
     "output_type": "stream",
     "text": [
      "Undefined mags for 0 targets\n",
      "Mag range:  3.16 < G < 20.99\n",
      "Targets brighter than G = 16: 1538/2523 (60.96%)\n"
     ]
    }
   ],
   "source": [
    "BRIGHT_TIME_BRIGHT_LIMIT = 16.0\n",
    "\n",
    "finite_mag                 = np.isfinite(d['phot_g_mean_mag'])\n",
    "brighter_than_bright_limit = (d['phot_g_mean_mag'] < BRIGHT_TIME_BRIGHT_LIMIT) & finite_mag\n",
    "fainter_than_bright_limit  = (d['phot_g_mean_mag'] > BRIGHT_TIME_BRIGHT_LIMIT) & finite_mag\n",
    "\n",
    "print('Undefined mags for {:d} targets'.format((~finite_mag).sum()))\n",
    "print('Mag range: {:5.2f} < G < {:5.2f}'.format(d['phot_g_mean_mag'][finite_mag].min() ,d['phot_g_mean_mag'][finite_mag].max()))\n",
    "print('Targets brighter than G = 16: {}/{} ({:3.2%})'.format(brighter_than_bright_limit.sum(),\n",
    "                                                             len(d),\n",
    "                                                             brighter_than_bright_limit.sum()/len(d)))\n",
    "\n",
    "verybright_time_targets = brighter_than_bright_limit"
   ]
  },
  {
   "cell_type": "code",
   "execution_count": 15,
   "metadata": {},
   "outputs": [
    {
     "data": {
      "image/png": "[encoded data removed]",
      "text/plain": [
       "<matplotlib.figure.Figure at 0x2aaae3373b00>"
      ]
     },
     "metadata": {},
     "output_type": "display_data"
    }
   ],
   "source": [
    "import matplotlib.pyplot as pl\n",
    "pl.hist(d['phot_g_mean_mag'][finite_mag],bins=np.arange(0,22,0.5));\n",
    "pl.xlabel('G');\n",
    "pl.axvline(BRIGHT_TIME_BRIGHT_LIMIT,c='r',alpha=0.5);"
   ]
  },
  {
   "cell_type": "markdown",
   "metadata": {},
   "source": [
    "Adjust to secondary target data model:"
   ]
  },
  {
   "cell_type": "code",
   "execution_count": 11,
   "metadata": {},
   "outputs": [],
   "source": [
    "output = d['ra','dec','pmra','pmdec','source_id'][verybright_time_targets]\n",
    "\n",
    "for cn_old,cn_new in zip(['ra','dec','source_id','pmra','pmdec'],['RA','DEC','REF_ID','PMRA','PMDEC']):\n",
    "    output.rename_column(cn_old,cn_new) \n",
    "\n",
    "output.add_column(Column(np.repeat(False,len(output)),'OVERRIDE'))\n",
    "#output.add_column(Column(np.zeros(len(output),dtype=np.float32),'PMRA'))\n",
    "#output.add_column(Column(np.zeros(len(output),dtype=np.float32),'PMDEC'))\n",
    "output.add_column(Column(np.repeat(REF_CAT,len(output)),'REF_CAT'))\n",
    "output.add_column(Column(np.repeat(REF_EPOCH,len(output)),'REF_EPOCH'))"
   ]
  },
  {
   "cell_type": "markdown",
   "metadata": {},
   "source": [
    "Add header:"
   ]
  },
  {
   "cell_type": "code",
   "execution_count": 12,
   "metadata": {},
   "outputs": [
    {
     "name": "stdout",
     "output_type": "stream",
     "text": [
      "1\n"
     ]
    }
   ],
   "source": [
    "output.meta['VRAWDATA'] = int(os.path.abspath(input_path).split(os.path.sep)[-3])\n",
    "print(output.meta['VRAWDATA'])"
   ]
  },
  {
   "cell_type": "code",
   "execution_count": 13,
   "metadata": {},
   "outputs": [
    {
     "data": {
      "text/html": [
       "&lt;Table length=3&gt;\n",
       "<table id=\"table46912677862704\" class=\"table-striped table-bordered table-condensed\">\n",
       "<thead><tr><th>RA</th><th>DEC</th><th>PMRA</th><th>PMDEC</th><th>REF_ID</th><th>OVERRIDE</th><th>REF_CAT</th><th>REF_EPOCH</th></tr></thead>\n",
       "<thead><tr><th>deg</th><th>deg</th><th>mas / yr</th><th>mas / yr</th><th></th><th></th><th></th><th></th></tr></thead>\n",
       "<thead><tr><th>float64</th><th>float64</th><th>float64</th><th>float64</th><th>int64</th><th>bool</th><th>str1</th><th>str6</th></tr></thead>\n",
       "<tr><td>59.2256812428</td><td>12.2388731852</td><td>56.1410907116</td><td>8.3598747581</td><td>38289878259378688</td><td>False</td><td>G</td><td>2015.5</td></tr>\n",
       "<tr><td>59.2456272243</td><td>12.2690942142</td><td>21.5822102954</td><td>-114.547529231</td><td>38291080850217088</td><td>False</td><td>G</td><td>2015.5</td></tr>\n",
       "<tr><td>59.1425624591</td><td>12.37183076</td><td>39.9452841041</td><td>-40.2411806576</td><td>38295753774630784</td><td>False</td><td>G</td><td>2015.5</td></tr>\n",
       "</table>"
      ],
      "text/plain": [
       "<Table length=3>\n",
       "      RA           DEC           PMRA     ... OVERRIDE REF_CAT REF_EPOCH\n",
       "     deg           deg         mas / yr   ...                           \n",
       "   float64       float64       float64    ...   bool     str1     str6  \n",
       "------------- ------------- ------------- ... -------- ------- ---------\n",
       "59.2256812428 12.2388731852 56.1410907116 ...    False       G    2015.5\n",
       "59.2456272243 12.2690942142 21.5822102954 ...    False       G    2015.5\n",
       "59.1425624591   12.37183076 39.9452841041 ...    False       G    2015.5"
      ]
     },
     "execution_count": 13,
     "metadata": {},
     "output_type": "execute_result"
    }
   ],
   "source": [
    "output[0:3]"
   ]
  },
  {
   "cell_type": "markdown",
   "metadata": {},
   "source": [
    "Write output:"
   ]
  },
  {
   "cell_type": "code",
   "execution_count": 14,
   "metadata": {},
   "outputs": [
    {
     "name": "stdout",
     "output_type": "stream",
     "text": [
      "Writing 1538 rows of output to /global/projecta/projectdirs/desi/external/mws/sv/MWS_SPECIAL_HYADES_VERYBRIGHT_SV/1/indata/MWS_SPECIAL_HYADES_VERYBRIGHT_SV.fits\n"
     ]
    }
   ],
   "source": [
    "print('Writing {:d} rows of output to {}'.format(len(output),os.path.abspath(output_path)))\n",
    "output.write(output_path,overwrite=True)"
   ]
  },
  {
   "cell_type": "code",
   "execution_count": null,
   "metadata": {},
   "outputs": [],
   "source": []
  }
 ],
 "metadata": {
  "kernelspec": {
   "display_name": "DESI master",
   "language": "python",
   "name": "desi-master"
  },
  "language_info": {
   "codemirror_mode": {
    "name": "ipython",
    "version": 3
   },
   "file_extension": ".py",
   "mimetype": "text/x-python",
   "name": "python",
   "nbconvert_exporter": "python",
   "pygments_lexer": "ipython3",
   "version": "3.6.6"
  }
 },
 "nbformat": 4,
 "nbformat_minor": 4
}
