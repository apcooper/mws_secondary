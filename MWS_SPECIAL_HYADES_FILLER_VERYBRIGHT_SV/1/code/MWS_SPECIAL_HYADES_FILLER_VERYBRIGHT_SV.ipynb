{
 "cells": [
  {
   "cell_type": "markdown",
   "metadata": {},
   "source": [
    "# MWS Secondary Target Selection"
   ]
  },
  {
   "cell_type": "markdown",
   "metadata": {},
   "source": [
    "## MWS_SPECIAL_HYADES_FILLER_SV"
   ]
  },
  {
   "cell_type": "markdown",
   "metadata": {},
   "source": [
    "Maintainers:\n",
    "  - Boris Gaensicke (selection/catalog)\n",
    "  - Andrew Cooper (secondary target code)"
   ]
  },
  {
   "cell_type": "code",
   "execution_count": 1,
   "metadata": {},
   "outputs": [
    {
     "name": "stdout",
     "output_type": "stream",
     "text": [
      "/global/projecta/projectdirs/desi/external/mws/sv/MWS_SPECIAL_HYADES_FILLER_VERYBRIGHT_SV/1/code\n",
      "Hyades_Filler_SV_Tiles.fits\n"
     ]
    }
   ],
   "source": [
    "!pwd\n",
    "!ls ../raw"
   ]
  },
  {
   "cell_type": "code",
   "execution_count": 2,
   "metadata": {},
   "outputs": [],
   "source": [
    "# Parameters\n",
    "\n",
    "target_class    = 'MWS_SPECIAL_HYADES_FILLER_VERYBRIGHT_SV'\n",
    "input_filename  = 'Hyades_Filler_SV_Tiles.fits'\n",
    "\n",
    "REF_CAT        = 'G'\n",
    "REF_EPOCH      = 2015.5\n",
    "\n",
    "SELECT_MAG     = 'phot_g_mean_mag'\n",
    "BRIGHT_LIMIT   = 8.0\n",
    "FAINT_LIMIT    = 16.0\n",
    "\n",
    "colmap = {\n",
    "    'ra':        'RA',\n",
    "    'dec':       'DEC',\n",
    "    'pmra':      'PMRA',\n",
    "    'pmdec':     'PMDEC',\n",
    "    'source_id': 'REF_ID'\n",
    "}"
   ]
  },
  {
   "cell_type": "markdown",
   "metadata": {},
   "source": [
    "Fillter targets for Hyades tiles."
   ]
  },
  {
   "cell_type": "code",
   "execution_count": 3,
   "metadata": {},
   "outputs": [
    {
     "name": "stdout",
     "output_type": "stream",
     "text": [
      "Reading input: /global/projecta/projectdirs/desi/external/mws/sv/MWS_SPECIAL_HYADES_FILLER_VERYBRIGHT_SV/1/raw/Hyades_Filler_SV_Tiles.fits\n",
      "Read 65040 rows\n",
      "First 3 rows:\n",
      "    solution_id             designation          ... lum_percentile_upper\n",
      "------------------- ---------------------------- ... --------------------\n",
      "1635721458409799680 Gaia DR2 3307869225948480128 ...                  nan\n",
      "1635721458409799680 Gaia DR2 3307892831088724736 ...                  nan\n",
      "1635721458409799680 Gaia DR2 3307869466466649472 ...                  nan\n",
      "\n",
      "Column names:\n",
      "['solution_id', 'designation', 'source_id', 'random_index', 'ref_epoch', 'ra', 'ra_error', 'dec', 'dec_error', 'parallax', 'parallax_error', 'parallax_over_error', 'pmra', 'pmra_error', 'pmdec', 'pmdec_error', 'ra_dec_corr', 'ra_parallax_corr', 'ra_pmra_corr', 'ra_pmdec_corr', 'dec_parallax_corr', 'dec_pmra_corr', 'dec_pmdec_corr', 'parallax_pmra_corr', 'parallax_pmdec_corr', 'pmra_pmdec_corr', 'astrometric_n_obs_al', 'astrometric_n_obs_ac', 'astrometric_n_good_obs_al', 'astrometric_n_bad_obs_al', 'astrometric_gof_al', 'astrometric_chi2_al', 'astrometric_excess_noise', 'astrometric_excess_noise_sig', 'astrometric_params_solved', 'astrometric_primary_flag', 'astrometric_weight_al', 'astrometric_pseudo_colour', 'astrometric_pseudo_colour_error', 'mean_varpi_factor_al', 'astrometric_matched_observations', 'visibility_periods_used', 'astrometric_sigma5d_max', 'frame_rotator_object_type', 'matched_observations', 'duplicated_source', 'phot_g_n_obs', 'phot_g_mean_flux', 'phot_g_mean_flux_error', 'phot_g_mean_flux_over_error', 'phot_g_mean_mag', 'phot_bp_n_obs', 'phot_bp_mean_flux', 'phot_bp_mean_flux_error', 'phot_bp_mean_flux_over_error', 'phot_bp_mean_mag', 'phot_rp_n_obs', 'phot_rp_mean_flux', 'phot_rp_mean_flux_error', 'phot_rp_mean_flux_over_error', 'phot_rp_mean_mag', 'phot_bp_rp_excess_factor', 'phot_proc_mode', 'bp_rp', 'bp_g', 'g_rp', 'radial_velocity', 'radial_velocity_error', 'rv_nb_transits', 'rv_template_teff', 'rv_template_logg', 'rv_template_fe_h', 'phot_variable_flag', 'l', 'b', 'ecl_lon', 'ecl_lat', 'priam_flags', 'teff_val', 'teff_percentile_lower', 'teff_percentile_upper', 'a_g_val', 'a_g_percentile_lower', 'a_g_percentile_upper', 'e_bp_min_rp_val', 'e_bp_min_rp_percentile_lower', 'e_bp_min_rp_percentile_upper', 'flame_flags', 'radius_val', 'radius_percentile_lower', 'radius_percentile_upper', 'lum_val', 'lum_percentile_lower', 'lum_percentile_upper']\n",
      "\n",
      "\n",
      "Mag range:  4.36 < phot_g_mean_mag < 18.00\n",
      "Mags not finite: 0\n",
      "Selecting 20249 targets from 65040 (31.13%)\n",
      "Selecting 65040 from 65040 (100.00%) on dec\n",
      "65040 of 65040 targets have unique source_id\n",
      "Removing 0 duplicates\n",
      "\n",
      "Writing 20249 rows of output to /global/projecta/projectdirs/desi/external/mws/sv/MWS_SPECIAL_HYADES_FILLER_VERYBRIGHT_SV/1/indata/MWS_SPECIAL_HYADES_FILLER_VERYBRIGHT_SV.fits\n",
      "        RA               DEC            PMRA    ... OVERRIDE REF_CAT REF_EPOCH\n",
      "----------------- ------------------ ---------- ... -------- ------- ---------\n",
      " 67.8922086235768 14.133186999953027  1.2236904 ...    False       G    2015.5\n",
      "67.82068571151751 14.121538627671134  2.5555465 ...    False       G    2015.5\n",
      " 67.5505133532982 14.271086513346168 -1.5820448 ...    False       G    2015.5\n"
     ]
    },
    {
     "name": "stderr",
     "output_type": "stream",
     "text": [
      "WARNING: VerifyWarning: Keyword name 'BRIGHT_LIMIT' is greater than 8 characters or contains characters not allowed by the FITS standard; a HIERARCH card will be created. [astropy.io.fits.card]\n",
      "WARNING: VerifyWarning: Keyword name 'FAINT_LIMIT' is greater than 8 characters or contains characters not allowed by the FITS standard; a HIERARCH card will be created. [astropy.io.fits.card]\n"
     ]
    }
   ],
   "source": [
    "from   importlib import reload\n",
    "import sys\n",
    "PYPATH = '/project/projectdirs/desi/external/mws/py/'\n",
    "if PYPATH not in sys.path: sys.path.append(PYPATH)\n",
    "import mwsecondary.mwsecondary as mws\n",
    "reload(mws)\n",
    "\n",
    "import os\n",
    "import sys\n",
    "import numpy as np\n",
    "\n",
    "targets = mws.SecondaryTargets(target_class,input_filename,ref_cat=REF_CAT,ref_epoch=REF_EPOCH)\n",
    "targets.print_info()\n",
    "mask    = targets.select_finite_mag_range(SELECT_MAG,faint_limit=FAINT_LIMIT,bright_limit=BRIGHT_LIMIT)\n",
    "mask   &= targets.select_finite_range('dec',lower_limit=-30.0,verbose=True)\n",
    "mask   &= targets.select_unique('source_id',verbose=True)\n",
    "\n",
    "# Adjust to secondary target data model and write output\n",
    "header = dict([(_,globals()[_]) for _ in ['BRIGHT_LIMIT','FAINT_LIMIT']])\n",
    "output = targets.get_output(mask,cols=colmap,write=True,header=header)\n",
    "print(output[0:3])"
   ]
  },
  {
   "cell_type": "code",
   "execution_count": null,
   "metadata": {},
   "outputs": [],
   "source": []
  }
 ],
 "metadata": {
  "kernelspec": {
   "display_name": "DESI master",
   "language": "python",
   "name": "desi-master"
  },
  "language_info": {
   "codemirror_mode": {
    "name": "ipython",
    "version": 3
   },
   "file_extension": ".py",
   "mimetype": "text/x-python",
   "name": "python",
   "nbconvert_exporter": "python",
   "pygments_lexer": "ipython3",
   "version": "3.6.6"
  }
 },
 "nbformat": 4,
 "nbformat_minor": 4
}
