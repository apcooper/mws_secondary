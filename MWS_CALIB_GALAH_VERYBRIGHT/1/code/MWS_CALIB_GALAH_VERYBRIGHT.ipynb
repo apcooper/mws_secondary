{
 "cells": [
  {
   "cell_type": "markdown",
   "metadata": {},
   "source": [
    "# MWS Secondary Target Selection"
   ]
  },
  {
   "cell_type": "markdown",
   "metadata": {},
   "source": [
    "## MWS_CALIB_GALAH_VERYBRIGHT"
   ]
  },
  {
   "cell_type": "markdown",
   "metadata": {},
   "source": [
    "Maintainers:\n",
    "  - Ting Li (selection/catalog)\n",
    "  - Andrew Cooper (secondary target code)"
   ]
  },
  {
   "cell_type": "code",
   "execution_count": 1,
   "metadata": {},
   "outputs": [
    {
     "name": "stdout",
     "output_type": "stream",
     "text": [
      "/global/projecta/projectdirs/desi/external/mws/sv/MWS_CALIB_GALAH_VERYBRIGHT/1/code\n",
      "galah_xm_gaia_4DESI_v0.fits\n"
     ]
    }
   ],
   "source": [
    "!pwd\n",
    "!ls ../raw"
   ]
  },
  {
   "cell_type": "code",
   "execution_count": 1,
   "metadata": {},
   "outputs": [],
   "source": [
    "# Parameters\n",
    "\n",
    "target_class   = 'MWS_CALIB_GALAH_VERYBRIGHT'\n",
    "input_filename = 'galah_xm_gaia_4DESI_v0.fits'\n",
    "\n",
    "OVERRIDE       = True\n",
    "REF_CAT        = 'G'\n",
    "REF_EPOCH      = 2015.5\n",
    "\n",
    "SELECT_MAG     = 'phot_g_mean_mag'\n",
    "BRIGHT_LIMIT   = 9.0\n",
    "FAINT_LIMIT    = 16.0\n",
    "\n",
    "colmap = {\n",
    "    'ra':        'RA',\n",
    "    'dec':       'DEC',\n",
    "    'pmra':      'PMRA',\n",
    "    'pmdec':     'PMDEC',\n",
    "    'source_id': 'REF_ID'\n",
    "}"
   ]
  },
  {
   "cell_type": "markdown",
   "metadata": {},
   "source": [
    "{ DESCRIPTION NEEDED }\n",
    "\n",
    "The selection criteria are:\n",
    "\n",
    "???"
   ]
  },
  {
   "cell_type": "raw",
   "metadata": {},
   "source": [
    "DATA MODEL REFERENCE:\n",
    "(see /project/projectdirs/desi/target/secondary/README for latest changes)\n",
    "\n",
    "(1) In $SCND_DIR/indata: .fits or .txt files defining the secondary\n",
    "      targets with columns corresponding to:\n",
    "    \n",
    "        ('RA', '>f8')\n",
    "        ('DEC', '>f8')\n",
    "        ('PMRA', '>f4')\n",
    "        ('PMDEC', '>f4')\n",
    "        ('REF_EPOCH', '>f4')\n",
    "        ('OVERRIDE', '?')\n",
    "\n",
    "      Units of these quantities are the same as for the Legacy Surveys\n",
    "      data model.\n",
    "\n",
    "      For .txt files the first N columns must correspond to the N columns\n",
    "      in secondary.indatamodel, and other columns can be anything. The #\n",
    "      may be used as a comment card. For objects with low proper motion\n",
    "      it is permissible to pass zeros for the proper motion columns. If\n",
    "      zero is passed for REF_EPOCH, it will be assumed to be 2015.5\n",
    "\n",
    "      For .fits files, a subset of the columns must correspond to the\n",
    "      columns in secondary.indatamodel, other columns can be anything.\n",
    "\n",
    "      Note that the OVERRIDE column in the data model means \"do not just\n",
    "      accept an existing target, override it and make a new TARGETID.\" It\n",
    "      should be True (override) or False (do not override) for each target.\n",
    "      In .txt files it should be 1 or 0 instead of True/False, and will be\n",
    "      loaded from the text file as the corresponding Boolean."
   ]
  },
  {
   "cell_type": "code",
   "execution_count": 2,
   "metadata": {},
   "outputs": [
    {
     "name": "stdout",
     "output_type": "stream",
     "text": [
      "Reading input: /global/projecta/projectdirs/desi/external/mws/sv/MWS_CALIB_GALAH_VERYBRIGHT/1/raw/galah_xm_gaia_4DESI_v0.fits\n",
      "Read 339064 rows\n",
      "First 3 rows:\n",
      "        fe_h        phot_g_mean_mag ...      source_id        ebv   \n",
      "------------------- --------------- ... ------------------- --------\n",
      " 0.0877856296106319         12.7933 ... 6780180582017233280 0.089525\n",
      " -0.117206793266491         13.0403 ... 6780180341499057920 0.091186\n",
      "-0.0519457608846025         12.2593 ... 6777178258141944832 0.089088\n",
      "\n",
      "Column names:\n",
      "['fe_h', 'phot_g_mean_mag', 'phot_bp_mean_mag', 'phot_rp_mean_mag', 'pmra', 'pmdec', 'ra', 'dec', 'source_id', 'ebv']\n",
      "\n",
      "\n",
      "Mag range:  7.89 < phot_g_mean_mag < 20.55\n",
      "Mags not finite: 0\n",
      "Selecting 337622 targets from 339064 (99.57%)\n",
      "Selecting 89881 from 339064 (26.51%) on dec\n",
      "339064 of 339064 targets have unique source_id\n",
      "Removing 0 duplicates\n",
      "\n",
      "Writing 89549 rows of output to /global/projecta/projectdirs/desi/external/mws/sv/MWS_CALIB_GALAH_VERYBRIGHT/1/indata/MWS_CALIB_GALAH_VERYBRIGHT.fits\n",
      "       RA               DEC           PMRA   ... OVERRIDE REF_CAT REF_EPOCH\n",
      "---------------- ----------------- --------- ... -------- ------- ---------\n",
      "316.309977455055 -29.9924865929589 6.0429106 ...     True       G    2015.5\n",
      "316.266959004279 -29.9308042375108 3.4992938 ...     True       G    2015.5\n",
      "316.343122093297 -29.9529895739321 8.1552105 ...     True       G    2015.5\n"
     ]
    },
    {
     "name": "stderr",
     "output_type": "stream",
     "text": [
      "WARNING: VerifyWarning: Keyword name 'BRIGHT_LIMIT' is greater than 8 characters or contains characters not allowed by the FITS standard; a HIERARCH card will be created. [astropy.io.fits.card]\n",
      "WARNING: VerifyWarning: Keyword name 'FAINT_LIMIT' is greater than 8 characters or contains characters not allowed by the FITS standard; a HIERARCH card will be created. [astropy.io.fits.card]\n"
     ]
    }
   ],
   "source": [
    "from   importlib import reload\n",
    "import sys\n",
    "PYPATH = '/project/projectdirs/desi/external/mws/py/'\n",
    "if PYPATH not in sys.path: sys.path.append(PYPATH)\n",
    "import mwsecondary.mwsecondary as mws\n",
    "reload(mws)\n",
    "\n",
    "import os\n",
    "import sys\n",
    "import numpy as np\n",
    "\n",
    "targets = mws.SecondaryTargets(target_class,input_filename,ref_cat=REF_CAT,ref_epoch=REF_EPOCH)\n",
    "targets.print_info()\n",
    "mask    = targets.select_finite_mag_range(SELECT_MAG,faint_limit=FAINT_LIMIT,bright_limit=BRIGHT_LIMIT)\n",
    "mask   &= targets.select_finite_range('dec',lower_limit=-30.0,verbose=True)\n",
    "mask   &= targets.select_unique('source_id',verbose=True)\n",
    "\n",
    "# Adjust to secondary target data model and write output\n",
    "header = dict([(_,globals()[_]) for _ in ['BRIGHT_LIMIT','FAINT_LIMIT']])\n",
    "output = targets.get_output(mask,cols=colmap,write=True,header=header,override=OVERRIDE)\n",
    "print(output[0:3])"
   ]
  },
  {
   "cell_type": "code",
   "execution_count": null,
   "metadata": {},
   "outputs": [],
   "source": []
  },
  {
   "cell_type": "code",
   "execution_count": null,
   "metadata": {},
   "outputs": [],
   "source": []
  }
 ],
 "metadata": {
  "kernelspec": {
   "display_name": "Python 3",
   "language": "python",
   "name": "python3"
  },
  "language_info": {
   "codemirror_mode": {
    "name": "ipython",
    "version": 3
   },
   "file_extension": ".py",
   "mimetype": "text/x-python",
   "name": "python",
   "nbconvert_exporter": "python",
   "pygments_lexer": "ipython3",
   "version": "3.7.3"
  }
 },
 "nbformat": 4,
 "nbformat_minor": 4
}
