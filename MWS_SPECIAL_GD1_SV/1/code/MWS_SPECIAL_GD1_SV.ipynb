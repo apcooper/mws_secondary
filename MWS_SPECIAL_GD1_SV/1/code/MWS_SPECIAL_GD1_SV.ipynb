{
 "cells": [
  {
   "cell_type": "markdown",
   "metadata": {},
   "source": [
    "# MWS Secondary Target Selection"
   ]
  },
  {
   "cell_type": "markdown",
   "metadata": {},
   "source": [
    "## MWS_SPECIAL_GD1_SV"
   ]
  },
  {
   "cell_type": "markdown",
   "metadata": {},
   "source": [
    "Maintainers:\n",
    "  - Sergey Koposov (selection/catalog)\n",
    "  - Andrew Cooper (secondary target code)"
   ]
  },
  {
   "cell_type": "markdown",
   "metadata": {},
   "source": [
    "Gaia G < 20\n",
    " "
   ]
  },
  {
   "cell_type": "code",
   "execution_count": 4,
   "metadata": {},
   "outputs": [
    {
     "name": "stdout",
     "output_type": "stream",
     "text": [
      "/global/projecta/projectdirs/desi/external/mws/sv/MWS_SPECIAL_GD1_SV/1/code\n",
      "gd1sel_desi.fits\n"
     ]
    }
   ],
   "source": [
    "!pwd\n",
    "!ls ../raw"
   ]
  },
  {
   "cell_type": "code",
   "execution_count": 19,
   "metadata": {},
   "outputs": [],
   "source": [
    "# Parameters\n",
    "\n",
    "target_class   = 'MWS_SPECIAL_GD1_SV'\n",
    "input_filename = 'gd1sel_desi.fits'\n",
    "\n",
    "REF_CAT        = 'G'\n",
    "REF_EPOCH      = 2015.5\n",
    "BRIGHT_LIMIT   = 16.0\n",
    "FAINT_LIMIT    = 20.0\n",
    "\n",
    "SELECT_MAG     = 'gaia_phot_g_mean_mag'\n",
    "colmap = {\n",
    "    'ra':        'RA',\n",
    "    'dec':       'DEC',\n",
    "    'pmra':      'PMRA',\n",
    "    'pmdec':     'PMDEC',\n",
    "    'source_id': 'REF_ID'\n",
    "}"
   ]
  },
  {
   "cell_type": "code",
   "execution_count": 20,
   "metadata": {},
   "outputs": [
    {
     "name": "stdout",
     "output_type": "stream",
     "text": [
      "Reading input: /global/projecta/projectdirs/desi/external/mws/sv/MWS_SPECIAL_GD1_SV/1/raw/gd1sel_desi.fits\n",
      "Read 3439 rows\n",
      "First 3 rows:\n",
      "       ra              dec        ...   pmdec    gaia_phot_g_mean_mag\n",
      "---------------- ---------------- ... ---------- --------------------\n",
      "237.802014023855 56.2836036192811 ...   -1.40171              20.0091\n",
      "237.689150196743 56.2433901836614 ...   0.705608              19.0627\n",
      "237.698122052681 56.2864546183086 ... -0.0805022              18.1484\n",
      "\n",
      "Column names:\n",
      "['ra', 'dec', 'source_id', 'pmra', 'pmdec', 'gaia_phot_g_mean_mag']\n",
      "\n",
      "\n",
      "Mag range: 12.17 < gaia_phot_g_mean_mag < 20.27\n",
      "Mags not finite: 0\n",
      "Selecting 3150 targets from 3439 (91.60%)\n",
      "Selecting 3439 from 3439 (100.00%) on dec\n",
      "3439 of 3439 targets have unique source_id\n",
      "Removing 0 duplicates\n",
      "\n",
      "Writing 3150 rows of output to /global/projecta/projectdirs/desi/external/mws/sv/MWS_SPECIAL_GD1_SV/1/indata/MWS_SPECIAL_GD1_SV.fits\n",
      "       RA              DEC          PMRA   ... OVERRIDE REF_CAT REF_EPOCH\n",
      "---------------- ---------------- -------- ... -------- ------- ---------\n",
      "237.689150196743 56.2433901836614 -5.17052 ...    False       G    2015.5\n",
      "237.698122052681 56.2864546183086 -5.37807 ...    False       G    2015.5\n",
      "237.105881798353 55.3932407435119 -5.19773 ...    False       G    2015.5\n"
     ]
    }
   ],
   "source": [
    "from   importlib import reload\n",
    "import sys\n",
    "PYPATH = '/project/projectdirs/desi/external/mws/py/'\n",
    "if PYPATH not in sys.path: sys.path.append(PYPATH)\n",
    "import mwsecondary.mwsecondary as mws\n",
    "reload(mws)\n",
    "\n",
    "import os\n",
    "import sys\n",
    "import numpy as np\n",
    "\n",
    "targets = mws.SecondaryTargets(target_class,input_filename,ref_cat=REF_CAT,ref_epoch=REF_EPOCH)\n",
    "targets.print_info()\n",
    "\n",
    "mask = np.repeat(True,len(targets.data))\n",
    "mask &= targets.select_finite_mag_range(SELECT_MAG,faint_limit=FAINT_LIMIT,bright_limit=BRIGHT_LIMIT)\n",
    "mask &= targets.select_finite_range('dec',lower_limit=-30.0,verbose=True)\n",
    "mask &= targets.select_unique('source_id',verbose=True)\n",
    "\n",
    "# Adjust to secondary target data model and write output\n",
    "output = targets.get_output(mask,cols=colmap,write=True)\n",
    "print(output[0:3])"
   ]
  },
  {
   "cell_type": "code",
   "execution_count": null,
   "metadata": {},
   "outputs": [],
   "source": []
  },
  {
   "cell_type": "code",
   "execution_count": null,
   "metadata": {},
   "outputs": [],
   "source": []
  }
 ],
 "metadata": {
  "kernelspec": {
   "display_name": "DESI master",
   "language": "python",
   "name": "desi-master"
  },
  "language_info": {
   "codemirror_mode": {
    "name": "ipython",
    "version": 3
   },
   "file_extension": ".py",
   "mimetype": "text/x-python",
   "name": "python",
   "nbconvert_exporter": "python",
   "pygments_lexer": "ipython3",
   "version": "3.6.6"
  }
 },
 "nbformat": 4,
 "nbformat_minor": 4
}
