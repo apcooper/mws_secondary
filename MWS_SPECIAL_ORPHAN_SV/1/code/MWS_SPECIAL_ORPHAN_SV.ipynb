{
 "cells": [
  {
   "cell_type": "markdown",
   "metadata": {},
   "source": [
    "# MWS Secondary Target Selection"
   ]
  },
  {
   "cell_type": "markdown",
   "metadata": {},
   "source": [
    "## MWS_SPECIAL_ORPHAN_SV"
   ]
  },
  {
   "cell_type": "markdown",
   "metadata": {},
   "source": [
    "Maintainers:\n",
    "  - Sergey Koposov (selection/catalog)\n",
    "  - Andrew Cooper (secondary target code)"
   ]
  },
  {
   "cell_type": "markdown",
   "metadata": {},
   "source": [
    "Gaia G < 20\n",
    " "
   ]
  },
  {
   "cell_type": "code",
   "execution_count": 7,
   "metadata": {},
   "outputs": [
    {
     "name": "stdout",
     "output_type": "stream",
     "text": [
      "/global/projecta/projectdirs/desi/external/mws/sv/MWS_SPECIAL_ORPHAN_SV/1/code\n",
      "Orphan_selection.ipynb\torphan_sel.fits\n"
     ]
    }
   ],
   "source": [
    "!pwd\n",
    "!ls ../raw"
   ]
  },
  {
   "cell_type": "code",
   "execution_count": 8,
   "metadata": {},
   "outputs": [],
   "source": [
    "# Parameters\n",
    "\n",
    "target_class   = 'MWS_SPECIAL_ORPHAN_SV'\n",
    "input_filename = 'orphan_sel.fits'\n",
    "\n",
    "REF_CAT        = 'G'\n",
    "REF_EPOCH      = 2015.5\n",
    "#BRIGHT_LIMIT   = 16.0\n",
    "#FAINT_LIMIT    = 20.0\n",
    "\n",
    "#SELECT_MAG     = 'gaia_phot_g_mean_mag'\n",
    "colmap = {\n",
    "    'ra':        'RA',\n",
    "    'dec':       'DEC',\n",
    "    'pmra':      'PMRA',\n",
    "    'pmdec':     'PMDEC',\n",
    "    'source_id': 'REF_ID'\n",
    "}"
   ]
  },
  {
   "cell_type": "code",
   "execution_count": 9,
   "metadata": {},
   "outputs": [
    {
     "name": "stdout",
     "output_type": "stream",
     "text": [
      "Reading input: /global/projecta/projectdirs/desi/external/mws/sv/MWS_SPECIAL_ORPHAN_SV/1/raw/orphan_sel.fits\n",
      "Read 2255 rows\n",
      "First 3 rows:\n",
      "       ra               dec           pmra    pmdec        source_id     \n",
      "---------------- ----------------- --------- -------- -------------------\n",
      "150.558426290718 0.012780312203074  -1.48853 0.572315 3833360978578678016\n",
      "150.131757576195 0.877130287987919  -1.80176 0.763524 3833653899643278336\n",
      "150.063058279013  1.10421434527908 -0.309149 0.950156 3834435819914061056\n",
      "\n",
      "Column names:\n",
      "['ra', 'dec', 'pmra', 'pmdec', 'source_id']\n",
      "\n",
      "Selecting 2255 from 2255 (100.00%) on dec\n",
      "2255 of 2255 targets have unique source_id\n",
      "Removing 0 duplicates\n",
      "\n",
      "Writing 2255 rows of output to /global/projecta/projectdirs/desi/external/mws/sv/MWS_SPECIAL_ORPHAN_SV/1/indata/MWS_SPECIAL_ORPHAN_SV.fits\n",
      "       RA               DEC           PMRA   ... OVERRIDE REF_CAT REF_EPOCH\n",
      "---------------- ----------------- --------- ... -------- ------- ---------\n",
      "150.558426290718 0.012780312203074  -1.48853 ...    False       G    2015.5\n",
      "150.131757576195 0.877130287987919  -1.80176 ...    False       G    2015.5\n",
      "150.063058279013  1.10421434527908 -0.309149 ...    False       G    2015.5\n"
     ]
    }
   ],
   "source": [
    "from   importlib import reload\n",
    "import sys\n",
    "PYPATH = '/project/projectdirs/desi/external/mws/py/'\n",
    "if PYPATH not in sys.path: sys.path.append(PYPATH)\n",
    "import mwsecondary.mwsecondary as mws\n",
    "reload(mws)\n",
    "\n",
    "import os\n",
    "import sys\n",
    "import numpy as np\n",
    "\n",
    "targets = mws.SecondaryTargets(target_class,input_filename,ref_cat=REF_CAT,ref_epoch=REF_EPOCH)\n",
    "targets.print_info()\n",
    "\n",
    "mask = np.repeat(True,len(targets.data))\n",
    "#mask &= targets.select_finite_mag_range(SELECT_MAG,faint_limit=FAINT_LIMIT,bright_limit=BRIGHT_LIMIT)\n",
    "mask &= targets.select_finite_range('dec',lower_limit=-30.0,verbose=True)\n",
    "mask &= targets.select_unique('source_id',verbose=True)\n",
    "\n",
    "# Adjust to secondary target data model and write output\n",
    "output = targets.get_output(mask,cols=colmap,write=True)\n",
    "print(output[0:3])"
   ]
  },
  {
   "cell_type": "code",
   "execution_count": null,
   "metadata": {},
   "outputs": [],
   "source": []
  },
  {
   "cell_type": "code",
   "execution_count": null,
   "metadata": {},
   "outputs": [],
   "source": []
  }
 ],
 "metadata": {
  "kernelspec": {
   "display_name": "DESI master",
   "language": "python",
   "name": "desi-master"
  },
  "language_info": {
   "codemirror_mode": {
    "name": "ipython",
    "version": 3
   },
   "file_extension": ".py",
   "mimetype": "text/x-python",
   "name": "python",
   "nbconvert_exporter": "python",
   "pygments_lexer": "ipython3",
   "version": "3.6.6"
  }
 },
 "nbformat": 4,
 "nbformat_minor": 4
}
