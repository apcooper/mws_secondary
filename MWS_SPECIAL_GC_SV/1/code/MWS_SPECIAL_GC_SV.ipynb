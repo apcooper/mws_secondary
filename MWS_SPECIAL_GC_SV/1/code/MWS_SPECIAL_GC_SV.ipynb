{
 "cells": [
  {
   "cell_type": "markdown",
   "metadata": {},
   "source": [
    "# MWS Secondary Target Selection"
   ]
  },
  {
   "cell_type": "markdown",
   "metadata": {},
   "source": [
    "## MWS_SPECIAL_GC_SV"
   ]
  },
  {
   "cell_type": "markdown",
   "metadata": {},
   "source": [
    "Maintainers:\n",
    "  - Ting Li (selection/catalog)\n",
    "  - Andrew Cooper (secondary target code)"
   ]
  },
  {
   "cell_type": "markdown",
   "metadata": {},
   "source": [
    "Membership probability is calculated by Vasiliev 2018 for 150 GC (based on the spatial distribution and proper motion) in https://arxiv.org/abs/1807.09775\n",
    "\n",
    "In this catalog we merge all the stars with membership probability > 0.5 into one list (0.5 is an arbitrary pick and we can easily change to a higher or lower threshold)."
   ]
  },
  {
   "cell_type": "raw",
   "metadata": {},
   "source": [
    "DATA MODEL REFERENCE:\n",
    "(see /project/projectdirs/desi/target/secondary/README for latest changes)\n",
    "\n",
    "(1) In $SCND_DIR/indata: .fits or .txt files defining the secondary\n",
    "      targets with columns corresponding to:\n",
    "    \n",
    "        ('RA', '>f8')\n",
    "        ('DEC', '>f8')\n",
    "        ('PMRA', '>f4')\n",
    "        ('PMDEC', '>f4')\n",
    "        ('REF_EPOCH', '>f4')\n",
    "        ('OVERRIDE', '?')\n",
    "\n",
    "      Units of these quantities are the same as for the Legacy Surveys\n",
    "      data model.\n",
    "\n",
    "      For .txt files the first N columns must correspond to the N columns\n",
    "      in secondary.indatamodel, and other columns can be anything. The #\n",
    "      may be used as a comment card. For objects with low proper motion\n",
    "      it is permissible to pass zeros for the proper motion columns. If\n",
    "      zero is passed for REF_EPOCH, it will be assumed to be 2015.5\n",
    "\n",
    "      For .fits files, a subset of the columns must correspond to the\n",
    "      columns in secondary.indatamodel, other columns can be anything.\n",
    "\n",
    "      Note that the OVERRIDE column in the data model means \"do not just\n",
    "      accept an existing target, override it and make a new TARGETID.\" It\n",
    "      should be True (override) or False (do not override) for each target.\n",
    "      In .txt files it should be 1 or 0 instead of True/False, and will be\n",
    "      loaded from the text file as the corresponding Boolean."
   ]
  },
  {
   "cell_type": "code",
   "execution_count": 11,
   "metadata": {},
   "outputs": [
    {
     "name": "stdout",
     "output_type": "stream",
     "text": [
      "/global/projecta/projectdirs/desi/external/mws/sv/MWS_SPECIAL_GC_SV/1/code\n",
      "gc_p0_5_gaia_4DESI_v0.fits\n"
     ]
    }
   ],
   "source": [
    "!pwd\n",
    "!ls ../raw"
   ]
  },
  {
   "cell_type": "code",
   "execution_count": 1,
   "metadata": {},
   "outputs": [],
   "source": [
    "# Parameters\n",
    "\n",
    "target_class   = 'MWS_SPECIAL_GC_SV'\n",
    "input_filename = 'gc_p0_5_gaia_4DESI_v0.fits'\n",
    "\n",
    "REF_CAT        = '?'\n",
    "REF_EPOCH      = 2015.5\n",
    "BRIGHT_LIMIT   = 16.0\n",
    "FAINT_LIMIT    = 20.0\n",
    "\n",
    "SELECT_MAG     = 'phot_g_mean_mag'\n",
    "\n",
    "colmap = {\n",
    "    'ra':        'RA',\n",
    "    'dec':       'DEC',\n",
    "    'source_id': 'REF_ID'\n",
    "}"
   ]
  },
  {
   "cell_type": "code",
   "execution_count": 2,
   "metadata": {},
   "outputs": [
    {
     "name": "stdout",
     "output_type": "stream",
     "text": [
      "Reading input: /global/projecta/projectdirs/desi/external/mws/sv/MWS_SPECIAL_GC_SV/1/raw/gc_p0_5_gaia_4DESI_v0.fits\n",
      "Read 183758 rows\n",
      "First 3 rows:\n",
      "    source_id             ra              dec        ...   ebv   memberprob\n",
      "------------------ ---------------- ---------------- ... ------- ----------\n",
      "159501173974695040 71.5000241420384 31.3407135079063 ... 1.16956   0.759413\n",
      "159501547636737024 71.5102834721046 31.3441511214088 ... 1.17215  0.8645645\n",
      "159501581996498688 71.5242665415407 31.3625396867982 ... 1.18219  0.9918003\n",
      "\n",
      "Column names:\n",
      "['source_id', 'ra', 'dec', 'pmra', 'pmdec', 'phot_g_mean_mag', 'phot_bp_mean_mag', 'phot_rp_mean_mag', 'ebv', 'memberprob']\n",
      "\n",
      "\n",
      "Mag range:  9.34 < phot_g_mean_mag < 21.00\n",
      "Mags not finite: 0\n",
      "Selecting 146123 targets from 183758 (79.52%)\n",
      "Selecting 70583 from 183758 (38.41%) on dec\n",
      "183758 of 183758 targets have unique source_id\n",
      "Removing 0 duplicates\n",
      "\n",
      "Writing 53328 rows of output to /global/projecta/projectdirs/desi/external/mws/sv/MWS_SPECIAL_GC_SV/1/indata/MWS_SPECIAL_GC_SV.fits\n",
      "       RA              DEC              REF_ID       ... PMDEC REF_CAT REF_EPOCH\n",
      "---------------- ---------------- ------------------ ... ----- ------- ---------\n",
      "71.5000241420384 31.3407135079063 159501173974695040 ...   0.0       ?    2015.5\n",
      "71.5102834721046 31.3441511214088 159501547636737024 ...   0.0       ?    2015.5\n",
      "71.5242665415407 31.3625396867982 159501581996498688 ...   0.0       ?    2015.5\n"
     ]
    }
   ],
   "source": [
    "from   importlib import reload\n",
    "import sys\n",
    "PYPATH = '/project/projectdirs/desi/external/mws/py/'\n",
    "if PYPATH not in sys.path: sys.path.append(PYPATH)\n",
    "import mwsecondary.mwsecondary as mws\n",
    "reload(mws)\n",
    "\n",
    "import os\n",
    "import sys\n",
    "import numpy as np\n",
    "\n",
    "targets = mws.SecondaryTargets(target_class,input_filename,ref_cat=REF_CAT,ref_epoch=REF_EPOCH)\n",
    "targets.print_info()\n",
    "\n",
    "mask = np.repeat(True,len(targets.data))\n",
    "mask &= targets.select_finite_mag_range(SELECT_MAG,faint_limit=FAINT_LIMIT,bright_limit=BRIGHT_LIMIT)\n",
    "mask &= targets.select_finite_range('dec',lower_limit=-30.0,verbose=True)\n",
    "mask &= targets.select_unique('source_id',verbose=True)\n",
    "\n",
    "# Adjust to secondary target data model and write output\n",
    "output = targets.get_output(mask,cols=colmap,write=True)\n",
    "print(output[0:3])"
   ]
  },
  {
   "cell_type": "code",
   "execution_count": null,
   "metadata": {},
   "outputs": [],
   "source": []
  },
  {
   "cell_type": "code",
   "execution_count": null,
   "metadata": {},
   "outputs": [],
   "source": []
  }
 ],
 "metadata": {
  "kernelspec": {
   "display_name": "DESI master",
   "language": "python",
   "name": "desi-master"
  },
  "language_info": {
   "codemirror_mode": {
    "name": "ipython",
    "version": 3
   },
   "file_extension": ".py",
   "mimetype": "text/x-python",
   "name": "python",
   "nbconvert_exporter": "python",
   "pygments_lexer": "ipython3",
   "version": "3.6.6"
  }
 },
 "nbformat": 4,
 "nbformat_minor": 4
}
