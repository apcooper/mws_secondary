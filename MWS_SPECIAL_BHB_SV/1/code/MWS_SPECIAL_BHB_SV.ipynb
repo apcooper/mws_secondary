{
 "cells": [
  {
   "cell_type": "markdown",
   "metadata": {},
   "source": [
    "# MWS Secondary Target Selection"
   ]
  },
  {
   "cell_type": "markdown",
   "metadata": {},
   "source": [
    "## MWS_SPECIAL_BHB_SV"
   ]
  },
  {
   "cell_type": "markdown",
   "metadata": {},
   "source": [
    "Maintainers:\n",
    "  - Sergey Koposov (selection/catalog)\n",
    "  - Andrew Cooper (secondary target code)\n",
    "  \n",
    "See `/project/projectdirs/desi/target/secondary/README` for output data model."
   ]
  },
  {
   "cell_type": "code",
   "execution_count": 1,
   "metadata": {},
   "outputs": [
    {
     "name": "stdout",
     "output_type": "stream",
     "text": [
      "/global/projecta/projectdirs/desi/external/mws/sv/MWS_SPECIAL_RRLYR_SV/1/code\n",
      "gaiarr_source_ids_pos_pm.fits\n"
     ]
    }
   ],
   "source": [
    "!pwd\n",
    "!ls ../raw"
   ]
  },
  {
   "cell_type": "code",
   "execution_count": 3,
   "metadata": {},
   "outputs": [],
   "source": [
    "# Parameters\n",
    "\n",
    "target_class   = 'MWS_SPECIAL_BHB_SV'\n",
    "input_filename = 'bhb_191127.fits'\n",
    "\n",
    "REF_CAT        = 'G'\n",
    "REF_EPOCH      = 2015.5\n",
    "\n",
    "colmap = {\n",
    "    'ra':        'RA',\n",
    "    'dec':       'DEC',\n",
    "    'pmra':      'PMRA',\n",
    "    'pmdec':     'PMDEC',\n",
    "    'source_id': 'REF_ID'\n",
    "}"
   ]
  },
  {
   "cell_type": "markdown",
   "metadata": {},
   "source": [
    "See:\n",
    "https://github.com/segasai/mynotebooks/blob/master/desi_bhb_sel/BhbSel.ipynb\n",
    "\n",
    "```sql\n",
    "with x as ( \n",
    " select ref_id as source_id,ref_epoch,gaia_phot_g_mean_mag,ebv,ra,dec,\n",
    "       flux_g,flux_r,flux_z,pmra,pmdec,parallax,parallax_ivar,  \n",
    "       -2.5*log(flux_g/flux_r)-(3.237-2.176)*ebv as gr,\n",
    "       -2.5*log(flux_r/flux_z) -(2.176-1.217)*ebv as rz,\n",
    "       22.5-2.5*log(flux_g) - 3.237*ebv as g,\n",
    "       22.5-2.5*log(flux_r) - 2.176*ebv as r,\n",
    "       22.5-2.5*log(greatest(flux_w1 \n",
    "         -3/sqrt(greatest(flux_ivar_w1,1e-30)),1e-30))-  0.19*ebv as w1_faint\n",
    "       from decals_dr8.main as d where \n",
    "       flux_g>0 and flux_r>0 and flux_z>0 and         \n",
    "       type='PSF' and \n",
    "       brick_primary and\n",
    "       gaia_phot_g_mean_mag>10 and \n",
    "        (parallax)<0.1+3*sqrt(parallax_ivar) and \n",
    "       -2.5*log(flux_g/flux_r)-(3.237-2.176)*ebv  between -0.35 and -0.02\n",
    "       and fracmasked_g<0.5 and fracmasked_r<0.5 and fracmasked_z<0.5\n",
    "       and not gaia_duplicated_source\n",
    "       and gaia_astrometric_excess_noise<3\n",
    "       and 22.5-2.5*log(flux_r) between 15 and 20\n",
    "       ) \n",
    "select * from x  where  \n",
    "       rz- (1.07163*gr^5-1.42272*gr^4+0.69476*gr^3\n",
    "       -0.12911*gr^2+0.66993*gr-0.11368) between -0.1 and 0.05\n",
    "       and r-2.3*(gr) -w1_faint < -1.5\n",
    "```"
   ]
  },
  {
   "cell_type": "code",
   "execution_count": 4,
   "metadata": {},
   "outputs": [
    {
     "name": "stdout",
     "output_type": "stream",
     "text": [
      "Reading input: /global/projecta/projectdirs/desi/external/mws/sv/MWS_SPECIAL_BHB_SV/1/raw/bhb_191127.fits\n",
      "Read 84472 rows\n",
      "First 3 rows:\n",
      "     source_id             ra        ...  parallax gaia_phot_g_mean_mag\n",
      "------------------- ---------------- ... --------- --------------------\n",
      "4696633981847723904 36.7215534719594 ... 0.0959313               15.518\n",
      "4696663286409415040 36.8859609931906 ... 0.0286209              18.2441\n",
      "4696667409577705472 37.4562851342577 ... -0.453419              19.7155\n",
      "\n",
      "Column names:\n",
      "['source_id', 'ra', 'dec', 'pmra', 'pmdec', 'parallax', 'gaia_phot_g_mean_mag']\n",
      "\n",
      "Selecting 64576 from 84472 (76.45%) on dec\n",
      "83764 of 84472 targets have unique source_id\n",
      "Removing 708 duplicates\n",
      "\n",
      "Writing 63868 rows of output to /global/projecta/projectdirs/desi/external/mws/sv/MWS_SPECIAL_BHB_SV/1/indata/MWS_SPECIAL_BHB_SV.fits\n",
      "       RA              DEC          PMRA   ... OVERRIDE REF_CAT REF_EPOCH\n",
      "---------------- ---------------- -------- ... -------- ------- ---------\n",
      "285.859806302884 43.9383971596483 -1.12476 ...    False       G    2015.5\n",
      "286.587572420293 45.3646867519986 -1.68025 ...    False       G    2015.5\n",
      "284.998615272266  44.094086031266  -1.1107 ...    False       G    2015.5\n"
     ]
    }
   ],
   "source": [
    "from   importlib import reload\n",
    "import sys\n",
    "PYPATH = '/project/projectdirs/desi/external/mws/py/'\n",
    "if PYPATH not in sys.path: sys.path.append(PYPATH)\n",
    "import mwsecondary.mwsecondary as mws\n",
    "reload(mws)\n",
    "\n",
    "import os\n",
    "import sys\n",
    "import numpy as np\n",
    "\n",
    "targets = mws.SecondaryTargets(target_class,input_filename,ref_cat=REF_CAT,ref_epoch=REF_EPOCH)\n",
    "targets.print_info()\n",
    "mask    = np.repeat(True,len(targets.data))\n",
    "mask   &= targets.select_finite_range('dec',lower_limit=-30.0,verbose=True)\n",
    "mask   &= targets.select_unique('source_id',verbose=True)\n",
    "\n",
    "# Adjust to secondary target data model and write output\n",
    "output = targets.get_output(mask,cols=colmap,write=True)\n",
    "print(output[0:3])"
   ]
  },
  {
   "cell_type": "code",
   "execution_count": 12,
   "metadata": {},
   "outputs": [
    {
     "data": {
      "text/html": [
       "&lt;Table length=1&gt;\n",
       "<table id=\"table46913210474568\" class=\"table-striped table-bordered table-condensed\">\n",
       "<thead><tr><th>source_id</th><th>ra</th><th>dec</th><th>pmra</th><th>pmdec</th><th>parallax</th><th>gaia_phot_g_mean_mag</th></tr></thead>\n",
       "<thead><tr><th>int64</th><th>float64</th><th>float64</th><th>float32</th><th>float32</th><th>float32</th><th>float32</th></tr></thead>\n",
       "<tr><td>5290005801</td><td>44.8884646351618</td><td>-10.7845516375608</td><td>-19.7</td><td>-54.4</td><td>0.0</td><td>12.413</td></tr>\n",
       "</table>"
      ],
      "text/plain": [
       "<Table length=1>\n",
       "source_id         ra               dec        ... parallax gaia_phot_g_mean_mag\n",
       "  int64        float64           float64      ... float32        float32       \n",
       "---------- ---------------- ----------------- ... -------- --------------------\n",
       "5290005801 44.8884646351618 -10.7845516375608 ...      0.0               12.413"
      ]
     },
     "execution_count": 12,
     "metadata": {},
     "output_type": "execute_result"
    }
   ],
   "source": [
    "targets.data[(targets.data['gaia_phot_g_mean_mag'] < 14.0)]"
   ]
  }
 ],
 "metadata": {
  "kernelspec": {
   "display_name": "DESI master",
   "language": "python",
   "name": "desi-master"
  },
  "language_info": {
   "codemirror_mode": {
    "name": "ipython",
    "version": 3
   },
   "file_extension": ".py",
   "mimetype": "text/x-python",
   "name": "python",
   "nbconvert_exporter": "python",
   "pygments_lexer": "ipython3",
   "version": "3.6.6"
  }
 },
 "nbformat": 4,
 "nbformat_minor": 4
}
