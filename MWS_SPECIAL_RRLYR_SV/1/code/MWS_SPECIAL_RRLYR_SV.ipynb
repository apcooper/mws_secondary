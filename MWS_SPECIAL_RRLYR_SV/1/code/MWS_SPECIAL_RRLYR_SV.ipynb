{
 "cells": [
  {
   "cell_type": "markdown",
   "metadata": {},
   "source": [
    "# MWS Secondary Target Selection"
   ]
  },
  {
   "cell_type": "markdown",
   "metadata": {},
   "source": [
    "## MWS_SPECIAL_RRLYR_SV"
   ]
  },
  {
   "cell_type": "markdown",
   "metadata": {},
   "source": [
    "Maintainers:\n",
    "  - Sergey Koposov (selection/catalog)\n",
    "  - Andrew Cooper (secondary target code)"
   ]
  },
  {
   "cell_type": "code",
   "execution_count": 1,
   "metadata": {},
   "outputs": [
    {
     "name": "stdout",
     "output_type": "stream",
     "text": [
      "gaiarr_source_ids_pos_pm.fits\n"
     ]
    }
   ],
   "source": [
    "ls ../raw"
   ]
  },
  {
   "cell_type": "markdown",
   "metadata": {},
   "source": [
    "We include all the stars from Gaia that were classified as RR Lyrae with mean G magnitudes between 14 and 19. Specifically that includes\n",
    "\n",
    "1. All the stars from Gaia vari_rrlyrae table\n",
    "2. All the stars from vari_classifier_result with RR* class\n",
    "\n",
    "The selection criteria are:\n",
    "\n",
    "```\n",
    "WITH x as (SELECT vari_classifier_result.source_id\n",
    "        FROM gaia_dr2.vari_classifier_result\n",
    "        WHERE vari_classifier_result.best_class_name::text ~~ 'RR%'::text\n",
    "    UNION\n",
    "    SELECT vari_rrlyrae.source_id\n",
    "        FROM gaia_dr2.vari_rrlyrae)\n",
    "SELECT g.* FROM gaia_dr2.gaia_source as g, x\n",
    "       where g.source_id = x.source_id\n",
    "       and phot_g_mean_mag between 14 and 19;\n",
    "```\n",
    "\n",
    "**TODO: modify this to the query including other columns**"
   ]
  },
  {
   "cell_type": "raw",
   "metadata": {},
   "source": [
    "DATA MODEL REFERENCE:\n",
    "(see /project/projectdirs/desi/target/secondary/README for latest changes)\n",
    "\n",
    "(1) In $SCND_DIR/indata: .fits or .txt files defining the secondary\n",
    "      targets with columns corresponding to:\n",
    "    \n",
    "        ('RA', '>f8')\n",
    "        ('DEC', '>f8')\n",
    "        ('PMRA', '>f4')\n",
    "        ('PMDEC', '>f4')\n",
    "        ('REF_EPOCH', '>f4')\n",
    "        ('OVERRIDE', '?')\n",
    "\n",
    "      Units of these quantities are the same as for the Legacy Surveys\n",
    "      data model.\n",
    "\n",
    "      For .txt files the first N columns must correspond to the N columns\n",
    "      in secondary.indatamodel, and other columns can be anything. The #\n",
    "      may be used as a comment card. For objects with low proper motion\n",
    "      it is permissible to pass zeros for the proper motion columns. If\n",
    "      zero is passed for REF_EPOCH, it will be assumed to be 2015.5\n",
    "\n",
    "      For .fits files, a subset of the columns must correspond to the\n",
    "      columns in secondary.indatamodel, other columns can be anything.\n",
    "\n",
    "      Note that the OVERRIDE column in the data model means \"do not just\n",
    "      accept an existing target, override it and make a new TARGETID.\" It\n",
    "      should be True (override) or False (do not override) for each target.\n",
    "      In .txt files it should be 1 or 0 instead of True/False, and will be\n",
    "      loaded from the text file as the corresponding Boolean."
   ]
  },
  {
   "cell_type": "code",
   "execution_count": 2,
   "metadata": {},
   "outputs": [
    {
     "data": {
      "text/plain": [
       "'/global/projecta/projectdirs/desi/external/mws/sv/MWS_SPECIAL_RRLYR_SV/1/code'"
      ]
     },
     "execution_count": 2,
     "metadata": {},
     "output_type": "execute_result"
    }
   ],
   "source": [
    "pwd"
   ]
  },
  {
   "cell_type": "code",
   "execution_count": 3,
   "metadata": {},
   "outputs": [],
   "source": [
    "import os\n",
    "import numpy as np\n",
    "from astropy.table import Table, Column\n",
    "import astropy.io.fits as fits"
   ]
  },
  {
   "cell_type": "code",
   "execution_count": 4,
   "metadata": {},
   "outputs": [],
   "source": [
    "target_class   = 'MWS_SPECIAL_RRLYR_SV'\n",
    "input_filename = 'gaiarr_source_ids_pos_pm.fits'\n",
    "\n",
    "REF_CAT   = 'G'\n",
    "REF_EPOCH = '2015.5'"
   ]
  },
  {
   "cell_type": "code",
   "execution_count": 5,
   "metadata": {},
   "outputs": [],
   "source": [
    "# Relative paths\n",
    "input_path  = os.path.join('..','raw',input_filename)\n",
    "\n",
    "# Separate bright and faint output\n",
    "output_path = os.path.join('..','indata','{}.fits'.format(target_class))\n",
    "\n",
    "output_dir  = os.path.dirname(output_path)\n",
    "if not os.path.exists(output_dir):\n",
    "    print('Making output directory: {}'.format(os.path.abspath(output_dir)))\n",
    "    os.makedirs(dir)"
   ]
  },
  {
   "cell_type": "code",
   "execution_count": 6,
   "metadata": {},
   "outputs": [
    {
     "name": "stdout",
     "output_type": "stream",
     "text": [
      "Reading input: /global/projecta/projectdirs/desi/external/mws/sv/MWS_SPECIAL_RRLYR_SV/1/raw/gaiarr_source_ids_pos_pm.fits\n",
      "Read 228853 rows\n"
     ]
    }
   ],
   "source": [
    "print('Reading input: {}'.format(os.path.abspath(input_path)))\n",
    "d = Table.read(input_path)\n",
    "print('Read {:d} rows'.format(len(d)))"
   ]
  },
  {
   "cell_type": "code",
   "execution_count": 7,
   "metadata": {},
   "outputs": [
    {
     "name": "stdout",
     "output_type": "stream",
     "text": [
      "First 3 rows:\n",
      "     source_id            ra           dec       ... ref_epoch     parallax   \n",
      "------------------- ------------- -------------- ... --------- ---------------\n",
      "4040430358516960896  268.58932269 -35.8625204223 ...    2015.5 -0.265084572626\n",
      "6026375677963210240 253.064077285 -32.9826173643 ...    2015.5  0.193817322466\n",
      "5393238919477110528 164.295037692 -40.4640310543 ...    2015.5  0.132261285167\n",
      "['source_id', 'ra', 'dec', 'pmra', 'pmdec', 'ref_epoch', 'parallax']\n"
     ]
    }
   ],
   "source": [
    "print('First 3 rows:')\n",
    "print(d[0:3])\n",
    "print(d.colnames)"
   ]
  },
  {
   "cell_type": "raw",
   "metadata": {},
   "source": [
    "BRIGHT_TIME_BRIGHT_LIMIT = 16.0\n",
    "\n",
    "print('Mag range: {:5.2f} < G < {:5.2f}'.format(d['phot_g_mean_mag'].min() ,d['phot_g_mean_mag'].max()))\n",
    "print('Targets brighter than G = 16: {}/{} ({:3.2%})'.format((d['phot_g_mean_mag'] < BRIGHT_TIME_BRIGHT_LIMIT).sum(),\n",
    "                                                   len(d),\n",
    "                                                   (d['phot_g_mean_mag'] < BRIGHT_TIME_BRIGHT_LIMIT).sum()/len(d)\n",
    "                                                  ))\n",
    "\n",
    "bright_time_targets = d['phot_g_mean_mag'] > BRIGHT_TIME_BRIGHT_LIMIT"
   ]
  },
  {
   "cell_type": "code",
   "execution_count": 8,
   "metadata": {},
   "outputs": [],
   "source": [
    "# No magnitude selection\n",
    "bright_time_targets = np.arange(0,len(d))"
   ]
  },
  {
   "cell_type": "markdown",
   "metadata": {},
   "source": [
    "Adjust to secondary target data model:"
   ]
  },
  {
   "cell_type": "code",
   "execution_count": 16,
   "metadata": {},
   "outputs": [],
   "source": [
    "output = d['ra','dec','pmra','pmdec','ref_epoch','source_id'][bright_time_targets]\n",
    "\n",
    "for cn_old, cn_new in zip(['ra','dec','pmra','pmdec','source_id','ref_epoch'],['RA','DEC','pmra','pmdec','REF_ID','REF_EPOCH']):\n",
    "    output.rename_column(cn_old,cn_new)\n",
    "    \n",
    "output.add_column(Column(np.repeat(False,len(output)),'OVERRIDE'))\n",
    "#output.add_column(Column(np.zeros(len(output),dtype=np.float32),'PMRA'))\n",
    "#output.add_column(Column(np.zeros(len(output),dtype=np.float32),'PMDEC'))\n",
    "output.add_column(Column(np.repeat(REF_CAT,len(output)),'REF_CAT'))\n",
    "# output.add_column(Column(np.repeat(REF_EPOCH,len(output)),'REF_EPOCH'))"
   ]
  },
  {
   "cell_type": "markdown",
   "metadata": {},
   "source": [
    "Add header:"
   ]
  },
  {
   "cell_type": "code",
   "execution_count": 17,
   "metadata": {},
   "outputs": [],
   "source": [
    "output.meta['VRAWDATA'] = int(os.path.abspath(input_path).split(os.path.sep)[-3])"
   ]
  },
  {
   "cell_type": "code",
   "execution_count": 18,
   "metadata": {},
   "outputs": [
    {
     "data": {
      "text/html": [
       "&lt;Table length=3&gt;\n",
       "<table id=\"table46913315521928\" class=\"table-striped table-bordered table-condensed\">\n",
       "<thead><tr><th>RA</th><th>DEC</th><th>pmra</th><th>pmdec</th><th>REF_EPOCH</th><th>REF_ID</th><th>OVERRIDE</th><th>REF_CAT</th></tr></thead>\n",
       "<thead><tr><th>float64</th><th>float64</th><th>float64</th><th>float64</th><th>float64</th><th>int64</th><th>bool</th><th>str1</th></tr></thead>\n",
       "<tr><td>268.58932269</td><td>-35.8625204223</td><td>-8.71972620514</td><td>-5.68536296795</td><td>2015.5</td><td>4040430358516960896</td><td>False</td><td>G</td></tr>\n",
       "<tr><td>253.064077285</td><td>-32.9826173643</td><td>-0.884462014821</td><td>-6.05536628242</td><td>2015.5</td><td>6026375677963210240</td><td>False</td><td>G</td></tr>\n",
       "<tr><td>164.295037692</td><td>-40.4640310543</td><td>-1.12221447784</td><td>-4.76469928441</td><td>2015.5</td><td>5393238919477110528</td><td>False</td><td>G</td></tr>\n",
       "</table>"
      ],
      "text/plain": [
       "<Table length=3>\n",
       "      RA           DEC             pmra      ... OVERRIDE REF_CAT\n",
       "   float64       float64         float64     ...   bool     str1 \n",
       "------------- -------------- --------------- ... -------- -------\n",
       " 268.58932269 -35.8625204223  -8.71972620514 ...    False       G\n",
       "253.064077285 -32.9826173643 -0.884462014821 ...    False       G\n",
       "164.295037692 -40.4640310543  -1.12221447784 ...    False       G"
      ]
     },
     "execution_count": 18,
     "metadata": {},
     "output_type": "execute_result"
    }
   ],
   "source": [
    "output[0:3]"
   ]
  },
  {
   "cell_type": "markdown",
   "metadata": {},
   "source": [
    "Write output:"
   ]
  },
  {
   "cell_type": "code",
   "execution_count": 19,
   "metadata": {},
   "outputs": [
    {
     "name": "stdout",
     "output_type": "stream",
     "text": [
      "Writing 228853 rows of output to /global/projecta/projectdirs/desi/external/mws/sv/MWS_SPECIAL_RRLYR_SV/1/indata/MWS_SPECIAL_RRLYR_SV.fits\n"
     ]
    }
   ],
   "source": [
    "print('Writing {:d} rows of output to {}'.format(len(output),os.path.abspath(output_path)))\n",
    "output.write(output_path,overwrite=True)"
   ]
  },
  {
   "cell_type": "code",
   "execution_count": null,
   "metadata": {},
   "outputs": [],
   "source": []
  }
 ],
 "metadata": {
  "kernelspec": {
   "display_name": "DESI master",
   "language": "python",
   "name": "desi-master"
  },
  "language_info": {
   "codemirror_mode": {
    "name": "ipython",
    "version": 3
   },
   "file_extension": ".py",
   "mimetype": "text/x-python",
   "name": "python",
   "nbconvert_exporter": "python",
   "pygments_lexer": "ipython3",
   "version": "3.6.6"
  }
 },
 "nbformat": 4,
 "nbformat_minor": 4
}
