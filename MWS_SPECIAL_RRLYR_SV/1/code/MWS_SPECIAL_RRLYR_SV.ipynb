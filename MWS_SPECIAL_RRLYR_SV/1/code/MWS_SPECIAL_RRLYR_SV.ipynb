{
 "cells": [
  {
   "cell_type": "markdown",
   "metadata": {},
   "source": [
    "# MWS Secondary Target Selection"
   ]
  },
  {
   "cell_type": "markdown",
   "metadata": {},
   "source": [
    "## MWS_SPECIAL_RRLYR_SV"
   ]
  },
  {
   "cell_type": "markdown",
   "metadata": {},
   "source": [
    "Maintainers:\n",
    "  - Sergey Koposov (selection/catalog)\n",
    "  - Andrew Cooper (secondary target code)"
   ]
  },
  {
   "cell_type": "code",
   "execution_count": 1,
   "metadata": {},
   "outputs": [
    {
     "name": "stdout",
     "output_type": "stream",
     "text": [
      "rrlyrae_gaia_source_id.fits\n"
     ]
    }
   ],
   "source": [
    "ls ../raw"
   ]
  },
  {
   "cell_type": "markdown",
   "metadata": {},
   "source": [
    "We include all the stars from Gaia that were classified as RR Lyrae with mean G magnitudes between 14 and 19. Specifically that includes\n",
    "\n",
    "1. All the stars from Gaia vari_rrlyrae table\n",
    "2. All the stars from vari_classifier_result with RR* class\n",
    "\n",
    "The selection criteria are:\n",
    "\n",
    "```\n",
    "WITH x as (SELECT vari_classifier_result.source_id\n",
    "        FROM gaia_dr2.vari_classifier_result\n",
    "        WHERE vari_classifier_result.best_class_name::text ~~ 'RR%'::text\n",
    "    UNION\n",
    "    SELECT vari_rrlyrae.source_id\n",
    "        FROM gaia_dr2.vari_rrlyrae)\n",
    "SELECT g.* FROM gaia_dr2.gaia_source as g, x\n",
    "       where g.source_id = x.source_id\n",
    "       and phot_g_mean_mag between 14 and 19;\n",
    "```"
   ]
  },
  {
   "cell_type": "raw",
   "metadata": {},
   "source": [
    "DATA MODEL REFERENCE:\n",
    "(see /project/projectdirs/desi/target/secondary/README for latest changes)\n",
    "\n",
    "(1) In $SCND_DIR/indata: .fits or .txt files defining the secondary\n",
    "      targets with columns corresponding to:\n",
    "    \n",
    "        ('RA', '>f8')\n",
    "        ('DEC', '>f8')\n",
    "        ('PMRA', '>f4')\n",
    "        ('PMDEC', '>f4')\n",
    "        ('REF_EPOCH', '>f4')\n",
    "        ('OVERRIDE', '?')\n",
    "\n",
    "      Units of these quantities are the same as for the Legacy Surveys\n",
    "      data model.\n",
    "\n",
    "      For .txt files the first N columns must correspond to the N columns\n",
    "      in secondary.indatamodel, and other columns can be anything. The #\n",
    "      may be used as a comment card. For objects with low proper motion\n",
    "      it is permissible to pass zeros for the proper motion columns. If\n",
    "      zero is passed for REF_EPOCH, it will be assumed to be 2015.5\n",
    "\n",
    "      For .fits files, a subset of the columns must correspond to the\n",
    "      columns in secondary.indatamodel, other columns can be anything.\n",
    "\n",
    "      Note that the OVERRIDE column in the data model means \"do not just\n",
    "      accept an existing target, override it and make a new TARGETID.\" It\n",
    "      should be True (override) or False (do not override) for each target.\n",
    "      In .txt files it should be 1 or 0 instead of True/False, and will be\n",
    "      loaded from the text file as the corresponding Boolean."
   ]
  },
  {
   "cell_type": "code",
   "execution_count": 2,
   "metadata": {},
   "outputs": [
    {
     "data": {
      "text/plain": [
       "'/global/projecta/projectdirs/desi/external/mws/sv/MWS_SPECIAL_RRLYR_SV/1/code'"
      ]
     },
     "execution_count": 2,
     "metadata": {},
     "output_type": "execute_result"
    }
   ],
   "source": [
    "pwd"
   ]
  },
  {
   "cell_type": "code",
   "execution_count": 3,
   "metadata": {},
   "outputs": [],
   "source": [
    "import os\n",
    "import numpy as np\n",
    "from astropy.table import Table, Column\n",
    "import astropy.io.fits as fits"
   ]
  },
  {
   "cell_type": "code",
   "execution_count": 4,
   "metadata": {},
   "outputs": [],
   "source": [
    "target_class   = 'MWS_SPECIAL_RRLYR_SV'\n",
    "input_filename = 'rrlyrae_gaia_source_id.fits'\n",
    "\n",
    "REF_CAT   = 'G'\n",
    "REF_EPOCH = '2015.5'"
   ]
  },
  {
   "cell_type": "code",
   "execution_count": 5,
   "metadata": {},
   "outputs": [],
   "source": [
    "# Relative paths\n",
    "input_path  = os.path.join('..','raw',input_filename)\n",
    "\n",
    "# Separate bright and faint output\n",
    "output_path = os.path.join('..','indata','{}.fits'.format(target_class))\n",
    "\n",
    "output_dir  = os.path.dirname(output_path)\n",
    "if not os.path.exists(output_dir):\n",
    "    print('Making output directory: {}'.format(os.path.abspath(output_dir)))\n",
    "    os.makedirs(dir)"
   ]
  },
  {
   "cell_type": "code",
   "execution_count": 6,
   "metadata": {},
   "outputs": [
    {
     "name": "stdout",
     "output_type": "stream",
     "text": [
      "Reading input: /global/projecta/projectdirs/desi/external/mws/sv/MWS_SPECIAL_RRLYR_SV/1/raw/rrlyrae_gaia_source_id.fits\n",
      "Read 137249 rows\n"
     ]
    }
   ],
   "source": [
    "print('Reading input: {}'.format(os.path.abspath(input_path)))\n",
    "d = Table.read(input_path)\n",
    "print('Read {:d} rows'.format(len(d)))"
   ]
  },
  {
   "cell_type": "code",
   "execution_count": 9,
   "metadata": {},
   "outputs": [
    {
     "name": "stdout",
     "output_type": "stream",
     "text": [
      "First 3 rows:\n",
      "     source_id     \n",
      "-------------------\n",
      "6026375677963210240\n",
      "5393238919477110528\n",
      " 834731365039417856\n",
      "['source_id']\n"
     ]
    }
   ],
   "source": [
    "print('First 3 rows:')\n",
    "print(d[0:3])\n",
    "print(d.colnames)"
   ]
  },
  {
   "cell_type": "code",
   "execution_count": 8,
   "metadata": {},
   "outputs": [],
   "source": [
    "# Match on Gaia source ID"
   ]
  },
  {
   "cell_type": "code",
   "execution_count": 25,
   "metadata": {},
   "outputs": [],
   "source": [
    "import re\n",
    "import glob"
   ]
  },
  {
   "cell_type": "code",
   "execution_count": 22,
   "metadata": {},
   "outputs": [],
   "source": [
    "gaia_sources = glob.glob('/global/project/projectdirs/cosmo/staging/gaia/dr2/gaia-source/GaiaSource_*.fits')"
   ]
  },
  {
   "cell_type": "code",
   "execution_count": 97,
   "metadata": {},
   "outputs": [],
   "source": [
    "pat = 'GaiaSource_(:?[0-9]+)_(:?[0-9]+).fits'\n",
    "lows, highs = list(), list()\n",
    "for fn in gaia_sources:\n",
    "    m   = re.match(pat,os.path.basename(fn))\n",
    "    low, high = m.groups()\n",
    "    lows.append(int(low))\n",
    "    highs.append(int(high))\n",
    "lows  = np.array(lows)\n",
    "highs = np.array(highs)"
   ]
  },
  {
   "cell_type": "code",
   "execution_count": 98,
   "metadata": {},
   "outputs": [
    {
     "data": {
      "text/plain": [
       "(19761, 6013)"
      ]
     },
     "execution_count": 98,
     "metadata": {},
     "output_type": "execute_result"
    }
   ],
   "source": [
    "np.argmin(lows), np.argmax(lows)"
   ]
  },
  {
   "cell_type": "code",
   "execution_count": 99,
   "metadata": {},
   "outputs": [
    {
     "data": {
      "text/plain": [
       "(19761, 6013)"
      ]
     },
     "execution_count": 99,
     "metadata": {},
     "output_type": "execute_result"
    }
   ],
   "source": [
    "np.argmin(highs), np.argmax(highs)"
   ]
  },
  {
   "cell_type": "code",
   "execution_count": 100,
   "metadata": {},
   "outputs": [
    {
     "data": {
      "text/plain": [
       "(array([6003463230033802752, 4112108822858560896, 4269275660632871040]),\n",
       " array([6003509997942660480, 4112131504619931520, 4269297311621972864]))"
      ]
     },
     "execution_count": 100,
     "metadata": {},
     "output_type": "execute_result"
    }
   ],
   "source": [
    "lows[0:3], highs[0:3]"
   ]
  },
  {
   "cell_type": "code",
   "execution_count": 101,
   "metadata": {},
   "outputs": [],
   "source": [
    "ifile = np.arange(0,len(lows))\n",
    "assert(np.all(np.argsort(lows) == np.argsort(highs)))\n",
    "s     = np.argsort(lows)\n",
    "ifile = ifile[s]\n",
    "lows  = lows[s]\n",
    "highs = highs[s]"
   ]
  },
  {
   "cell_type": "code",
   "execution_count": 102,
   "metadata": {},
   "outputs": [
    {
     "data": {
      "text/plain": [
       "(array([     4295806720, 478047042392960, 933966408964096]),\n",
       " array([ 477948256339712,  933932049175296, 1387484890373248]))"
      ]
     },
     "execution_count": 102,
     "metadata": {},
     "output_type": "execute_result"
    }
   ],
   "source": [
    "lows[0:3], highs[0:3]"
   ]
  },
  {
   "cell_type": "code",
   "execution_count": 143,
   "metadata": {},
   "outputs": [],
   "source": [
    "low_edge  = np.searchsorted(lows,d['source_id'],side='left')\n",
    "high_edge = np.searchsorted(highs,d['source_id'],side='right')+1"
   ]
  },
  {
   "cell_type": "code",
   "execution_count": 146,
   "metadata": {},
   "outputs": [
    {
     "data": {
      "text/plain": [
       "22"
      ]
     },
     "execution_count": 146,
     "metadata": {},
     "output_type": "execute_result"
    }
   ],
   "source": [
    "(high_edge-low_edge > 0).sum()"
   ]
  },
  {
   "cell_type": "code",
   "execution_count": 144,
   "metadata": {},
   "outputs": [
    {
     "ename": "AssertionError",
     "evalue": "",
     "output_type": "error",
     "traceback": [
      "\u001b[0;31m---------------------------------------------------------------------------\u001b[0m",
      "\u001b[0;31mAssertionError\u001b[0m                            Traceback (most recent call last)",
      "\u001b[0;32m<ipython-input-144-bef9dda33daa>\u001b[0m in \u001b[0;36m<module>\u001b[0;34m\u001b[0m\n\u001b[0;32m----> 1\u001b[0;31m \u001b[0;32massert\u001b[0m\u001b[0;34m(\u001b[0m\u001b[0mnp\u001b[0m\u001b[0;34m.\u001b[0m\u001b[0mall\u001b[0m\u001b[0;34m(\u001b[0m\u001b[0mhigh_edge\u001b[0m \u001b[0;34m-\u001b[0m \u001b[0mlow_edge\u001b[0m \u001b[0;34m==\u001b[0m \u001b[0;36m0\u001b[0m\u001b[0;34m)\u001b[0m\u001b[0;34m)\u001b[0m\u001b[0;34m\u001b[0m\u001b[0;34m\u001b[0m\u001b[0m\n\u001b[0m",
      "\u001b[0;31mAssertionError\u001b[0m: "
     ]
    }
   ],
   "source": [
    "assert(np.all(high_edge - low_edge == 0))"
   ]
  },
  {
   "cell_type": "code",
   "execution_count": 112,
   "metadata": {},
   "outputs": [
    {
     "name": "stdout",
     "output_type": "stream",
     "text": [
      "[40056 61041 37517]\n"
     ]
    }
   ],
   "source": [
    "print(ifile[low_edge[0:3]])"
   ]
  },
  {
   "cell_type": "code",
   "execution_count": 113,
   "metadata": {},
   "outputs": [
    {
     "data": {
      "text/plain": [
       "(54770, 54770, 40056, 40056)"
      ]
     },
     "execution_count": 113,
     "metadata": {},
     "output_type": "execute_result"
    }
   ],
   "source": [
    "low_edge[0],high_edge[0], ifile[low_edge[0]], ifile[high_edge[0]]"
   ]
  },
  {
   "cell_type": "code",
   "execution_count": 114,
   "metadata": {},
   "outputs": [
    {
     "name": "stdout",
     "output_type": "stream",
     "text": [
      "/global/project/projectdirs/cosmo/staging/gaia/dr2/gaia-source/GaiaSource_6026391792684395008_6026414543209870208.fits\n"
     ]
    }
   ],
   "source": [
    "print(gaia_sources[ifile[low_edge[0]]])"
   ]
  },
  {
   "cell_type": "code",
   "execution_count": 107,
   "metadata": {},
   "outputs": [
    {
     "data": {
      "text/plain": [
       "(True, False)"
      ]
     },
     "execution_count": 107,
     "metadata": {},
     "output_type": "execute_result"
    }
   ],
   "source": [
    "d['source_id'][0] >= low_edge[0], d['source_id'][0] < high_edge[0]"
   ]
  },
  {
   "cell_type": "code",
   "execution_count": 90,
   "metadata": {},
   "outputs": [
    {
     "data": {
      "text/plain": [
       "(-16114721184768, 38865246659968)"
      ]
     },
     "execution_count": 90,
     "metadata": {},
     "output_type": "execute_result"
    }
   ],
   "source": [
    "d['source_id'][0]-6026391792684395008,6026414543209870208-d['source_id'][0]"
   ]
  },
  {
   "cell_type": "code",
   "execution_count": 18,
   "metadata": {},
   "outputs": [],
   "source": [
    "t = Table.read('/global/project/projectdirs/cosmo/staging/gaia/dr2/gaia-source/GaiaSource_1000172165251650944_1000424567594791808.fits')"
   ]
  },
  {
   "cell_type": "code",
   "execution_count": null,
   "metadata": {},
   "outputs": [],
   "source": []
  },
  {
   "cell_type": "code",
   "execution_count": 21,
   "metadata": {},
   "outputs": [
    {
     "data": {
      "text/html": [
       "<i>Table length=3</i>\n",
       "<table id=\"table46913217334688\" class=\"table-striped table-bordered table-condensed\">\n",
       "<thead><tr><th>solution_id</th><th>designation</th><th>source_id</th><th>random_index</th><th>ref_epoch</th><th>ra</th><th>ra_error</th><th>dec</th><th>dec_error</th><th>parallax</th><th>parallax_error</th><th>parallax_over_error</th><th>pmra</th><th>pmra_error</th><th>pmdec</th><th>pmdec_error</th><th>ra_dec_corr</th><th>ra_parallax_corr</th><th>ra_pmra_corr</th><th>ra_pmdec_corr</th><th>dec_parallax_corr</th><th>dec_pmra_corr</th><th>dec_pmdec_corr</th><th>parallax_pmra_corr</th><th>parallax_pmdec_corr</th><th>pmra_pmdec_corr</th><th>astrometric_n_obs_al</th><th>astrometric_n_obs_ac</th><th>astrometric_n_good_obs_al</th><th>astrometric_n_bad_obs_al</th><th>astrometric_gof_al</th><th>astrometric_chi2_al</th><th>astrometric_excess_noise</th><th>astrometric_excess_noise_sig</th><th>astrometric_params_solved</th><th>astrometric_primary_flag</th><th>astrometric_weight_al</th><th>astrometric_pseudo_colour</th><th>astrometric_pseudo_colour_error</th><th>mean_varpi_factor_al</th><th>astrometric_matched_observations</th><th>visibility_periods_used</th><th>astrometric_sigma5d_max</th><th>frame_rotator_object_type</th><th>matched_observations</th><th>duplicated_source</th><th>phot_g_n_obs</th><th>phot_g_mean_flux</th><th>phot_g_mean_flux_error</th><th>phot_g_mean_flux_over_error</th><th>phot_g_mean_mag</th><th>phot_bp_n_obs</th><th>phot_bp_mean_flux</th><th>phot_bp_mean_flux_error</th><th>phot_bp_mean_flux_over_error</th><th>phot_bp_mean_mag</th><th>phot_rp_n_obs</th><th>phot_rp_mean_flux</th><th>phot_rp_mean_flux_error</th><th>phot_rp_mean_flux_over_error</th><th>phot_rp_mean_mag</th><th>phot_bp_rp_excess_factor</th><th>phot_proc_mode</th><th>bp_rp</th><th>bp_g</th><th>g_rp</th><th>radial_velocity</th><th>radial_velocity_error</th><th>rv_nb_transits</th><th>rv_template_teff</th><th>rv_template_logg</th><th>rv_template_fe_h</th><th>phot_variable_flag</th><th>l</th><th>b</th><th>ecl_lon</th><th>ecl_lat</th><th>priam_flags</th><th>teff_val</th><th>teff_percentile_lower</th><th>teff_percentile_upper</th><th>a_g_val</th><th>a_g_percentile_lower</th><th>a_g_percentile_upper</th><th>e_bp_min_rp_val</th><th>e_bp_min_rp_percentile_lower</th><th>e_bp_min_rp_percentile_upper</th><th>flame_flags</th><th>radius_val</th><th>radius_percentile_lower</th><th>radius_percentile_upper</th><th>lum_val</th><th>lum_percentile_lower</th><th>lum_percentile_upper</th></tr></thead>\n",
       "<thead><tr><th>int64</th><th>bytes28</th><th>int64</th><th>int64</th><th>float32</th><th>float64</th><th>float32</th><th>float64</th><th>float32</th><th>float32</th><th>float32</th><th>float32</th><th>float32</th><th>float32</th><th>float32</th><th>float32</th><th>float32</th><th>float32</th><th>float32</th><th>float32</th><th>float32</th><th>float32</th><th>float32</th><th>float32</th><th>float32</th><th>float32</th><th>int16</th><th>float32</th><th>int16</th><th>float32</th><th>float32</th><th>float32</th><th>float32</th><th>float32</th><th>float32</th><th>bool</th><th>float32</th><th>float32</th><th>float32</th><th>float32</th><th>int16</th><th>int16</th><th>float32</th><th>int16</th><th>int16</th><th>bool</th><th>int16</th><th>float32</th><th>float32</th><th>float32</th><th>float32</th><th>int16</th><th>float32</th><th>float32</th><th>float32</th><th>float32</th><th>int16</th><th>float32</th><th>float32</th><th>float32</th><th>float32</th><th>float32</th><th>int16</th><th>float32</th><th>float32</th><th>float32</th><th>float32</th><th>float32</th><th>int16</th><th>float32</th><th>float32</th><th>float32</th><th>bool</th><th>float64</th><th>float64</th><th>float64</th><th>float64</th><th>int16</th><th>float32</th><th>float32</th><th>float32</th><th>float32</th><th>float32</th><th>float32</th><th>float32</th><th>float32</th><th>float32</th><th>int16</th><th>float32</th><th>float32</th><th>float32</th><th>float32</th><th>float32</th><th>float32</th></tr></thead>\n",
       "<tr><td>1635721458409799680</td><td>Gaia DR2 1000424537530485888</td><td>1000424537530485888</td><td>1243536732</td><td>2015.5</td><td>105.42970382113742</td><td>0.03833766</td><td>56.736814651510315</td><td>0.035825465</td><td>0.58066165</td><td>0.05678236</td><td>10.226092</td><td>3.169589</td><td>0.07611264</td><td>-6.4370375</td><td>0.06194767</td><td>0.18521082</td><td>-0.20333645</td><td>-0.06818303</td><td>-0.14529514</td><td>-0.2780403</td><td>-0.23191848</td><td>0.07528074</td><td>0.56536627</td><td>0.23448981</td><td>0.26072592</td><td>204</td><td>0.0</td><td>202</td><td>2.0</td><td>-2.4255574</td><td>152.10799</td><td>0.0</td><td>0.0</td><td>31.0</td><td>False</td><td>8.954648</td><td>1.5932878</td><td>0.012166413</td><td>-0.03546068</td><td>23</td><td>12</td><td>0.08118331</td><td>0</td><td>25</td><td>False</td><td>220</td><td>7799.382</td><td>4.6971893</td><td>1660.4359</td><td>15.958216</td><td>21</td><td>4152.258</td><td>24.37694</td><td>170.33548</td><td>16.305677</td><td>19</td><td>5327.918</td><td>12.031983</td><td>442.81293</td><td>15.445526</td><td>1.2155035</td><td>0</td><td>0.8601513</td><td>0.3474617</td><td>0.5126896</td><td>nan</td><td>nan</td><td>0</td><td>nan</td><td>nan</td><td>nan</td><td>False</td><td>159.71247091767341</td><td>23.776231117904715</td><td>100.1186479577399</td><td>33.838261009774484</td><td>-31071</td><td>5764.0</td><td>5579.0</td><td>5903.1997</td><td>0.0342</td><td>0.017</td><td>0.2091</td><td>0.009</td><td>0.0069</td><td>0.1001</td><td>3503</td><td>0.958838</td><td>0.9141516</td><td>1.0234826</td><td>0.9142838</td><td>0.7211792</td><td>1.1073885</td></tr>\n",
       "<tr><td>1635721458409799680</td><td>Gaia DR2 1000424537530635008</td><td>1000424537530635008</td><td>902341180</td><td>2015.5</td><td>105.44138839754099</td><td>0.7017483</td><td>56.72564544238555</td><td>0.7121367</td><td>0.08306585</td><td>1.1894765</td><td>0.06983396</td><td>1.2567902</td><td>1.5981851</td><td>-4.287342</td><td>0.97887003</td><td>0.38510612</td><td>-0.36753878</td><td>-0.40891877</td><td>-0.21762261</td><td>-0.6531118</td><td>-0.5284575</td><td>-0.23408842</td><td>0.72934073</td><td>0.31477088</td><td>0.40853322</td><td>142</td><td>0.0</td><td>141</td><td>1.0</td><td>-2.0420485</td><td>104.46501</td><td>0.0</td><td>0.0</td><td>31.0</td><td>False</td><td>0.043696277</td><td>1.492231</td><td>0.21210697</td><td>-0.0698243</td><td>16</td><td>10</td><td>1.6914191</td><td>0</td><td>17</td><td>False</td><td>149</td><td>148.92442</td><td>1.2158561</td><td>122.48524</td><td>20.25595</td><td>11</td><td>87.39034</td><td>8.013672</td><td>10.905156</td><td>20.49773</td><td>13</td><td>102.62113</td><td>10.658108</td><td>9.628457</td><td>19.733828</td><td>1.2758919</td><td>0</td><td>0.76390266</td><td>0.24177933</td><td>0.52212334</td><td>nan</td><td>nan</td><td>0</td><td>nan</td><td>nan</td><td>nan</td><td>False</td><td>159.72598764026057</td><td>23.779813811291746</td><td>100.12801523297973</td><td>33.827999831801925</td><td>-1</td><td>nan</td><td>nan</td><td>nan</td><td>nan</td><td>nan</td><td>nan</td><td>nan</td><td>nan</td><td>nan</td><td>-1</td><td>nan</td><td>nan</td><td>nan</td><td>nan</td><td>nan</td><td>nan</td></tr>\n",
       "<tr><td>1635721458409799680</td><td>Gaia DR2 1000424567594791808</td><td>1000424567594791808</td><td>1327993345</td><td>2015.5</td><td>105.44884500975787</td><td>0.89067507</td><td>56.74694977839555</td><td>0.76989007</td><td>0.6527637</td><td>1.1080765</td><td>0.5890963</td><td>-10.323959</td><td>1.6538965</td><td>-7.144848</td><td>1.4448127</td><td>-0.087756954</td><td>0.07760617</td><td>-0.18690261</td><td>-0.0027864375</td><td>-0.07353845</td><td>-0.027998423</td><td>0.15563537</td><td>0.34375775</td><td>0.31026825</td><td>0.088975064</td><td>119</td><td>0.0</td><td>118</td><td>1.0</td><td>-0.7204193</td><td>101.88856</td><td>0.0</td><td>0.0</td><td>31.0</td><td>False</td><td>0.02621206</td><td>2.0246248</td><td>0.31089634</td><td>-0.10436001</td><td>14</td><td>9</td><td>1.5187238</td><td>0</td><td>17</td><td>False</td><td>133</td><td>112.674385</td><td>1.3452741</td><td>83.75571</td><td>20.558804</td><td>9</td><td>42.359962</td><td>8.143495</td><td>5.201693</td><td>21.283998</td><td>13</td><td>126.93978</td><td>7.996733</td><td>15.873955</td><td>19.502926</td><td>1.5025575</td><td>0</td><td>1.7810726</td><td>0.72519493</td><td>1.0558777</td><td>nan</td><td>nan</td><td>0</td><td>nan</td><td>nan</td><td>nan</td><td>False</td><td>159.7044248108628</td><td>23.788828795902305</td><td>100.12962776977653</td><td>33.84965180795468</td><td>-1</td><td>nan</td><td>nan</td><td>nan</td><td>nan</td><td>nan</td><td>nan</td><td>nan</td><td>nan</td><td>nan</td><td>-1</td><td>nan</td><td>nan</td><td>nan</td><td>nan</td><td>nan</td><td>nan</td></tr>\n",
       "</table>"
      ],
      "text/plain": [
       "<Table length=3>\n",
       "    solution_id             designation          ... lum_percentile_upper\n",
       "       int64                  bytes28            ...       float32       \n",
       "------------------- ---------------------------- ... --------------------\n",
       "1635721458409799680 Gaia DR2 1000424537530485888 ...            1.1073885\n",
       "1635721458409799680 Gaia DR2 1000424537530635008 ...                  nan\n",
       "1635721458409799680 Gaia DR2 1000424567594791808 ...                  nan"
      ]
     },
     "execution_count": 21,
     "metadata": {},
     "output_type": "execute_result"
    }
   ],
   "source": [
    "t[np.argsort(t['source_id'])][-3:]"
   ]
  },
  {
   "cell_type": "code",
   "execution_count": 14,
   "metadata": {},
   "outputs": [
    {
     "name": "stdout",
     "output_type": "stream",
     "text": [
      "Gaia DR2 FITS files\n",
      "\n",
      "csv-files.txt: a list of CSV files in the Gaia-DR2 release.\n",
      "\n",
      "mkdir CSV-gaia-source\n",
      "python get.py\n",
      "\n",
      "-> reads csv-files.txt, downloads all files to CSV-gaia-source\n",
      "\n",
      "mkdir gaia-source-orig\n",
      "python conv.py\n",
      "\n",
      "-> reads CSV files, produces FITS files\n",
      "\n",
      "mkdir gaia-source\n",
      "python conv2.py\n",
      "\n",
      "-> reads FITS files, fixes some issues.\n",
      "\n"
     ]
    }
   ],
   "source": [
    "!cat /global/project/projectdirs/cosmo/staging/gaia/dr2/README"
   ]
  },
  {
   "cell_type": "code",
   "execution_count": 52,
   "metadata": {},
   "outputs": [
    {
     "name": "stdout",
     "output_type": "stream",
     "text": [
      "Mag range: 10.67 < G < 20.88\n",
      "Targets brighter than G = 16: 75258/291411 (25.83%)\n"
     ]
    }
   ],
   "source": [
    "BRIGHT_TIME_BRIGHT_LIMIT = 16.0\n",
    "\n",
    "print('Mag range: {:5.2f} < G < {:5.2f}'.format(d['phot_g_mean_mag'].min() ,d['phot_g_mean_mag'].max()))\n",
    "print('Targets brighter than G = 16: {}/{} ({:3.2%})'.format((d['phot_g_mean_mag'] < BRIGHT_TIME_BRIGHT_LIMIT).sum(),\n",
    "                                                   len(d),\n",
    "                                                   (d['phot_g_mean_mag'] < BRIGHT_TIME_BRIGHT_LIMIT).sum()/len(d)\n",
    "                                                  ))\n",
    "\n",
    "bright_time_targets = d['phot_g_mean_mag'] > BRIGHT_TIME_BRIGHT_LIMIT"
   ]
  },
  {
   "cell_type": "markdown",
   "metadata": {},
   "source": [
    "Adjust to secondary target data model:"
   ]
  },
  {
   "cell_type": "code",
   "execution_count": 53,
   "metadata": {},
   "outputs": [],
   "source": [
    "output = d['ra','dec','source_id'][bright_time_targets]\n",
    "output.rename_columns(['ra','dec','source_id'],['RA','DEC','REF_ID'])\n",
    "output.add_column(Column(np.repeat(False,len(output)),'OVERRIDE'))\n",
    "output.add_column(Column(np.zeros(len(output),dtype=np.float32),'PMRA'))\n",
    "output.add_column(Column(np.zeros(len(output),dtype=np.float32),'PMDEC'))\n",
    "output.add_column(Column(np.repeat(REF_CAT,len(output)),'REF_CAT'))\n",
    "output.add_column(Column(np.repeat(REF_EPOCH,len(output)),'REF_EPOCH'))"
   ]
  },
  {
   "cell_type": "markdown",
   "metadata": {},
   "source": [
    "Add header:"
   ]
  },
  {
   "cell_type": "code",
   "execution_count": 54,
   "metadata": {},
   "outputs": [],
   "source": [
    "output.meta['VRAWDATA'] = int(os.path.abspath(input_path).split(os.path.sep)[-3])"
   ]
  },
  {
   "cell_type": "code",
   "execution_count": 55,
   "metadata": {},
   "outputs": [
    {
     "data": {
      "text/html": [
       "<i>Table length=3</i>\n",
       "<table id=\"table4650309168\" class=\"table-striped table-bordered table-condensed\">\n",
       "<thead><tr><th>RA</th><th>DEC</th><th>REF_ID</th><th>OVERRIDE</th><th>PMRA</th><th>PMDEC</th><th>REF_CAT</th><th>REF_EPOCH</th></tr></thead>\n",
       "<thead><tr><th>float64</th><th>float64</th><th>int64</th><th>bool</th><th>float32</th><th>float32</th><th>str1</th><th>str6</th></tr></thead>\n",
       "<tr><td>328.530788027781</td><td>2.53707028993252</td><td>2693964742599255040</td><td>False</td><td>0.0</td><td>0.0</td><td>G</td><td>2015.5</td></tr>\n",
       "<tr><td>328.59327920521</td><td>2.44939161551723</td><td>2693916226648580224</td><td>False</td><td>0.0</td><td>0.0</td><td>G</td><td>2015.5</td></tr>\n",
       "<tr><td>328.591951469507</td><td>2.36698433447594</td><td>2693912374062424192</td><td>False</td><td>0.0</td><td>0.0</td><td>G</td><td>2015.5</td></tr>\n",
       "</table>"
      ],
      "text/plain": [
       "<Table length=3>\n",
       "       RA              DEC               REF_ID       ... REF_CAT REF_EPOCH\n",
       "    float64          float64             int64        ...   str1     str6  \n",
       "---------------- ---------------- ------------------- ... ------- ---------\n",
       "328.530788027781 2.53707028993252 2693964742599255040 ...       G    2015.5\n",
       " 328.59327920521 2.44939161551723 2693916226648580224 ...       G    2015.5\n",
       "328.591951469507 2.36698433447594 2693912374062424192 ...       G    2015.5"
      ]
     },
     "execution_count": 55,
     "metadata": {},
     "output_type": "execute_result"
    }
   ],
   "source": [
    "output[0:3]"
   ]
  },
  {
   "cell_type": "markdown",
   "metadata": {},
   "source": [
    "Write output:"
   ]
  },
  {
   "cell_type": "code",
   "execution_count": 56,
   "metadata": {},
   "outputs": [
    {
     "name": "stdout",
     "output_type": "stream",
     "text": [
      "Writing 216153 rows of output to /Users/apcooper/astro/data/desi/secondary/MWS_SPECIAL_DDOGIANTS_SV/1/indata/MWS_SPECIAL_DDOGIANTS_SV.fits\n"
     ]
    }
   ],
   "source": [
    "print('Writing {:d} rows of output to {}'.format(len(output),os.path.abspath(output_path)))\n",
    "output.write(output_path,overwrite=True)"
   ]
  }
 ],
 "metadata": {
  "kernelspec": {
   "display_name": "Python 3",
   "language": "python",
   "name": "python3"
  },
  "language_info": {
   "codemirror_mode": {
    "name": "ipython",
    "version": 3
   },
   "file_extension": ".py",
   "mimetype": "text/x-python",
   "name": "python",
   "nbconvert_exporter": "python",
   "pygments_lexer": "ipython3",
   "version": "3.7.3"
  }
 },
 "nbformat": 4,
 "nbformat_minor": 4
}
