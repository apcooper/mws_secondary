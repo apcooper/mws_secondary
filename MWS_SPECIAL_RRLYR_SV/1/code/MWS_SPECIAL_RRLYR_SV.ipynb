{
 "cells": [
  {
   "cell_type": "markdown",
   "metadata": {},
   "source": [
    "# MWS Secondary Target Selection"
   ]
  },
  {
   "cell_type": "markdown",
   "metadata": {},
   "source": [
    "## MWS_SPECIAL_RRLYR_SV"
   ]
  },
  {
   "cell_type": "markdown",
   "metadata": {},
   "source": [
    "Maintainers:\n",
    "  - Sergey Koposov (selection/catalog)\n",
    "  - Andrew Cooper (secondary target code)\n",
    "  \n",
    "See `/project/projectdirs/desi/target/secondary/README` for output data model."
   ]
  },
  {
   "cell_type": "code",
   "execution_count": 1,
   "metadata": {},
   "outputs": [
    {
     "name": "stdout",
     "output_type": "stream",
     "text": [
      "/global/projecta/projectdirs/desi/external/mws/sv/MWS_SPECIAL_RRLYR_SV/1/code\n",
      "gaiarr_source_ids_pos_pm.fits\n"
     ]
    }
   ],
   "source": [
    "!pwd\n",
    "!ls ../raw"
   ]
  },
  {
   "cell_type": "code",
   "execution_count": 1,
   "metadata": {},
   "outputs": [],
   "source": [
    "# Parameters\n",
    "\n",
    "target_class   = 'MWS_SPECIAL_RRLYR_SV'\n",
    "input_filename = 'gaiarr_source_ids_pos_pm.fits'\n",
    "\n",
    "REF_CAT        = 'G'\n",
    "REF_EPOCH      = 2015.5\n",
    "\n",
    "colmap = {\n",
    "    'ra':        'RA',\n",
    "    'dec':       'DEC',\n",
    "    'pmra':      'PMRA',\n",
    "    'pmdec':     'PMDEC',\n",
    "    'ref_epoch': 'REF_EPOCH',\n",
    "    'source_id': 'REF_ID'\n",
    "}"
   ]
  },
  {
   "cell_type": "markdown",
   "metadata": {},
   "source": [
    "We include all the stars from Gaia that were classified as RR Lyrae with mean G magnitudes between 14 and 19. Specifically that includes\n",
    "\n",
    "1. All the stars from Gaia vari_rrlyrae table\n",
    "2. All the stars from vari_classifier_result with RR* class\n",
    "\n",
    "The selection criteria are:\n",
    "\n",
    "```\n",
    "WITH x as (SELECT vari_classifier_result.source_id\n",
    "        FROM gaia_dr2.vari_classifier_result\n",
    "        WHERE vari_classifier_result.best_class_name::text ~~ 'RR%'::text\n",
    "    UNION\n",
    "    SELECT vari_rrlyrae.source_id\n",
    "        FROM gaia_dr2.vari_rrlyrae)\n",
    "SELECT g.* FROM gaia_dr2.gaia_source as g, x\n",
    "       where g.source_id = x.source_id\n",
    "       and phot_g_mean_mag between 14 and 19;\n",
    "```"
   ]
  },
  {
   "cell_type": "code",
   "execution_count": null,
   "metadata": {},
   "outputs": [],
   "source": [
    "from   importlib import reload\n",
    "import sys\n",
    "PYPATH = '/project/projectdirs/desi/external/mws/py/'\n",
    "if PYPATH not in sys.path: sys.path.append(PYPATH)\n",
    "import mwsecondary.mwsecondary as mws\n",
    "reload(mws)\n",
    "\n",
    "import os\n",
    "import sys\n",
    "import numpy as np\n",
    "\n",
    "targets = mws.SecondaryTargets(target_class,input_filename,ref_cat=REF_CAT,ref_epoch=REF_EPOCH)\n",
    "targets.print_info()\n",
    "mask    = np.repeat(True,len(targets.data))\n",
    "mask   &= targets.select_finite_range('dec',lower_limit=-30.0,verbose=True)\n",
    "mask   &= targets.select_unique('source_id',verbose=True)\n",
    "\n",
    "# Adjust to secondary target data model and write output\n",
    "output = targets.get_output(mask,cols=colmap,write=True)\n",
    "print(output[0:3])"
   ]
  }
 ],
 "metadata": {
  "kernelspec": {
   "display_name": "DESI master",
   "language": "python",
   "name": "desi-master"
  },
  "language_info": {
   "codemirror_mode": {
    "name": "ipython",
    "version": 3
   },
   "file_extension": ".py",
   "mimetype": "text/x-python",
   "name": "python",
   "nbconvert_exporter": "python",
   "pygments_lexer": "ipython3",
   "version": "3.6.6"
  }
 },
 "nbformat": 4,
 "nbformat_minor": 4
}
