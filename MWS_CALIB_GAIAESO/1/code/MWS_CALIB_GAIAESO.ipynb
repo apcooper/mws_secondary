{
 "cells": [
  {
   "cell_type": "markdown",
   "metadata": {},
   "source": [
    "# MWS Secondary Target Selection"
   ]
  },
  {
   "cell_type": "markdown",
   "metadata": {},
   "source": [
    "## MWS_CALIB_GAIAESO"
   ]
  },
  {
   "cell_type": "markdown",
   "metadata": {},
   "source": [
    "Maintainers:\n",
    "  - Ting Li (selection/catalog)\n",
    "  - Andrew Cooper (secondary target code)"
   ]
  },
  {
   "cell_type": "code",
   "execution_count": 1,
   "metadata": {},
   "outputs": [
    {
     "name": "stdout",
     "output_type": "stream",
     "text": [
      "/global/projecta/projectdirs/desi/external/mws/sv/MWS_CALIB_GAIAESO/1/code\n",
      "gaiaeso_xm_gaia_4DESI_v0.fits\n"
     ]
    }
   ],
   "source": [
    "!pwd\n",
    "!ls ../raw"
   ]
  },
  {
   "cell_type": "code",
   "execution_count": 3,
   "metadata": {},
   "outputs": [],
   "source": [
    "# Parameters\n",
    "\n",
    "target_class   = 'MWS_CALIB_GAIAESO'\n",
    "input_filename = 'gaiaeso_xm_gaia_4DESI_v0.fits'\n",
    "\n",
    "REF_CAT        = 'G'\n",
    "REF_EPOCH      = 2015.5\n",
    "\n",
    "SELECT_MAG     = 'phot_g_mean_mag'\n",
    "BRIGHT_LIMIT   = 16.0\n",
    "FAINT_LIMIT    = 20.0\n",
    "\n",
    "colmap = {\n",
    "    'ra':        'RA',\n",
    "    'dec':       'DEC',\n",
    "    'pmra':      'PMRA',\n",
    "    'pmdec':     'PMDEC',\n",
    "    'source_id': 'REF_ID'\n",
    "}"
   ]
  },
  {
   "cell_type": "markdown",
   "metadata": {},
   "source": [
    "{ DESCRIPTION NEEDED }\n",
    "\n",
    "The selection criteria are:\n",
    "\n",
    "???"
   ]
  },
  {
   "cell_type": "raw",
   "metadata": {},
   "source": [
    "DATA MODEL REFERENCE:\n",
    "(see /project/projectdirs/desi/target/secondary/README for latest changes)\n",
    "\n",
    "(1) In $SCND_DIR/indata: .fits or .txt files defining the secondary\n",
    "      targets with columns corresponding to:\n",
    "    \n",
    "        ('RA', '>f8')\n",
    "        ('DEC', '>f8')\n",
    "        ('PMRA', '>f4')\n",
    "        ('PMDEC', '>f4')\n",
    "        ('REF_EPOCH', '>f4')\n",
    "        ('OVERRIDE', '?')\n",
    "\n",
    "      Units of these quantities are the same as for the Legacy Surveys\n",
    "      data model.\n",
    "\n",
    "      For .txt files the first N columns must correspond to the N columns\n",
    "      in secondary.indatamodel, and other columns can be anything. The #\n",
    "      may be used as a comment card. For objects with low proper motion\n",
    "      it is permissible to pass zeros for the proper motion columns. If\n",
    "      zero is passed for REF_EPOCH, it will be assumed to be 2015.5\n",
    "\n",
    "      For .fits files, a subset of the columns must correspond to the\n",
    "      columns in secondary.indatamodel, other columns can be anything.\n",
    "\n",
    "      Note that the OVERRIDE column in the data model means \"do not just\n",
    "      accept an existing target, override it and make a new TARGETID.\" It\n",
    "      should be True (override) or False (do not override) for each target.\n",
    "      In .txt files it should be 1 or 0 instead of True/False, and will be\n",
    "      loaded from the text file as the corresponding Boolean."
   ]
  },
  {
   "cell_type": "code",
   "execution_count": 4,
   "metadata": {},
   "outputs": [
    {
     "name": "stdout",
     "output_type": "stream",
     "text": [
      "Reading input: /global/projecta/projectdirs/desi/external/mws/sv/MWS_CALIB_GAIAESO/1/raw/gaiaeso_xm_gaia_4DESI_v0.fits\n",
      "Read 25533 rows\n",
      "First 3 rows:\n",
      "     CNAME       GES_FLD       OBJECT       ... phot_rp_mean_mag   ebv   \n",
      "---------------- ------- ------------------ ... ---------------- --------\n",
      "16153746-0822162  18_Sco             18_Sco ...              nan      nan\n",
      "06404486-1633492    Br25 2m06404486-1633492 ...          14.9914 0.443632\n",
      "06410805-1635462    Br25 2m06410804-1635462 ...          14.5031 0.414209\n",
      "\n",
      "Column names:\n",
      "['CNAME', 'GES_FLD', 'OBJECT', 'GES_TYPE', 'SETUP', 'RA', 'DECLINATION', 'VRAD', 'E_VRAD', 'TEFF', 'E_TEFF', 'LOGG', 'E_LOGG', 'FEH', 'E_FEH', 'XI', 'E_XI', 'EW_LI', 'LIM_EW_LI', 'E_EW_LI', 'EWC_LI', 'LIM_EWC_LI', 'E_EWC_LI', 'EW_HA_ACC', 'E_EW_HA_ACC', 'HA10', 'E_HA10', 'GAMMA', 'E_GAMMA', 'PECULI', 'REMARK', 'TECH', 'LI1', 'LIM_LI1', 'E_LI1', 'C1', 'E_C1', 'N_CN', 'E_N_CN', 'O1', 'E_O1', 'NA1', 'E_NA1', 'MG1', 'E_MG1', 'AL1', 'E_AL1', 'S1', 'E_S1', 'CA1', 'E_CA1', 'SC2', 'E_SC2', 'TI1', 'E_TI1', 'TI2', 'E_TI2', 'V1', 'E_V1', 'CR1', 'E_CR1', 'CO1', 'E_CO1', 'NI1', 'E_NI1', 'ZN1', 'E_ZN1', 'Y2', 'E_Y2', 'ZR2', 'E_ZR2', 'BA2', 'E_BA2', 'LA2', 'E_LA2', 'CE2', 'E_CE2', 'ND2', 'E_ND2', 'EU2', 'E_EU2', 'J_VISTA', 'J_VISTA_ERR', 'H_VISTA', 'H_VISTA_ERR', 'K_VISTA', 'K_VISTA_ERR', 'DIST_VISTA', 'J_2MASS', 'J_2MASS_ERR', 'H_2MASS', 'H_2MASS_ERR', 'K_2MASS', 'K_2MASS_ERR', 'DIST_2MASS', 'UMAG', 'BMAG', 'VMAG', 'RMAG', 'IMAG', 'source_id', 'ra', 'dec', 'pmra', 'pmdec', 'phot_g_mean_mag', 'phot_bp_mean_mag', 'phot_rp_mean_mag', 'ebv']\n",
      "\n",
      "\n",
      "Mag range:  2.18 < phot_g_mean_mag < 20.19\n",
      "Mags not finite: 92\n",
      "Selecting 6035 targets from 25533 (23.64%)\n",
      "Selecting 10559 from 25533 (41.35%) on dec\n",
      "25408 of 25533 targets have unique source_id\n",
      "Removing 125 duplicates\n",
      "\n",
      "Writing 3025 rows of output to /global/projecta/projectdirs/desi/external/mws/sv/MWS_CALIB_GAIAESO/1/indata/MWS_CALIB_GAIAESO.fits\n",
      "       RA               DEC            PMRA    ... OVERRIDE REF_CAT REF_EPOCH\n",
      "---------------- ----------------- ----------- ... -------- ------- ---------\n",
      "100.311522420448 -16.3987159593436   1.0262202 ...    False       G    2015.5\n",
      "100.348434870331  -16.555366908798 -0.60793155 ...    False       G    2015.5\n",
      "100.268863521503  -16.505217609574  -0.6803769 ...    False       G    2015.5\n"
     ]
    },
    {
     "name": "stderr",
     "output_type": "stream",
     "text": [
      "/usr/common/software/python/3.7-anaconda-2019.07/lib/python3.7/site-packages/astropy/table/column.py:981: RuntimeWarning: invalid value encountered in greater\n",
      "  return getattr(self.data, op)(other)\n",
      "/usr/common/software/python/3.7-anaconda-2019.07/lib/python3.7/site-packages/astropy/table/column.py:981: RuntimeWarning: invalid value encountered in less_equal\n",
      "  return getattr(self.data, op)(other)\n",
      "WARNING: VerifyWarning: Keyword name 'BRIGHT_LIMIT' is greater than 8 characters or contains characters not allowed by the FITS standard; a HIERARCH card will be created. [astropy.io.fits.card]\n",
      "WARNING: VerifyWarning: Keyword name 'FAINT_LIMIT' is greater than 8 characters or contains characters not allowed by the FITS standard; a HIERARCH card will be created. [astropy.io.fits.card]\n"
     ]
    }
   ],
   "source": [
    "from   importlib import reload\n",
    "import sys\n",
    "PYPATH = '/project/projectdirs/desi/external/mws/py/'\n",
    "if PYPATH not in sys.path: sys.path.append(PYPATH)\n",
    "import mwsecondary.mwsecondary as mws\n",
    "reload(mws)\n",
    "\n",
    "import os\n",
    "import sys\n",
    "import numpy as np\n",
    "\n",
    "targets = mws.SecondaryTargets(target_class,input_filename,ref_cat=REF_CAT,ref_epoch=REF_EPOCH)\n",
    "targets.print_info()\n",
    "mask    = targets.select_finite_mag_range(SELECT_MAG,faint_limit=FAINT_LIMIT,bright_limit=BRIGHT_LIMIT)\n",
    "mask   &= targets.select_finite_range('dec',lower_limit=-30.0,verbose=True)\n",
    "mask   &= targets.select_unique('source_id',verbose=True)\n",
    "\n",
    "# Adjust to secondary target data model and write output\n",
    "header = dict([(_,globals()[_]) for _ in ['BRIGHT_LIMIT','FAINT_LIMIT']])\n",
    "output = targets.get_output(mask,cols=colmap,write=True,header=header)\n",
    "print(output[0:3])"
   ]
  },
  {
   "cell_type": "code",
   "execution_count": null,
   "metadata": {},
   "outputs": [],
   "source": []
  },
  {
   "cell_type": "code",
   "execution_count": null,
   "metadata": {},
   "outputs": [],
   "source": []
  }
 ],
 "metadata": {
  "kernelspec": {
   "display_name": "Python 3",
   "language": "python",
   "name": "python3"
  },
  "language_info": {
   "codemirror_mode": {
    "name": "ipython",
    "version": 3
   },
   "file_extension": ".py",
   "mimetype": "text/x-python",
   "name": "python",
   "nbconvert_exporter": "python",
   "pygments_lexer": "ipython3",
   "version": "3.7.3"
  }
 },
 "nbformat": 4,
 "nbformat_minor": 4
}
