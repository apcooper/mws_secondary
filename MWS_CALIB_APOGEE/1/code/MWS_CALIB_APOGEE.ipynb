{
 "cells": [
  {
   "cell_type": "markdown",
   "metadata": {},
   "source": [
    "# MWS Secondary Target Selection"
   ]
  },
  {
   "cell_type": "markdown",
   "metadata": {},
   "source": [
    "## MWS_CALIB_APOGEE"
   ]
  },
  {
   "cell_type": "markdown",
   "metadata": {},
   "source": [
    "Maintainers:\n",
    "  - Ting Li (selection/catalog)\n",
    "  - Andrew Cooper (secondary target code)"
   ]
  },
  {
   "cell_type": "code",
   "execution_count": 19,
   "metadata": {},
   "outputs": [
    {
     "name": "stdout",
     "output_type": "stream",
     "text": [
      "/global/projecta/projectdirs/desi/external/mws/sv/MWS_CALIB_APOGEE/1/code\n",
      "apogee_xm_gaia_4DESI_v0.fits\n"
     ]
    }
   ],
   "source": [
    "!pwd\n",
    "!ls ../raw"
   ]
  },
  {
   "cell_type": "code",
   "execution_count": 20,
   "metadata": {},
   "outputs": [],
   "source": [
    "# Parameters\n",
    "\n",
    "target_class   = 'MWS_CALIB_APOGEE'\n",
    "input_filename = 'apogee_xm_gaia_4DESI_v0.fits'\n",
    "\n",
    "REF_CAT        = 'G'\n",
    "REF_EPOCH      = 2015.5\n",
    "\n",
    "SELECT_MAG     = 'phot_g_mean_mag'\n",
    "BRIGHT_LIMIT   = 16.0\n",
    "FAINT_LIMIT    = 20.0\n",
    "\n",
    "colmap = {\n",
    "    'ra':        'RA',\n",
    "    'dec':       'DEC',\n",
    "    'pmra':      'PMRA',\n",
    "    'pmdec':     'PMDEC',\n",
    "    'source_id': 'REF_ID'\n",
    "}"
   ]
  },
  {
   "cell_type": "markdown",
   "metadata": {},
   "source": [
    "{ DESCRIPTION NEEDED }\n",
    "\n",
    "The selection criteria are:\n",
    "\n",
    "???\n",
    "\n",
    "There are some duplicate source IDs in the raw catalog. The corresponding rows are similar (e.g. identical RA, DEC and mag) but some other columns differ. The secondary target indata is restricted to unique `source_id` only."
   ]
  },
  {
   "cell_type": "raw",
   "metadata": {},
   "source": [
    "DATA MODEL REFERENCE:\n",
    "(see /project/projectdirs/desi/target/secondary/README for latest changes)\n",
    "\n",
    "(1) In $SCND_DIR/indata: .fits or .txt files defining the secondary\n",
    "      targets with columns corresponding to:\n",
    "    \n",
    "        ('RA', '>f8')\n",
    "        ('DEC', '>f8')\n",
    "        ('PMRA', '>f4')\n",
    "        ('PMDEC', '>f4')\n",
    "        ('REF_EPOCH', '>f4')\n",
    "        ('OVERRIDE', '?')\n",
    "\n",
    "      Units of these quantities are the same as for the Legacy Surveys\n",
    "      data model.\n",
    "\n",
    "      For .txt files the first N columns must correspond to the N columns\n",
    "      in secondary.indatamodel, and other columns can be anything. The #\n",
    "      may be used as a comment card. For objects with low proper motion\n",
    "      it is permissible to pass zeros for the proper motion columns. If\n",
    "      zero is passed for REF_EPOCH, it will be assumed to be 2015.5\n",
    "\n",
    "      For .fits files, a subset of the columns must correspond to the\n",
    "      columns in secondary.indatamodel, other columns can be anything.\n",
    "\n",
    "      Note that the OVERRIDE column in the data model means \"do not just\n",
    "      accept an existing target, override it and make a new TARGETID.\" It\n",
    "      should be True (override) or False (do not override) for each target.\n",
    "      In .txt files it should be 1 or 0 instead of True/False, and will be\n",
    "      loaded from the text file as the corresponding Boolean."
   ]
  },
  {
   "cell_type": "code",
   "execution_count": 21,
   "metadata": {},
   "outputs": [
    {
     "name": "stdout",
     "output_type": "stream",
     "text": [
      "Reading input: /global/projecta/projectdirs/desi/external/mws/sv/MWS_CALIB_APOGEE/1/raw/apogee_xm_gaia_4DESI_v0.fits\n",
      "Read 264032 rows\n",
      "First 3 rows:\n",
      "vhelio_avg   verr   vscatter ...       dec             source_id        ebv   \n",
      "---------- -------- -------- ... ---------------- ------------------- --------\n",
      "  -98.6882 0.000968      0.0 ... 35.3063874911221 1866727481325405824 0.405349\n",
      "   14.7794 0.080689 0.337936 ... 35.3474167437634 1866721124773681280 0.351821\n",
      "  -2.33132 0.008486      0.0 ... 35.3869300615702 1866733700438059776 0.392828\n",
      "\n",
      "Column names:\n",
      "['vhelio_avg', 'verr', 'vscatter', 'obsvhelio_avg', 'obsvscatter', 'obsverr', 'synthvhelio_avg', 'synthvscatter', 'synthverr', 'fe_h', 'j', 'h', 'k', 'field', 'location_id', 'phot_g_mean_mag', 'phot_bp_mean_mag', 'phot_rp_mean_mag', 'pmra', 'pmdec', 'ra', 'dec', 'source_id', 'ebv']\n",
      "\n",
      "\n",
      "Mag range:  3.69 < phot_g_mean_mag < 21.26\n",
      "Mags not finite: 0\n",
      "Selecting 25556 targets from 264032 (9.68%)\n",
      "Selecting 261879 from 264032 (99.18%) on dec\n",
      "246444 of 264032 targets have unique source_id\n",
      "Removing 17588 duplicates\n",
      "\n",
      "Writing 24166 rows of output to /global/projecta/projectdirs/desi/external/mws/sv/MWS_CALIB_APOGEE/1/indata/MWS_CALIB_APOGEE.fits\n",
      "       RA              DEC            PMRA    ... OVERRIDE REF_CAT REF_EPOCH\n",
      "---------------- ---------------- ----------- ... -------- ------- ---------\n",
      "314.957357915112 36.0358351739563         nan ...    False       G    2015.5\n",
      "315.352207996871 36.2025356745186 -0.26568368 ...    False       G    2015.5\n",
      "314.943058512786  36.906159803936   -4.101015 ...    False       G    2015.5\n"
     ]
    }
   ],
   "source": [
    "from   importlib import reload\n",
    "import sys\n",
    "PYPATH = '/project/projectdirs/desi/external/mws/py/'\n",
    "if PYPATH not in sys.path: sys.path.append(PYPATH)\n",
    "import mwsecondary.mwsecondary as mws\n",
    "reload(mws)\n",
    "\n",
    "import os\n",
    "import sys\n",
    "import numpy as np\n",
    "\n",
    "targets = mws.SecondaryTargets(target_class,input_filename,ref_cat=REF_CAT,ref_epoch=REF_EPOCH)\n",
    "targets.print_info()\n",
    "mask    = targets.select_finite_mag_range(SELECT_MAG,faint_limit=FAINT_LIMIT,bright_limit=BRIGHT_LIMIT)\n",
    "mask   &= targets.select_finite_range('dec',lower_limit=-30.0,verbose=True)\n",
    "mask   &= targets.select_unique('source_id',verbose=True)\n",
    "\n",
    "# Adjust to secondary target data model and write output\n",
    "header = dict([(_,globals()[_]) for _ in ['BRIGHT_LIMIT','FAINT_LIMIT']])\n",
    "output = targets.get_output(mask,cols=colmap,write=True,header=header)\n",
    "print(output[0:3])"
   ]
  }
 ],
 "metadata": {
  "kernelspec": {
   "display_name": "Python 3",
   "language": "python",
   "name": "python3"
  },
  "language_info": {
   "codemirror_mode": {
    "name": "ipython",
    "version": 3
   },
   "file_extension": ".py",
   "mimetype": "text/x-python",
   "name": "python",
   "nbconvert_exporter": "python",
   "pygments_lexer": "ipython3",
   "version": "3.7.3"
  }
 },
 "nbformat": 4,
 "nbformat_minor": 4
}
