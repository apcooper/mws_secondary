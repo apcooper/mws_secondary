{
 "cells": [
  {
   "cell_type": "markdown",
   "metadata": {},
   "source": [
    "# MWS Secondary Target Selection"
   ]
  },
  {
   "cell_type": "markdown",
   "metadata": {},
   "source": [
    "## MWS_CALIB_APOGEE"
   ]
  },
  {
   "cell_type": "markdown",
   "metadata": {},
   "source": [
    "Maintainers:\n",
    "  - Ting Li (selection/catalog)\n",
    "  - Andrew Cooper (secondary target code)"
   ]
  },
  {
   "cell_type": "code",
   "execution_count": 1,
   "metadata": {},
   "outputs": [
    {
     "name": "stdout",
     "output_type": "stream",
     "text": [
      "apogee_xm_gaia_4DESI_v0.fits\n"
     ]
    }
   ],
   "source": [
    "ls ../raw"
   ]
  },
  {
   "cell_type": "markdown",
   "metadata": {},
   "source": [
    "{ DESCRIPTION NEEDED }\n",
    "\n",
    "The selection criteria are:\n",
    "\n",
    "???"
   ]
  },
  {
   "cell_type": "raw",
   "metadata": {},
   "source": [
    "DATA MODEL REFERENCE:\n",
    "(see /project/projectdirs/desi/target/secondary/README for latest changes)\n",
    "\n",
    "(1) In $SCND_DIR/indata: .fits or .txt files defining the secondary\n",
    "      targets with columns corresponding to:\n",
    "    \n",
    "        ('RA', '>f8')\n",
    "        ('DEC', '>f8')\n",
    "        ('PMRA', '>f4')\n",
    "        ('PMDEC', '>f4')\n",
    "        ('REF_EPOCH', '>f4')\n",
    "        ('OVERRIDE', '?')\n",
    "\n",
    "      Units of these quantities are the same as for the Legacy Surveys\n",
    "      data model.\n",
    "\n",
    "      For .txt files the first N columns must correspond to the N columns\n",
    "      in secondary.indatamodel, and other columns can be anything. The #\n",
    "      may be used as a comment card. For objects with low proper motion\n",
    "      it is permissible to pass zeros for the proper motion columns. If\n",
    "      zero is passed for REF_EPOCH, it will be assumed to be 2015.5\n",
    "\n",
    "      For .fits files, a subset of the columns must correspond to the\n",
    "      columns in secondary.indatamodel, other columns can be anything.\n",
    "\n",
    "      Note that the OVERRIDE column in the data model means \"do not just\n",
    "      accept an existing target, override it and make a new TARGETID.\" It\n",
    "      should be True (override) or False (do not override) for each target.\n",
    "      In .txt files it should be 1 or 0 instead of True/False, and will be\n",
    "      loaded from the text file as the corresponding Boolean."
   ]
  },
  {
   "cell_type": "code",
   "execution_count": 2,
   "metadata": {},
   "outputs": [
    {
     "data": {
      "text/plain": [
       "'/global/projecta/projectdirs/desi/external/mws/sv/MWS_CALIB_APOGEE/1/code'"
      ]
     },
     "execution_count": 2,
     "metadata": {},
     "output_type": "execute_result"
    }
   ],
   "source": [
    "pwd"
   ]
  },
  {
   "cell_type": "code",
   "execution_count": 3,
   "metadata": {},
   "outputs": [],
   "source": [
    "import os\n",
    "import numpy as np\n",
    "from astropy.table import Table, Column\n",
    "import astropy.io.fits as fits"
   ]
  },
  {
   "cell_type": "code",
   "execution_count": 4,
   "metadata": {},
   "outputs": [],
   "source": [
    "target_class   = 'MWS_CALIB_APOGEE'\n",
    "input_filename = 'apogee_xm_gaia_4DESI_v0.fits'\n",
    "\n",
    "REF_CAT   = 'G'\n",
    "REF_EPOCH = '2015.5'"
   ]
  },
  {
   "cell_type": "code",
   "execution_count": 5,
   "metadata": {},
   "outputs": [],
   "source": [
    "# Relative paths\n",
    "input_path  = os.path.join('..','raw',input_filename)\n",
    "\n",
    "# Separate bright and faint output\n",
    "output_path = os.path.join('..','indata','{}.fits'.format(target_class))\n",
    "\n",
    "output_dir  = os.path.dirname(output_path)\n",
    "if not os.path.exists(output_dir):\n",
    "    print('Making output directory: {}'.format(os.path.abspath(output_dir)))\n",
    "    os.makedirs(dir)"
   ]
  },
  {
   "cell_type": "code",
   "execution_count": 6,
   "metadata": {},
   "outputs": [
    {
     "name": "stdout",
     "output_type": "stream",
     "text": [
      "Reading input: /global/projecta/projectdirs/desi/external/mws/sv/MWS_CALIB_APOGEE/1/raw/apogee_xm_gaia_4DESI_v0.fits\n",
      "Read 264032 rows\n"
     ]
    }
   ],
   "source": [
    "print('Reading input: {}'.format(os.path.abspath(input_path)))\n",
    "d = Table.read(input_path)\n",
    "print('Read {:d} rows'.format(len(d)))"
   ]
  },
  {
   "cell_type": "code",
   "execution_count": 7,
   "metadata": {},
   "outputs": [
    {
     "name": "stdout",
     "output_type": "stream",
     "text": [
      "First 3 rows:\n",
      "vhelio_avg   verr   vscatter ...       dec             source_id        ebv   \n",
      "---------- -------- -------- ... ---------------- ------------------- --------\n",
      "  -98.6882 0.000968      0.0 ... 35.3063874911221 1866727481325405824 0.405349\n",
      "   14.7794 0.080689 0.337936 ... 35.3474167437634 1866721124773681280 0.351821\n",
      "  -2.33132 0.008486      0.0 ... 35.3869300615702 1866733700438059776 0.392828\n",
      "['vhelio_avg', 'verr', 'vscatter', 'obsvhelio_avg', 'obsvscatter', 'obsverr', 'synthvhelio_avg', 'synthvscatter', 'synthverr', 'fe_h', 'j', 'h', 'k', 'field', 'location_id', 'phot_g_mean_mag', 'phot_bp_mean_mag', 'phot_rp_mean_mag', 'pmra', 'pmdec', 'ra', 'dec', 'source_id', 'ebv']\n"
     ]
    }
   ],
   "source": [
    "print('First 3 rows:')\n",
    "print(d[0:3])\n",
    "print(d.colnames)"
   ]
  },
  {
   "cell_type": "code",
   "execution_count": 8,
   "metadata": {},
   "outputs": [
    {
     "name": "stdout",
     "output_type": "stream",
     "text": [
      "Mag range:  3.69 < G < 21.26\n",
      "Targets brighter than G = 16: 237409/264032 (89.92%)\n"
     ]
    }
   ],
   "source": [
    "BRIGHT_TIME_BRIGHT_LIMIT = 16.0\n",
    "\n",
    "print('Mag range: {:5.2f} < G < {:5.2f}'.format(d['phot_g_mean_mag'].min() ,d['phot_g_mean_mag'].max()))\n",
    "print('Targets brighter than G = 16: {}/{} ({:3.2%})'.format((d['phot_g_mean_mag'] < BRIGHT_TIME_BRIGHT_LIMIT).sum(),\n",
    "                                                   len(d),\n",
    "                                                   (d['phot_g_mean_mag'] < BRIGHT_TIME_BRIGHT_LIMIT).sum()/len(d)\n",
    "                                                  ))\n",
    "\n",
    "bright_time_targets = d['phot_g_mean_mag'] > BRIGHT_TIME_BRIGHT_LIMIT"
   ]
  },
  {
   "cell_type": "markdown",
   "metadata": {},
   "source": [
    "Adjust to secondary target data model:"
   ]
  },
  {
   "cell_type": "code",
   "execution_count": 9,
   "metadata": {},
   "outputs": [],
   "source": [
    "output = d['ra','dec','source_id'][bright_time_targets]\n",
    "output.rename_columns(['ra','dec','source_id'],['RA','DEC','REF_ID'])\n",
    "output.add_column(Column(np.repeat(False,len(output)),'OVERRIDE'))\n",
    "output.add_column(Column(np.zeros(len(output),dtype=np.float32),'PMRA'))\n",
    "output.add_column(Column(np.zeros(len(output),dtype=np.float32),'PMDEC'))\n",
    "output.add_column(Column(np.repeat(REF_CAT,len(output)),'REF_CAT'))\n",
    "output.add_column(Column(np.repeat(REF_EPOCH,len(output)),'REF_EPOCH'))"
   ]
  },
  {
   "cell_type": "markdown",
   "metadata": {},
   "source": [
    "Add header:"
   ]
  },
  {
   "cell_type": "code",
   "execution_count": 10,
   "metadata": {},
   "outputs": [],
   "source": [
    "output.meta['VRAWDATA'] = int(os.path.abspath(input_path).split(os.path.sep)[-3])"
   ]
  },
  {
   "cell_type": "code",
   "execution_count": 11,
   "metadata": {},
   "outputs": [
    {
     "data": {
      "text/html": [
       "<i>Table length=3</i>\n",
       "<table id=\"table46913217595656\" class=\"table-striped table-bordered table-condensed\">\n",
       "<thead><tr><th>RA</th><th>DEC</th><th>REF_ID</th><th>OVERRIDE</th><th>PMRA</th><th>PMDEC</th><th>REF_CAT</th><th>REF_EPOCH</th></tr></thead>\n",
       "<thead><tr><th>float64</th><th>float64</th><th>int64</th><th>bool</th><th>float32</th><th>float32</th><th>str1</th><th>str6</th></tr></thead>\n",
       "<tr><td>314.957357915112</td><td>36.0358351739563</td><td>1871266093525759744</td><td>False</td><td>0.0</td><td>0.0</td><td>G</td><td>2015.5</td></tr>\n",
       "<tr><td>315.352207996871</td><td>36.2025356745186</td><td>1871282895438765952</td><td>False</td><td>0.0</td><td>0.0</td><td>G</td><td>2015.5</td></tr>\n",
       "<tr><td>314.943058512786</td><td>36.906159803936</td><td>1871379171422600960</td><td>False</td><td>0.0</td><td>0.0</td><td>G</td><td>2015.5</td></tr>\n",
       "</table>"
      ],
      "text/plain": [
       "<Table length=3>\n",
       "       RA              DEC               REF_ID       ... REF_CAT REF_EPOCH\n",
       "    float64          float64             int64        ...   str1     str6  \n",
       "---------------- ---------------- ------------------- ... ------- ---------\n",
       "314.957357915112 36.0358351739563 1871266093525759744 ...       G    2015.5\n",
       "315.352207996871 36.2025356745186 1871282895438765952 ...       G    2015.5\n",
       "314.943058512786  36.906159803936 1871379171422600960 ...       G    2015.5"
      ]
     },
     "execution_count": 11,
     "metadata": {},
     "output_type": "execute_result"
    }
   ],
   "source": [
    "output[0:3]"
   ]
  },
  {
   "cell_type": "markdown",
   "metadata": {},
   "source": [
    "Write output:"
   ]
  },
  {
   "cell_type": "code",
   "execution_count": 12,
   "metadata": {},
   "outputs": [
    {
     "name": "stdout",
     "output_type": "stream",
     "text": [
      "Writing 26623 rows of output to /global/projecta/projectdirs/desi/external/mws/sv/MWS_CALIB_APOGEE/1/indata/MWS_CALIB_APOGEE.fits\n"
     ]
    }
   ],
   "source": [
    "print('Writing {:d} rows of output to {}'.format(len(output),os.path.abspath(output_path)))\n",
    "output.write(output_path,overwrite=True)"
   ]
  }
 ],
 "metadata": {
  "kernelspec": {
   "display_name": "Python 3",
   "language": "python",
   "name": "python3"
  },
  "language_info": {
   "codemirror_mode": {
    "name": "ipython",
    "version": 3
   },
   "file_extension": ".py",
   "mimetype": "text/x-python",
   "name": "python",
   "nbconvert_exporter": "python",
   "pygments_lexer": "ipython3",
   "version": "3.7.3"
  }
 },
 "nbformat": 4,
 "nbformat_minor": 4
}
