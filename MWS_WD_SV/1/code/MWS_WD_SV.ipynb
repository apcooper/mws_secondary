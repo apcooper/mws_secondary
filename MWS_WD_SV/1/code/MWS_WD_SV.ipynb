{
 "cells": [
  {
   "cell_type": "markdown",
   "metadata": {},
   "source": [
    "# MWS Secondary Target Selection"
   ]
  },
  {
   "cell_type": "markdown",
   "metadata": {},
   "source": [
    "## MWS_WD_SV"
   ]
  },
  {
   "cell_type": "markdown",
   "metadata": {},
   "source": [
    "Maintainers:\n",
    "  - Boris Gaensicke (selection/catalog)\n",
    "  - Andrew Cooper (secondary target code)"
   ]
  },
  {
   "cell_type": "code",
   "execution_count": 1,
   "metadata": {},
   "outputs": [
    {
     "name": "stdout",
     "output_type": "stream",
     "text": [
      "/global/projecta/projectdirs/desi/external/mws/sv/MWS_WD_SV/1/code\n",
      "desi_wd_sv.fits.gz\n"
     ]
    }
   ],
   "source": [
    "!pwd\n",
    "!ls ../raw"
   ]
  },
  {
   "cell_type": "code",
   "execution_count": 2,
   "metadata": {},
   "outputs": [],
   "source": [
    "# Parameters\n",
    "\n",
    "target_class   = 'MWS_WD_SV'\n",
    "input_filename = 'desi_wd_sv.fits.gz'\n",
    "\n",
    "REF_CAT        = 'G'\n",
    "REF_EPOCH      = 2015.5\n",
    "\n",
    "SELECT_MAG     = 'phot_g_mean_mag'\n",
    "BRIGHT_LIMIT   = 16.0\n",
    "FAINT_LIMIT    = 21.0\n",
    "\n",
    "colmap = {\n",
    "    'ra':        'RA',\n",
    "    'dec':       'DEC',\n",
    "    'pmra':      'PMRA',\n",
    "    'pmdec':     'PMDEC',\n",
    "    'source_id': 'REF_ID'\n",
    "}"
   ]
  },
  {
   "cell_type": "markdown",
   "metadata": {},
   "source": [
    "{ DESCRIPTION NEEDED }\n",
    "\n",
    "The selection criteria are:\n",
    "\n",
    "???"
   ]
  },
  {
   "cell_type": "code",
   "execution_count": 3,
   "metadata": {},
   "outputs": [
    {
     "name": "stdout",
     "output_type": "stream",
     "text": [
      "Reading input: /global/projecta/projectdirs/desi/external/mws/sv/MWS_WD_SV/1/raw/desi_wd_sv.fits.gz\n",
      "Read 495405 rows\n",
      "First 3 rows:\n",
      "        WDJ_name             source_id      ... phot_g_mean_mag   Pwd   \n",
      "----------------------- ------------------- ... --------------- --------\n",
      "WDJ002536.31+124327.06  2755781549760178048 ...        20.23415 0.973013\n",
      "WDJ005212.26+135302.04  2777645067895669376 ...       17.841702 0.999746\n",
      "WDJ011047.84+251514.39   294375065603505536 ...       20.033014 0.946063\n",
      "\n",
      "Column names:\n",
      "['WDJ_name', 'source_id', 'ra', 'dec', 'pmra', 'pmdec', 'phot_g_mean_mag', 'Pwd']\n",
      "\n",
      "\n",
      "Mag range:  8.47 < phot_g_mean_mag < 21.00\n",
      "Mags not finite: 0\n",
      "Selecting 492712 targets from 495405 (99.46%)\n",
      "Selecting 325919 from 495405 (65.79%) on dec\n",
      "486641 of 495405 targets have unique source_id\n",
      "Removing 8764 duplicates\n",
      "\n",
      "Writing 315239 rows of output to /global/projecta/projectdirs/desi/external/mws/sv/MWS_WD_SV/1/indata/MWS_WD_SV.fits\n"
     ]
    },
    {
     "name": "stderr",
     "output_type": "stream",
     "text": [
      "WARNING: VerifyWarning: Keyword name 'BRIGHT_LIMIT' is greater than 8 characters or contains characters not allowed by the FITS standard; a HIERARCH card will be created. [astropy.io.fits.card]\n",
      "WARNING: VerifyWarning: Keyword name 'FAINT_LIMIT' is greater than 8 characters or contains characters not allowed by the FITS standard; a HIERARCH card will be created. [astropy.io.fits.card]\n"
     ]
    },
    {
     "name": "stdout",
     "output_type": "stream",
     "text": [
      "        RA                DEC            PMRA    ... OVERRIDE REF_CAT REF_EPOCH\n",
      "------------------ ------------------ ---------- ... -------- ------- ---------\n",
      " 6.401203328729036 12.724111661432001  -20.10098 ...    False       G    2015.5\n",
      " 13.05107993783488 13.883725161059816 0.04576954 ...    False       G    2015.5\n",
      "17.699288072591333 25.253909706199853  -9.794558 ...    False       G    2015.5\n"
     ]
    }
   ],
   "source": [
    "from   importlib import reload\n",
    "import sys\n",
    "PYPATH = '/project/projectdirs/desi/external/mws/py/'\n",
    "if PYPATH not in sys.path: sys.path.append(PYPATH)\n",
    "import mwsecondary.mwsecondary as mws\n",
    "reload(mws)\n",
    "\n",
    "import os\n",
    "import sys\n",
    "import numpy as np\n",
    "\n",
    "targets = mws.SecondaryTargets(target_class,input_filename,ref_cat=REF_CAT,ref_epoch=REF_EPOCH)\n",
    "targets.print_info()\n",
    "mask    = targets.select_finite_mag_range(SELECT_MAG,faint_limit=FAINT_LIMIT,bright_limit=BRIGHT_LIMIT)\n",
    "mask   &= targets.select_finite_range('dec',lower_limit=-30.0,verbose=True)\n",
    "mask   &= targets.select_unique('source_id',verbose=True)\n",
    "\n",
    "# Adjust to secondary target data model and write output\n",
    "header = dict([(_,globals()[_]) for _ in ['BRIGHT_LIMIT','FAINT_LIMIT']])\n",
    "output = targets.get_output(mask,cols=colmap,write=True,header=header)\n",
    "print(output[0:3])"
   ]
  },
  {
   "cell_type": "code",
   "execution_count": 4,
   "metadata": {},
   "outputs": [
    {
     "name": "stdout",
     "output_type": "stream",
     "text": [
      "\n",
      "Mag range:  8.47 < phot_g_mean_mag < 21.00\n",
      "Mags not finite: 0\n",
      "Selecting 495405 targets from 495405 (100.00%)\n"
     ]
    }
   ],
   "source": [
    "import matplotlib.pyplot as pl\n",
    "finite = targets.select_finite_mag_range(SELECT_MAG)\n",
    "\n",
    "pl.hist(targets.data['phot_g_mean_mag'][finite],bins=np.arange(0,22,0.5));\n",
    "pl.xlabel('G');\n",
    "pl.axvline(BRIGHT_LIMIT,c='r',alpha=0.5);"
   ]
  }
 ],
 "metadata": {
  "kernelspec": {
   "display_name": "DESI master",
   "language": "python",
   "name": "desi-master"
  },
  "language_info": {
   "codemirror_mode": {
    "name": "ipython",
    "version": 3
   },
   "file_extension": ".py",
   "mimetype": "text/x-python",
   "name": "python",
   "nbconvert_exporter": "python",
   "pygments_lexer": "ipython3",
   "version": "3.6.6"
  }
 },
 "nbformat": 4,
 "nbformat_minor": 4
}
