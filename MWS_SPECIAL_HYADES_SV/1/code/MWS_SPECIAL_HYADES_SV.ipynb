{
 "cells": [
  {
   "cell_type": "markdown",
   "metadata": {},
   "source": [
    "# MWS Secondary Target Selection"
   ]
  },
  {
   "cell_type": "markdown",
   "metadata": {},
   "source": [
    "## MWS_SPECIAL_HYADES_SV"
   ]
  },
  {
   "cell_type": "markdown",
   "metadata": {},
   "source": [
    "Maintainers:\n",
    "  - Boris Gaensicke (selection/catalog)\n",
    "  - Andrew Cooper (secondary target code)"
   ]
  },
  {
   "cell_type": "code",
   "execution_count": 1,
   "metadata": {},
   "outputs": [
    {
     "name": "stdout",
     "output_type": "stream",
     "text": [
      "total 384\n",
      "-rw-r--r-- 1 apcooper apcooper 360000 Aug 29 20:10 desi_sv_hyades.fits\n"
     ]
    }
   ],
   "source": [
    "ls -l ../raw"
   ]
  },
  {
   "cell_type": "code",
   "execution_count": 2,
   "metadata": {},
   "outputs": [
    {
     "data": {
      "text/plain": [
       "'/global/projecta/projectdirs/desi/external/mws/sv/MWS_SPECIAL_HYADES_SV/1/code'"
      ]
     },
     "execution_count": 2,
     "metadata": {},
     "output_type": "execute_result"
    }
   ],
   "source": [
    "pwd"
   ]
  },
  {
   "cell_type": "markdown",
   "metadata": {},
   "source": [
    "Stars in the Hyades; selected all stars in Gaia with parallax distance < 100pc in a 15x15 deg box centred on the cluster.\n",
    "\n",
    "The selection criteria are:\n",
    "\n",
    "???"
   ]
  },
  {
   "cell_type": "raw",
   "metadata": {},
   "source": [
    "DATA MODEL REFERENCE:\n",
    "(see /project/projectdirs/desi/target/secondary/README for latest changes)\n",
    "\n",
    "(1) In $SCND_DIR/indata: .fits or .txt files defining the secondary\n",
    "      targets with columns corresponding to:\n",
    "    \n",
    "        ('RA', '>f8')\n",
    "        ('DEC', '>f8')\n",
    "        ('PMRA', '>f4')\n",
    "        ('PMDEC', '>f4')\n",
    "        ('REF_EPOCH', '>f4')\n",
    "        ('OVERRIDE', '?')\n",
    "\n",
    "      Units of these quantities are the same as for the Legacy Surveys\n",
    "      data model.\n",
    "\n",
    "      For .txt files the first N columns must correspond to the N columns\n",
    "      in secondary.indatamodel, and other columns can be anything. The #\n",
    "      may be used as a comment card. For objects with low proper motion\n",
    "      it is permissible to pass zeros for the proper motion columns. If\n",
    "      zero is passed for REF_EPOCH, it will be assumed to be 2015.5\n",
    "\n",
    "      For .fits files, a subset of the columns must correspond to the\n",
    "      columns in secondary.indatamodel, other columns can be anything.\n",
    "\n",
    "      Note that the OVERRIDE column in the data model means \"do not just\n",
    "      accept an existing target, override it and make a new TARGETID.\" It\n",
    "      should be True (override) or False (do not override) for each target.\n",
    "      In .txt files it should be 1 or 0 instead of True/False, and will be\n",
    "      loaded from the text file as the corresponding Boolean."
   ]
  },
  {
   "cell_type": "code",
   "execution_count": 3,
   "metadata": {},
   "outputs": [
    {
     "data": {
      "text/plain": [
       "'/global/projecta/projectdirs/desi/external/mws/sv/MWS_SPECIAL_HYADES_SV/1/code'"
      ]
     },
     "execution_count": 3,
     "metadata": {},
     "output_type": "execute_result"
    }
   ],
   "source": [
    "pwd"
   ]
  },
  {
   "cell_type": "code",
   "execution_count": 4,
   "metadata": {},
   "outputs": [],
   "source": [
    "import os\n",
    "import numpy as np\n",
    "from astropy.table import Table, Column\n",
    "import astropy.coordinates as coord\n",
    "import astropy.units as u\n",
    "import astropy.io.fits as fits"
   ]
  },
  {
   "cell_type": "code",
   "execution_count": 5,
   "metadata": {},
   "outputs": [],
   "source": [
    "target_class    = 'MWS_SPECIAL_HYADES_SV'\n",
    "input_filename  = 'desi_sv_hyades.fits'\n",
    "\n",
    "REF_CAT   = 'G'\n",
    "REF_EPOCH = '2015.5'"
   ]
  },
  {
   "cell_type": "code",
   "execution_count": 6,
   "metadata": {},
   "outputs": [],
   "source": [
    "# Relative paths\n",
    "input_path  = os.path.join('..','raw',input_filename)\n",
    "\n",
    "# Separate bright and faint output\n",
    "output_path = os.path.join('..','indata','{}.fits'.format(target_class))\n",
    "\n",
    "output_dir  = os.path.dirname(output_path)\n",
    "if not os.path.exists(output_dir):\n",
    "    print('Making output directory: {}'.format(os.path.abspath(output_dir)))\n",
    "    os.makedirs(dir)"
   ]
  },
  {
   "cell_type": "code",
   "execution_count": 7,
   "metadata": {},
   "outputs": [
    {
     "data": {
      "text/html": [
       "&lt;Table length=3&gt;\n",
       "<table id=\"table46912529036176\" class=\"table-striped table-bordered table-condensed\">\n",
       "<thead><tr><th>ra</th><th>ra_error</th><th>dec</th><th>dec_error</th><th>source_id</th><th>parallax</th><th>parallax_error</th><th>pmra</th><th>pmra_error</th><th>pmdec</th><th>pmdec_error</th><th>duplicated_source</th><th>phot_g_mean_flux</th><th>phot_g_mean_flux_error</th><th>phot_g_mean_mag</th><th>phot_g_mean_mag_error</th><th>phot_bp_mean_flux</th><th>phot_bp_mean_flux_error</th><th>phot_bp_mean_mag</th><th>phot_bp_mean_mag_error</th><th>phot_rp_mean_flux</th><th>phot_rp_mean_flux_error</th><th>phot_rp_mean_mag</th><th>phot_rp_mean_mag_error</th><th>bp_rp</th><th>radial_velocity</th><th>radial_velocity_error</th><th>teff_val</th><th>a_g_val</th><th>e_bp_min_rp_val</th><th>radius_val</th><th>lum_val</th></tr></thead>\n",
       "<thead><tr><th>deg</th><th>mas</th><th>deg</th><th>mas</th><th></th><th>mas</th><th>mas</th><th>mas / yr</th><th>mas / yr</th><th>mas / yr</th><th>mas / yr</th><th></th><th>e-/s</th><th>e-/s</th><th>mag</th><th>mag</th><th>e-/s</th><th>e-/s</th><th>mag</th><th>mag</th><th>e-/s</th><th>e-/s</th><th>mag</th><th>mag</th><th>mag</th><th>km / s</th><th>km / s</th><th>K</th><th>mag</th><th>mag</th><th>solRad</th><th>solLum</th></tr></thead>\n",
       "<thead><tr><th>float64</th><th>float64</th><th>float64</th><th>float64</th><th>int64</th><th>float64</th><th>float32</th><th>float64</th><th>float32</th><th>float64</th><th>float32</th><th>uint8</th><th>float32</th><th>float32</th><th>float64</th><th>float64</th><th>float32</th><th>float32</th><th>float64</th><th>float64</th><th>float32</th><th>float32</th><th>float64</th><th>float64</th><th>float64</th><th>float64</th><th>float32</th><th>float64</th><th>float32</th><th>float32</th><th>float32</th><th>float64</th></tr></thead>\n",
       "<tr><td>60.7266994989</td><td>1.84260489352</td><td>13.7198341427</td><td>0.789737821104</td><td>38884778472408320</td><td>12.2866153101</td><td>1.99077</td><td>25.6506937019</td><td>4.34994</td><td>-12.2135572167</td><td>1.86756</td><td>0</td><td>84.6709</td><td>0.875158</td><td>20.86903</td><td>0.0112221680733</td><td>37.6303</td><td>9.20805</td><td>21.412542</td><td>0.265676775135</td><td>119.628</td><td>9.95763</td><td>19.567343</td><td>0.0903751313021</td><td>1.8451996</td><td>nan</td><td>nan</td><td>nan</td><td>nan</td><td>nan</td><td>nan</td><td>nan</td></tr>\n",
       "<tr><td>61.0480250938</td><td>0.108184405745</td><td>13.949255303</td><td>0.0437566836918</td><td>38895090691331072</td><td>11.2994974774</td><td>0.114826</td><td>-16.9244051413</td><td>0.253033</td><td>63.2622386906</td><td>0.10295</td><td>0</td><td>6426.11</td><td>3.99126</td><td>16.168495</td><td>0.000674350325473</td><td>994.645</td><td>6.96099</td><td>17.857218</td><td>0.00759848750859</td><td>8721.09</td><td>13.9087</td><td>14.910493</td><td>0.00173156814329</td><td>2.946725</td><td>nan</td><td>nan</td><td>3643.045</td><td>0.0283</td><td>0.0188</td><td>nan</td><td>nan</td></tr>\n",
       "<tr><td>60.5868332336</td><td>2.7387607318</td><td>13.9505950967</td><td>0.946104643245</td><td>38904397883226624</td><td>10.5274489716</td><td>3.40738</td><td>7.16380942306</td><td>3.34817</td><td>-0.0978708638998</td><td>1.3412</td><td>0</td><td>92.8459</td><td>0.783078</td><td>20.768959</td><td>0.00915728096312</td><td>46.4378</td><td>7.30858</td><td>21.18421</td><td>0.170877811329</td><td>95.4192</td><td>8.98096</td><td>19.81283</td><td>0.102190733452</td><td>1.3713799</td><td>nan</td><td>nan</td><td>nan</td><td>nan</td><td>nan</td><td>nan</td><td>nan</td></tr>\n",
       "</table>"
      ],
      "text/plain": [
       "<Table length=3>\n",
       "      ra         ra_error         dec      ... radius_val lum_val\n",
       "     deg           mas            deg      ...   solRad    solLum\n",
       "   float64       float64        float64    ...  float32   float64\n",
       "------------- -------------- ------------- ... ---------- -------\n",
       "60.7266994989  1.84260489352 13.7198341427 ...        nan     nan\n",
       "61.0480250938 0.108184405745  13.949255303 ...        nan     nan\n",
       "60.5868332336   2.7387607318 13.9505950967 ...        nan     nan"
      ]
     },
     "execution_count": 7,
     "metadata": {},
     "output_type": "execute_result"
    }
   ],
   "source": [
    "import astropy.table as table\n",
    "d = table.Table.read(input_path)\n",
    "d[0:3]"
   ]
  },
  {
   "cell_type": "code",
   "execution_count": 8,
   "metadata": {},
   "outputs": [
    {
     "name": "stdout",
     "output_type": "stream",
     "text": [
      "['ra', 'ra_error', 'dec', 'dec_error', 'source_id', 'parallax', 'parallax_error', 'pmra', 'pmra_error', 'pmdec', 'pmdec_error', 'duplicated_source', 'phot_g_mean_flux', 'phot_g_mean_flux_error', 'phot_g_mean_mag', 'phot_g_mean_mag_error', 'phot_bp_mean_flux', 'phot_bp_mean_flux_error', 'phot_bp_mean_mag', 'phot_bp_mean_mag_error', 'phot_rp_mean_flux', 'phot_rp_mean_flux_error', 'phot_rp_mean_mag', 'phot_rp_mean_mag_error', 'bp_rp', 'radial_velocity', 'radial_velocity_error', 'teff_val', 'a_g_val', 'e_bp_min_rp_val', 'radius_val', 'lum_val']\n"
     ]
    }
   ],
   "source": [
    "print(d.colnames)"
   ]
  },
  {
   "cell_type": "code",
   "execution_count": 9,
   "metadata": {},
   "outputs": [
    {
     "name": "stdout",
     "output_type": "stream",
     "text": [
      "Undefined mags for 0 targets\n",
      "Mag range:  3.16 < G < 20.99\n",
      "Targets brighter than G = 16: 1042/1691 (61.62%)\n"
     ]
    }
   ],
   "source": [
    "BRIGHT_TIME_BRIGHT_LIMIT = 16.0\n",
    "\n",
    "finite_mag                 = np.isfinite(d['phot_g_mean_mag'])\n",
    "brighter_than_bright_limit = (d['phot_g_mean_mag'] < BRIGHT_TIME_BRIGHT_LIMIT) & finite_mag\n",
    "fainter_than_bright_limit  = (d['phot_g_mean_mag'] > BRIGHT_TIME_BRIGHT_LIMIT) & finite_mag\n",
    "\n",
    "print('Undefined mags for {:d} targets'.format((~finite_mag).sum()))\n",
    "print('Mag range: {:5.2f} < G < {:5.2f}'.format(d['phot_g_mean_mag'][finite_mag].min() ,d['phot_g_mean_mag'][finite_mag].max()))\n",
    "print('Targets brighter than G = 16: {}/{} ({:3.2%})'.format(brighter_than_bright_limit.sum(),\n",
    "                                                             len(d),\n",
    "                                                             brighter_than_bright_limit.sum()/len(d)))\n",
    "\n",
    "bright_time_targets = fainter_than_bright_limit"
   ]
  },
  {
   "cell_type": "code",
   "execution_count": 12,
   "metadata": {},
   "outputs": [
    {
     "data": {
      "image/png": "[encoded data removed]",
      "text/plain": [
       "<matplotlib.figure.Figure at 0x2aaae33322b0>"
      ]
     },
     "metadata": {},
     "output_type": "display_data"
    }
   ],
   "source": [
    "import matplotlib.pyplot as pl\n",
    "pl.hist(d['phot_g_mean_mag'][finite_mag],bins=np.arange(0,22,0.5));\n",
    "pl.xlabel('G');\n",
    "pl.axvline(BRIGHT_TIME_BRIGHT_LIMIT,c='r',alpha=0.5);"
   ]
  },
  {
   "cell_type": "markdown",
   "metadata": {},
   "source": [
    "Adjust to secondary target data model:"
   ]
  },
  {
   "cell_type": "code",
   "execution_count": 13,
   "metadata": {},
   "outputs": [],
   "source": [
    "output = d['ra','dec','pmra','pmdec','source_id'][bright_time_targets]\n",
    "\n",
    "for cn_old,cn_new in zip(['ra','dec','source_id','pmra','pmdec'],['RA','DEC','REF_ID','PMRA','PMDEC']):\n",
    "    output.rename_column(cn_old,cn_new) \n",
    "\n",
    "output.add_column(Column(np.repeat(False,len(output)),'OVERRIDE'))\n",
    "#output.add_column(Column(np.zeros(len(output),dtype=np.float32),'PMRA'))\n",
    "#output.add_column(Column(np.zeros(len(output),dtype=np.float32),'PMDEC'))\n",
    "output.add_column(Column(np.repeat(REF_CAT,len(output)),'REF_CAT'))\n",
    "output.add_column(Column(np.repeat(REF_EPOCH,len(output)),'REF_EPOCH'))"
   ]
  },
  {
   "cell_type": "markdown",
   "metadata": {},
   "source": [
    "Add header:"
   ]
  },
  {
   "cell_type": "code",
   "execution_count": 16,
   "metadata": {},
   "outputs": [
    {
     "name": "stdout",
     "output_type": "stream",
     "text": [
      "1\n"
     ]
    }
   ],
   "source": [
    "output.meta['VRAWDATA'] = int(os.path.abspath(input_path).split(os.path.sep)[-3])\n",
    "print(output.meta['VRAWDATA'])"
   ]
  },
  {
   "cell_type": "code",
   "execution_count": 17,
   "metadata": {},
   "outputs": [
    {
     "data": {
      "text/html": [
       "&lt;Table length=3&gt;\n",
       "<table id=\"table46913445589400\" class=\"table-striped table-bordered table-condensed\">\n",
       "<thead><tr><th>RA</th><th>DEC</th><th>PMRA</th><th>PMDEC</th><th>REF_ID</th><th>OVERRIDE</th><th>REF_CAT</th><th>REF_EPOCH</th></tr></thead>\n",
       "<thead><tr><th>deg</th><th>deg</th><th>mas / yr</th><th>mas / yr</th><th></th><th></th><th></th><th></th></tr></thead>\n",
       "<thead><tr><th>float64</th><th>float64</th><th>float64</th><th>float64</th><th>int64</th><th>bool</th><th>str1</th><th>str6</th></tr></thead>\n",
       "<tr><td>60.7266994989</td><td>13.7198341427</td><td>25.6506937019</td><td>-12.2135572167</td><td>38884778472408320</td><td>False</td><td>G</td><td>2015.5</td></tr>\n",
       "<tr><td>61.0480250938</td><td>13.949255303</td><td>-16.9244051413</td><td>63.2622386906</td><td>38895090691331072</td><td>False</td><td>G</td><td>2015.5</td></tr>\n",
       "<tr><td>60.5868332336</td><td>13.9505950967</td><td>7.16380942306</td><td>-0.0978708638998</td><td>38904397883226624</td><td>False</td><td>G</td><td>2015.5</td></tr>\n",
       "</table>"
      ],
      "text/plain": [
       "<Table length=3>\n",
       "      RA           DEC           PMRA      ... OVERRIDE REF_CAT REF_EPOCH\n",
       "     deg           deg         mas / yr    ...                           \n",
       "   float64       float64       float64     ...   bool     str1     str6  \n",
       "------------- ------------- -------------- ... -------- ------- ---------\n",
       "60.7266994989 13.7198341427  25.6506937019 ...    False       G    2015.5\n",
       "61.0480250938  13.949255303 -16.9244051413 ...    False       G    2015.5\n",
       "60.5868332336 13.9505950967  7.16380942306 ...    False       G    2015.5"
      ]
     },
     "execution_count": 17,
     "metadata": {},
     "output_type": "execute_result"
    }
   ],
   "source": [
    "output[0:3]"
   ]
  },
  {
   "cell_type": "markdown",
   "metadata": {},
   "source": [
    "Write output:"
   ]
  },
  {
   "cell_type": "code",
   "execution_count": 18,
   "metadata": {},
   "outputs": [
    {
     "name": "stdout",
     "output_type": "stream",
     "text": [
      "Writing 649 rows of output to /global/projecta/projectdirs/desi/external/mws/sv/MWS_SPECIAL_HYADES_SV/1/indata/MWS_SPECIAL_HYADES_SV.fits\n"
     ]
    }
   ],
   "source": [
    "print('Writing {:d} rows of output to {}'.format(len(output),os.path.abspath(output_path)))\n",
    "output.write(output_path,overwrite=True)"
   ]
  },
  {
   "cell_type": "code",
   "execution_count": null,
   "metadata": {},
   "outputs": [],
   "source": []
  }
 ],
 "metadata": {
  "kernelspec": {
   "display_name": "DESI master",
   "language": "python",
   "name": "desi-master"
  },
  "language_info": {
   "codemirror_mode": {
    "name": "ipython",
    "version": 3
   },
   "file_extension": ".py",
   "mimetype": "text/x-python",
   "name": "python",
   "nbconvert_exporter": "python",
   "pygments_lexer": "ipython3",
   "version": "3.6.6"
  }
 },
 "nbformat": 4,
 "nbformat_minor": 4
}
