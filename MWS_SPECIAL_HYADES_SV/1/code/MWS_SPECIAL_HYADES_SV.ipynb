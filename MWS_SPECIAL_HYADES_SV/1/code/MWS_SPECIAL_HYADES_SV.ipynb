{
 "cells": [
  {
   "cell_type": "markdown",
   "metadata": {},
   "source": [
    "# MWS Secondary Target Selection"
   ]
  },
  {
   "cell_type": "markdown",
   "metadata": {},
   "source": [
    "## MWS_SPECIAL_HYADES_SV"
   ]
  },
  {
   "cell_type": "markdown",
   "metadata": {},
   "source": [
    "Maintainers:\n",
    "  - Boris Gaensicke (selection/catalog)\n",
    "  - Andrew Cooper (secondary target code)"
   ]
  },
  {
   "cell_type": "code",
   "execution_count": 1,
   "metadata": {},
   "outputs": [
    {
     "name": "stdout",
     "output_type": "stream",
     "text": [
      "/global/projecta/projectdirs/desi/external/mws/sv/MWS_SPECIAL_HYADES_SV/1/code\n",
      "desi_sv_hyades.fits\n"
     ]
    }
   ],
   "source": [
    "!pwd\n",
    "!ls ../raw"
   ]
  },
  {
   "cell_type": "code",
   "execution_count": 2,
   "metadata": {},
   "outputs": [],
   "source": [
    "# Parameters\n",
    "\n",
    "target_class    = 'MWS_SPECIAL_HYADES_SV'\n",
    "input_filename  = 'desi_sv_hyades.fits'\n",
    "\n",
    "REF_CAT        = 'G'\n",
    "REF_EPOCH      = 2015.5\n",
    "\n",
    "SELECT_MAG     = 'phot_g_mean_mag'\n",
    "BRIGHT_LIMIT   = 16.0\n",
    "FAINT_LIMIT    = 21.0\n",
    "\n",
    "colmap = {\n",
    "    'ra':        'RA',\n",
    "    'dec':       'DEC',\n",
    "    'pmra':      'PMRA',\n",
    "    'pmdec':     'PMDEC',\n",
    "    'source_id': 'REF_ID'\n",
    "}"
   ]
  },
  {
   "cell_type": "markdown",
   "metadata": {},
   "source": [
    "Stars in the Hyades; selected all stars in Gaia with parallax distance < 100pc in a 15x15 deg box centred on the cluster.\n",
    "\n",
    "The selection criteria are:\n",
    "\n",
    "???"
   ]
  },
  {
   "cell_type": "raw",
   "metadata": {},
   "source": [
    "DATA MODEL REFERENCE:\n",
    "(see /project/projectdirs/desi/target/secondary/README for latest changes)\n",
    "\n",
    "(1) In $SCND_DIR/indata: .fits or .txt files defining the secondary\n",
    "      targets with columns corresponding to:\n",
    "    \n",
    "        ('RA', '>f8')\n",
    "        ('DEC', '>f8')\n",
    "        ('PMRA', '>f4')\n",
    "        ('PMDEC', '>f4')\n",
    "        ('REF_EPOCH', '>f4')\n",
    "        ('OVERRIDE', '?')\n",
    "\n",
    "      Units of these quantities are the same as for the Legacy Surveys\n",
    "      data model.\n",
    "\n",
    "      For .txt files the first N columns must correspond to the N columns\n",
    "      in secondary.indatamodel, and other columns can be anything. The #\n",
    "      may be used as a comment card. For objects with low proper motion\n",
    "      it is permissible to pass zeros for the proper motion columns. If\n",
    "      zero is passed for REF_EPOCH, it will be assumed to be 2015.5\n",
    "\n",
    "      For .fits files, a subset of the columns must correspond to the\n",
    "      columns in secondary.indatamodel, other columns can be anything.\n",
    "\n",
    "      Note that the OVERRIDE column in the data model means \"do not just\n",
    "      accept an existing target, override it and make a new TARGETID.\" It\n",
    "      should be True (override) or False (do not override) for each target.\n",
    "      In .txt files it should be 1 or 0 instead of True/False, and will be\n",
    "      loaded from the text file as the corresponding Boolean."
   ]
  },
  {
   "cell_type": "code",
   "execution_count": 3,
   "metadata": {},
   "outputs": [
    {
     "name": "stdout",
     "output_type": "stream",
     "text": [
      "Reading input: /global/projecta/projectdirs/desi/external/mws/sv/MWS_SPECIAL_HYADES_SV/1/raw/desi_sv_hyades.fits\n",
      "Read 2523 rows\n",
      "First 3 rows:\n",
      "        ra              ra_error              dec         ... radius_val lum_val\n",
      "       deg                mas                 deg         ...   solRad    solLum\n",
      "----------------- -------------------- ------------------ ... ---------- -------\n",
      " 59.2256812428455  0.06768419661503129 12.238873185202262 ...        nan     nan\n",
      "59.24562722431705  0.06408678365995794   12.2690942142417 ...        nan     nan\n",
      "59.14256245914272 0.037828341133708775  12.37183076002581 ...        nan     nan\n",
      "\n",
      "Column names:\n",
      "['ra', 'ra_error', 'dec', 'dec_error', 'source_id', 'parallax', 'parallax_error', 'pmra', 'pmra_error', 'pmdec', 'pmdec_error', 'duplicated_source', 'phot_g_mean_flux', 'phot_g_mean_flux_error', 'phot_g_mean_mag', 'phot_g_mean_mag_error', 'phot_bp_mean_flux', 'phot_bp_mean_flux_error', 'phot_bp_mean_mag', 'phot_bp_mean_mag_error', 'phot_rp_mean_flux', 'phot_rp_mean_flux_error', 'phot_rp_mean_mag', 'phot_rp_mean_mag_error', 'bp_rp', 'radial_velocity', 'radial_velocity_error', 'teff_val', 'a_g_val', 'e_bp_min_rp_val', 'radius_val', 'lum_val']\n",
      "\n",
      "\n",
      "Mag range:  3.16 < phot_g_mean_mag < 20.99\n",
      "Mags not finite: 0\n",
      "Selecting 985 targets from 2523 (39.04%)\n",
      "Selecting 2523 from 2523 (100.00%) on dec\n",
      "2523 of 2523 targets have unique source_id\n",
      "Removing 0 duplicates\n",
      "\n",
      "Writing 985 rows of output to /global/projecta/projectdirs/desi/external/mws/sv/MWS_SPECIAL_HYADES_SV/1/indata/MWS_SPECIAL_HYADES_SV.fits\n",
      "        RA                DEC            PMRA    ... OVERRIDE REF_CAT REF_EPOCH\n",
      "       deg                deg          mas / yr  ...                           \n",
      "------------------ ------------------ ---------- ... -------- ------- ---------\n",
      "59.397505749958334  13.44154096648677   38.58301 ...    False       G    2015.5\n",
      " 59.83519149006509  13.76714018625685  -74.27582 ...    False       G    2015.5\n",
      "59.282334355643705 13.511578281860512 -11.499212 ...    False       G    2015.5\n"
     ]
    },
    {
     "name": "stderr",
     "output_type": "stream",
     "text": [
      "WARNING: VerifyWarning: Keyword name 'BRIGHT_LIMIT' is greater than 8 characters or contains characters not allowed by the FITS standard; a HIERARCH card will be created. [astropy.io.fits.card]\n",
      "WARNING: VerifyWarning: Keyword name 'FAINT_LIMIT' is greater than 8 characters or contains characters not allowed by the FITS standard; a HIERARCH card will be created. [astropy.io.fits.card]\n"
     ]
    }
   ],
   "source": [
    "from   importlib import reload\n",
    "import sys\n",
    "PYPATH = '/project/projectdirs/desi/external/mws/py/'\n",
    "if PYPATH not in sys.path: sys.path.append(PYPATH)\n",
    "import mwsecondary.mwsecondary as mws\n",
    "reload(mws)\n",
    "\n",
    "import os\n",
    "import sys\n",
    "import numpy as np\n",
    "\n",
    "targets = mws.SecondaryTargets(target_class,input_filename,ref_cat=REF_CAT,ref_epoch=REF_EPOCH)\n",
    "targets.print_info()\n",
    "mask    = targets.select_finite_mag_range(SELECT_MAG,faint_limit=FAINT_LIMIT,bright_limit=BRIGHT_LIMIT)\n",
    "mask   &= targets.select_finite_range('dec',lower_limit=-30.0,verbose=True)\n",
    "mask   &= targets.select_unique('source_id',verbose=True)\n",
    "\n",
    "# Adjust to secondary target data model and write output\n",
    "header = dict([(_,globals()[_]) for _ in ['BRIGHT_LIMIT','FAINT_LIMIT']])\n",
    "output = targets.get_output(mask,cols=colmap,write=True,header=header)\n",
    "print(output[0:3])"
   ]
  },
  {
   "cell_type": "code",
   "execution_count": 4,
   "metadata": {},
   "outputs": [
    {
     "name": "stdout",
     "output_type": "stream",
     "text": [
      "(58.71585165306551, 8.29456383996967)\n"
     ]
    },
    {
     "data": {
      "text/plain": [
       "<matplotlib.patches.Rectangle at 0x2aaada1a9470>"
      ]
     },
     "execution_count": 4,
     "metadata": {},
     "output_type": "execute_result"
    }
   ],
   "source": [
    "import matplotlib.pyplot as pl\n",
    "d = targets.data\n",
    "\n",
    "pl.figure(figsize=(6,6))\n",
    "pl.scatter(d['ra'],d['dec'])\n",
    "pl.axis('auto')\n",
    "pl.xlim(55,85)\n",
    "pl.ylim(5,35)\n",
    "xy = (d['ra'].min(),d['dec'].min())\n",
    "print(xy)\n",
    "p = pl.Rectangle(xy,15,15,fill=True,color='r',alpha=0.5,zorder=-10)\n",
    "ax = pl.gca()\n",
    "ax.add_patch(p)"
   ]
  },
  {
   "cell_type": "code",
   "execution_count": null,
   "metadata": {},
   "outputs": [],
   "source": []
  }
 ],
 "metadata": {
  "kernelspec": {
   "display_name": "DESI master",
   "language": "python",
   "name": "desi-master"
  },
  "language_info": {
   "codemirror_mode": {
    "name": "ipython",
    "version": 3
   },
   "file_extension": ".py",
   "mimetype": "text/x-python",
   "name": "python",
   "nbconvert_exporter": "python",
   "pygments_lexer": "ipython3",
   "version": "3.6.6"
  }
 },
 "nbformat": 4,
 "nbformat_minor": 4
}
