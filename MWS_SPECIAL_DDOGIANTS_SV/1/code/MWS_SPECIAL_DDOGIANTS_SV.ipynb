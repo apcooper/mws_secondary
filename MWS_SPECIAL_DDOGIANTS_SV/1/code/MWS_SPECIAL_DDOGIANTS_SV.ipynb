{
 "cells": [
  {
   "cell_type": "markdown",
   "metadata": {},
   "source": [
    "# MWS Secondary Target Selection"
   ]
  },
  {
   "cell_type": "markdown",
   "metadata": {},
   "source": [
    "## MWS_SPECIAL_DDOGIANTS_SV"
   ]
  },
  {
   "cell_type": "markdown",
   "metadata": {},
   "source": [
    "Maintainers:\n",
    "  - David Nidever (selection/catalog)\n",
    "  - Ting Li\n",
    "  - Andrew Cooper (secondary target code)"
   ]
  },
  {
   "cell_type": "code",
   "execution_count": 8,
   "metadata": {},
   "outputs": [
    {
     "name": "stdout",
     "output_type": "stream",
     "text": [
      "/global/projecta/projectdirs/desi/external/mws/sv/MWS_SPECIAL_DDOGIANTS_SV/1/code\n",
      "allgiants_xm_gaia_4DESI_v0.fits\n"
     ]
    }
   ],
   "source": [
    "!pwd\n",
    "!ls ../raw"
   ]
  },
  {
   "cell_type": "code",
   "execution_count": 10,
   "metadata": {},
   "outputs": [],
   "source": [
    "# Parameters\n",
    "\n",
    "target_class   = 'MWS_SPECIAL_DDOGIANTS_SV'\n",
    "input_filename = 'allgiants_xm_gaia_4DESI_v0.fits'\n",
    "\n",
    "REF_CAT        = 'G'\n",
    "REF_EPOCH      = 2015.5\n",
    "\n",
    "SELECT_MAG     = 'phot_g_mean_mag'\n",
    "BRIGHT_LIMIT   = 16.0\n",
    "FAINT_LIMIT    = 20.0\n",
    "\n",
    "colmap = {\n",
    "    'ra':        'RA',\n",
    "    'dec':       'DEC',\n",
    "    'pmra':      'PMRA',\n",
    "    'pmdec':     'PMDEC',\n",
    "    'source_id': 'REF_ID'\n",
    "}"
   ]
  },
  {
   "cell_type": "markdown",
   "metadata": {},
   "source": [
    "{ DESCRIPTION NEEDED }\n",
    "\n",
    "The selection criteria are:\n",
    "\n",
    "???"
   ]
  },
  {
   "cell_type": "raw",
   "metadata": {},
   "source": [
    "DATA MODEL REFERENCE:\n",
    "(see /project/projectdirs/desi/target/secondary/README for latest changes)\n",
    "\n",
    "(1) In $SCND_DIR/indata: .fits or .txt files defining the secondary\n",
    "      targets with columns corresponding to:\n",
    "    \n",
    "        ('RA', '>f8')\n",
    "        ('DEC', '>f8')\n",
    "        ('PMRA', '>f4')\n",
    "        ('PMDEC', '>f4')\n",
    "        ('REF_EPOCH', '>f4')\n",
    "        ('OVERRIDE', '?')\n",
    "\n",
    "      Units of these quantities are the same as for the Legacy Surveys\n",
    "      data model.\n",
    "\n",
    "      For .txt files the first N columns must correspond to the N columns\n",
    "      in secondary.indatamodel, and other columns can be anything. The #\n",
    "      may be used as a comment card. For objects with low proper motion\n",
    "      it is permissible to pass zeros for the proper motion columns. If\n",
    "      zero is passed for REF_EPOCH, it will be assumed to be 2015.5\n",
    "\n",
    "      For .fits files, a subset of the columns must correspond to the\n",
    "      columns in secondary.indatamodel, other columns can be anything.\n",
    "\n",
    "      Note that the OVERRIDE column in the data model means \"do not just\n",
    "      accept an existing target, override it and make a new TARGETID.\" It\n",
    "      should be True (override) or False (do not override) for each target.\n",
    "      In .txt files it should be 1 or 0 instead of True/False, and will be\n",
    "      loaded from the text file as the corresponding Boolean."
   ]
  },
  {
   "cell_type": "code",
   "execution_count": 11,
   "metadata": {},
   "outputs": [
    {
     "name": "stdout",
     "output_type": "stream",
     "text": [
      "Reading input: /global/projecta/projectdirs/desi/external/mws/sv/MWS_SPECIAL_DDOGIANTS_SV/1/raw/allgiants_xm_gaia_4DESI_v0.fits\n",
      "Read 291411 rows\n",
      "First 3 rows:\n",
      "       ra              dec        ... phot_bp_mean_mag phot_rp_mean_mag\n",
      "---------------- ---------------- ... ---------------- ----------------\n",
      "328.519773312368 2.40651951768389 ...        16.265697        15.058078\n",
      "328.530788027781 2.53707028993252 ...        19.563778        18.097618\n",
      "328.592711695555 2.42055391398862 ...        15.198254        14.016314\n",
      "\n",
      "Column names:\n",
      "['ra', 'dec', 'source_id', 'pmra', 'pmdec', 'phot_g_mean_mag', 'phot_bp_mean_mag', 'phot_rp_mean_mag']\n",
      "\n",
      "\n",
      "Mag range: 10.67 < phot_g_mean_mag < 20.88\n",
      "Mags not finite: 0\n",
      "Selecting 212813 targets from 291411 (73.03%)\n",
      "Selecting 291411 from 291411 (100.00%) on dec\n",
      "286444 of 291411 targets have unique source_id\n",
      "Removing 4967 duplicates\n",
      "\n",
      "Writing 209890 rows of output to /global/projecta/projectdirs/desi/external/mws/sv/MWS_SPECIAL_DDOGIANTS_SV/1/indata/MWS_SPECIAL_DDOGIANTS_SV.fits\n",
      "       RA              DEC           PMRA    ... OVERRIDE REF_CAT REF_EPOCH\n",
      "---------------- ---------------- ---------- ... -------- ------- ---------\n",
      "328.530788027781 2.53707028993252  -9.110698 ...    False       G    2015.5\n",
      " 328.59327920521 2.44939161551723 0.27152494 ...    False       G    2015.5\n",
      "328.591951469507 2.36698433447594 -1.1054692 ...    False       G    2015.5\n"
     ]
    }
   ],
   "source": [
    "from   importlib import reload\n",
    "import sys\n",
    "PYPATH = '/project/projectdirs/desi/external/mws/py/'\n",
    "if PYPATH not in sys.path: sys.path.append(PYPATH)\n",
    "import mwsecondary.mwsecondary as mws\n",
    "reload(mws)\n",
    "\n",
    "import os\n",
    "import sys\n",
    "import numpy as np\n",
    "\n",
    "targets = mws.SecondaryTargets(target_class,input_filename,ref_cat=REF_CAT,ref_epoch=REF_EPOCH)\n",
    "targets.print_info()\n",
    "mask    = targets.select_finite_mag_range(SELECT_MAG,faint_limit=FAINT_LIMIT,bright_limit=BRIGHT_LIMIT)\n",
    "mask   &= targets.select_finite_range('dec',lower_limit=-30.0,verbose=True)\n",
    "mask   &= targets.select_unique('source_id',verbose=True)\n",
    "\n",
    "# Adjust to secondary target data model and write output\n",
    "header = dict([(_,globals()[_]) for _ in ['BRIGHT_LIMIT','FAINT_LIMIT']])\n",
    "output = targets.get_output(mask,cols=colmap,write=True,header=header)\n",
    "print(output[0:3])"
   ]
  },
  {
   "cell_type": "code",
   "execution_count": 12,
   "metadata": {},
   "outputs": [],
   "source": [
    "import astropy.coordinates as coords\n",
    "import astropy.units as u"
   ]
  },
  {
   "cell_type": "code",
   "execution_count": 13,
   "metadata": {},
   "outputs": [],
   "source": [
    "d = output\n",
    "c = coords.SkyCoord(d['RA'],d['DEC'],frame='icrs',unit='deg')\n",
    "\n",
    "loc = coords.SkyCoord(17.164206818250552,-6.75549695453128,frame='icrs',unit='deg')\n",
    "sep = c.separation(loc)\n",
    "nearest = np.argsort(sep)[0:10]"
   ]
  },
  {
   "cell_type": "code",
   "execution_count": 14,
   "metadata": {},
   "outputs": [
    {
     "data": {
      "text/latex": [
       "[$1.77814e-10\\mathrm{{}^{\\prime\\prime}}$\n",
       " $456.697\\mathrm{{}^{\\prime\\prime}}$ $880.241\\mathrm{{}^{\\prime\\prime}}$\n",
       " $1076.95\\mathrm{{}^{\\prime\\prime}}$ $1141.69\\mathrm{{}^{\\prime\\prime}}$\n",
       " $1143.83\\mathrm{{}^{\\prime\\prime}}$ $1159.03\\mathrm{{}^{\\prime\\prime}}$\n",
       " $1196.11\\mathrm{{}^{\\prime\\prime}}$ $2843.27\\mathrm{{}^{\\prime\\prime}}$\n",
       " $2940.57\\mathrm{{}^{\\prime\\prime}}$]"
      ],
      "text/plain": [
       "<Angle [1.77813610e-10, 4.56696896e+02, 8.80241338e+02, 1.07695280e+03,\n",
       "        1.14168730e+03, 1.14383069e+03, 1.15902823e+03, 1.19610746e+03,\n",
       "        2.84326940e+03, 2.94057045e+03] arcsec>"
      ]
     },
     "execution_count": 14,
     "metadata": {},
     "output_type": "execute_result"
    }
   ],
   "source": [
    "sep[nearest].to(u.arcsec)"
   ]
  },
  {
   "cell_type": "code",
   "execution_count": 15,
   "metadata": {},
   "outputs": [
    {
     "data": {
      "text/html": [
       "&lt;Row index=133646&gt;\n",
       "<table id=\"table46912540218536\">\n",
       "<thead><tr><th>RA</th><th>DEC</th><th>PMRA</th><th>PMDEC</th><th>REF_ID</th><th>OVERRIDE</th><th>REF_CAT</th><th>REF_EPOCH</th></tr></thead>\n",
       "<thead><tr><th>float64</th><th>float64</th><th>float32</th><th>float32</th><th>int64</th><th>bool</th><th>bytes6</th><th>float32</th></tr></thead>\n",
       "<tr><td>17.1642068182506</td><td>-6.75549695453128</td><td>198.21039</td><td>-191.53679</td><td>2476456668037305088</td><td>False</td><td>G</td><td>2015.5</td></tr>\n",
       "</table>"
      ],
      "text/plain": [
       "<Row index=133646>\n",
       "       RA               DEC           PMRA     PMDEC           REF_ID       OVERRIDE REF_CAT REF_EPOCH\n",
       "    float64           float64       float32   float32          int64          bool    bytes6  float32 \n",
       "---------------- ----------------- --------- ---------- ------------------- -------- ------- ---------\n",
       "17.1642068182506 -6.75549695453128 198.21039 -191.53679 2476456668037305088    False       G    2015.5"
      ]
     },
     "execution_count": 15,
     "metadata": {},
     "output_type": "execute_result"
    }
   ],
   "source": [
    "d[nearest[0]]"
   ]
  },
  {
   "cell_type": "code",
   "execution_count": 16,
   "metadata": {},
   "outputs": [
    {
     "data": {
      "text/html": [
       "&lt;Row index=181863&gt;\n",
       "<table id=\"table46912540179424\">\n",
       "<thead><tr><th>ra</th><th>dec</th><th>source_id</th><th>pmra</th><th>pmdec</th><th>phot_g_mean_mag</th><th>phot_bp_mean_mag</th><th>phot_rp_mean_mag</th></tr></thead>\n",
       "<thead><tr><th>float64</th><th>float64</th><th>int64</th><th>float32</th><th>float32</th><th>float32</th><th>float32</th><th>float32</th></tr></thead>\n",
       "<tr><td>17.1642068182506</td><td>-6.75549695453128</td><td>2476456668037305088</td><td>198.21039</td><td>-191.53679</td><td>19.083017</td><td>19.69088</td><td>18.270662</td></tr>\n",
       "</table>"
      ],
      "text/plain": [
       "<Row index=181863>\n",
       "       ra               dec             source_id         pmra     pmdec    phot_g_mean_mag phot_bp_mean_mag phot_rp_mean_mag\n",
       "    float64           float64             int64         float32   float32       float32         float32          float32     \n",
       "---------------- ----------------- ------------------- --------- ---------- --------------- ---------------- ----------------\n",
       "17.1642068182506 -6.75549695453128 2476456668037305088 198.21039 -191.53679       19.083017         19.69088        18.270662"
      ]
     },
     "execution_count": 16,
     "metadata": {},
     "output_type": "execute_result"
    }
   ],
   "source": [
    "d = targets.data\n",
    "c = coords.SkyCoord(d['ra'],d['dec'],frame='icrs',unit='deg')\n",
    "\n",
    "loc = coords.SkyCoord(17.164206818250552,-6.75549695453128,frame='icrs',unit='deg')\n",
    "sep = c.separation(loc)\n",
    "nearest = np.argsort(sep)[0:10]\n",
    "d[nearest[0]]"
   ]
  },
  {
   "cell_type": "code",
   "execution_count": null,
   "metadata": {},
   "outputs": [],
   "source": []
  }
 ],
 "metadata": {
  "kernelspec": {
   "display_name": "DESI master",
   "language": "python",
   "name": "desi-master"
  },
  "language_info": {
   "codemirror_mode": {
    "name": "ipython",
    "version": 3
   },
   "file_extension": ".py",
   "mimetype": "text/x-python",
   "name": "python",
   "nbconvert_exporter": "python",
   "pygments_lexer": "ipython3",
   "version": "3.6.6"
  }
 },
 "nbformat": 4,
 "nbformat_minor": 4
}
