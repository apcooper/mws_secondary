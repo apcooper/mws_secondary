{
 "cells": [
  {
   "cell_type": "markdown",
   "metadata": {},
   "source": [
    "# MWS Secondary Target Selection"
   ]
  },
  {
   "cell_type": "markdown",
   "metadata": {},
   "source": [
    "## MWS_SPECIAL_WDBINARY_SV"
   ]
  },
  {
   "cell_type": "markdown",
   "metadata": {},
   "source": [
    "Maintainers:\n",
    "  - Boris Gaensicke (selection/catalog)\n",
    "  - Andrew Cooper (secondary target code)\n",
    "  \n",
    "See `/project/projectdirs/desi/target/secondary/README` for output data model. "
   ]
  },
  {
   "cell_type": "code",
   "execution_count": 2,
   "metadata": {},
   "outputs": [
    {
     "name": "stdout",
     "output_type": "stream",
     "text": [
      "/global/projecta/projectdirs/desi/external/mws/sv/MWS_SPECIAL_WDBINARY_SV/2/code\n",
      "WD_BinaryCandidates_GALEX_Gaia_Photometry.csv\n",
      "WD_BinaryCandidates_Variability_Photometry.csv\n"
     ]
    }
   ],
   "source": [
    "!pwd\n",
    "!ls ../raw"
   ]
  },
  {
   "cell_type": "code",
   "execution_count": 3,
   "metadata": {},
   "outputs": [],
   "source": [
    "# Parameters\n",
    "\n",
    "target_class    = 'MWS_SPECIAL_WDBINARY_SV'\n",
    "input_filenames = 'WD_BinaryCandidates_GALEX_Gaia_Photometry.csv', 'WD_BinaryCandidates_Variability_Photometry.csv'\n",
    "\n",
    "OVERRIDE       = True\n",
    "REF_CAT        = 'G'\n",
    "REF_EPOCH      = 2015.5\n",
    "\n",
    "SELECT_MAG     = 'phot_g_mean_mag'\n",
    "BRIGHT_LIMIT   = 16.0\n",
    "FAINT_LIMIT    = 21.0\n",
    "\n",
    "colmap = {\n",
    "    'ra':        'RA',\n",
    "    'dec':       'DEC',\n",
    "    'pmra':      'PMRA',\n",
    "    'pmdec':     'PMDEC',\n",
    "    'source_id': 'REF_ID'\n",
    "}"
   ]
  },
  {
   "cell_type": "markdown",
   "metadata": {},
   "source": [
    "Two target lists of WD binary candidates, one based on a GALEX + Gaia selection, and one which is a heterogeneous collection of variability-selected sources compiled from the literature, variable star observers, and the various time-domain surveys (ASAS-SN, CRTS, Gaia alerts).\n",
    "\n",
    "Of those CVs/CV candidates, ~1280 are in the GALEX/Gaia cross-match. We use those as fiducial sample.\n",
    "\n",
    "A selection on parallax significance, FUV magnitude, and G-band magnitude does a good job at tracing the outline of this fiducial sample:\n",
    "\n",
    "parallax_over_error > 2 && FUV < 21 && phot_g_mean_mag > 16\n",
    "\n",
    "=> 128956 sources, ~5 per square degree (see the sky map on https://desi.lbl.gov/trac/wiki/MilkyWayWG/TargetSelectionDoc/SpecialTarget)\n",
    "\n",
    "Note that this selection includes a good fraction (~1/3) of single white dwarfs (lower left in the HRD), which will be targeted separately as flux calibration and science targets. These could be relatively easily be removed via their Gaia IDs, if necessary."
   ]
  },
  {
   "cell_type": "code",
   "execution_count": 5,
   "metadata": {},
   "outputs": [
    {
     "name": "stdout",
     "output_type": "stream",
     "text": [
      "Reading input: /global/projecta/projectdirs/desi/external/mws/sv/MWS_SPECIAL_WDBINARY_SV/2/raw/WD_BinaryCandidates_GALEX_Gaia_Photometry.csv\n",
      "Reading input: /global/projecta/projectdirs/desi/external/mws/sv/MWS_SPECIAL_WDBINARY_SV/2/raw/WD_BinaryCandidates_Variability_Photometry.csv\n",
      "Fixing string column names\n",
      "Read 133651 rows\n",
      "First 3 rows:\n",
      "     source_id            ra           dec       ... phot_rp_mean_mag epoch\n",
      "------------------- ------------- -------------- ... ---------------- -----\n",
      "4026850114257127040 181.785874231  32.3654862154 ...        20.027218    --\n",
      "5573594388757919616 95.0484717384 -40.0562593775 ...        19.306456    --\n",
      "5672222574635034880 148.886907858 -17.6974649742 ...         15.49994    --\n",
      "\n",
      "Column names:\n",
      "['source_id', 'ra', 'dec', 'pmra', 'pmdec', 'Epoch', 'phot_g_mean_mag', 'phot_bp_mean_mag', 'phot_rp_mean_mag', 'epoch']\n",
      "\n",
      "\n",
      "Mag range: 16.00 < phot_g_mean_mag < 21.27\n",
      "Mags not finite: 0\n",
      "Selecting 133587 targets from 133651 (99.95%)\n",
      "Selecting 95174 from 133651 (71.21%) on dec\n",
      "132995 of 133651 targets have unique source_id\n",
      "Removing 656 duplicates\n",
      "\n",
      "Writing 94611 rows of output to /global/projecta/projectdirs/desi/external/mws/sv/MWS_SPECIAL_WDBINARY_SV/2/indata/MWS_SPECIAL_WDBINARY_SV.fits\n",
      "      RA           DEC          PMRA     PMDEC   ... OVERRIDE REF_CAT REF_EPOCH\n",
      "------------- -------------- ---------- -------- ... -------- ------- ---------\n",
      "181.785874231  32.3654862154   -22.3944  1.71074 ...     True       G    2015.5\n",
      "148.886907858 -17.6974649742 0.00370616 -18.8239 ...     True       G    2015.5\n",
      "244.574473707  38.4539133306   -9.46123 -15.4789 ...     True       G    2015.5\n"
     ]
    },
    {
     "name": "stderr",
     "output_type": "stream",
     "text": [
      "WARNING: VerifyWarning: Keyword name 'BRIGHT_LIMIT' is greater than 8 characters or contains characters not allowed by the FITS standard; a HIERARCH card will be created. [astropy.io.fits.card]\n",
      "WARNING: VerifyWarning: Keyword name 'FAINT_LIMIT' is greater than 8 characters or contains characters not allowed by the FITS standard; a HIERARCH card will be created. [astropy.io.fits.card]\n"
     ]
    }
   ],
   "source": [
    "from   importlib import reload\n",
    "import sys\n",
    "PYPATH = '/project/projectdirs/desi/external/mws/py/'\n",
    "if PYPATH not in sys.path: sys.path.append(PYPATH)\n",
    "import mwsecondary.mwsecondary as mws\n",
    "reload(mws)\n",
    "\n",
    "import os\n",
    "import sys\n",
    "import numpy as np\n",
    "\n",
    "targets = mws.SecondaryTargets(target_class,input_filenames,ref_cat=REF_CAT,ref_epoch=REF_EPOCH)\n",
    "targets.print_info()\n",
    "mask    = targets.select_finite_mag_range(SELECT_MAG,faint_limit=FAINT_LIMIT,bright_limit=BRIGHT_LIMIT)\n",
    "mask   &= targets.select_finite_range('dec',lower_limit=-30.0,verbose=True)\n",
    "mask   &= targets.select_unique('source_id',verbose=True)\n",
    "\n",
    "# Adjust to secondary target data model and write output\n",
    "# Adjust to secondary target data model and write output\n",
    "header = dict([(_,globals()[_]) for _ in ['BRIGHT_LIMIT','FAINT_LIMIT']])\n",
    "output = targets.get_output(mask,cols=colmap,write=True,header=header,override=OVERRIDE)\n",
    "print(output[0:3])"
   ]
  }
 ],
 "metadata": {
  "kernelspec": {
   "display_name": "DESI 19.2",
   "language": "python",
   "name": "desi-19.2"
  },
  "language_info": {
   "codemirror_mode": {
    "name": "ipython",
    "version": 3
   },
   "file_extension": ".py",
   "mimetype": "text/x-python",
   "name": "python",
   "nbconvert_exporter": "python",
   "pygments_lexer": "ipython3",
   "version": "3.6.6"
  }
 },
 "nbformat": 4,
 "nbformat_minor": 4
}
