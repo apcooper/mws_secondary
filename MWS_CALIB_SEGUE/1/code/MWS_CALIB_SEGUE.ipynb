{
 "cells": [
  {
   "cell_type": "markdown",
   "metadata": {},
   "source": [
    "# MWS Secondary Target Selection"
   ]
  },
  {
   "cell_type": "markdown",
   "metadata": {},
   "source": [
    "## MWS_CALIB_SEGUE"
   ]
  },
  {
   "cell_type": "markdown",
   "metadata": {},
   "source": [
    "Maintainers:\n",
    "  - Ting Li (selection/catalog)\n",
    "  - Andrew Cooper (secondary target code)"
   ]
  },
  {
   "cell_type": "code",
   "execution_count": 2,
   "metadata": {},
   "outputs": [
    {
     "name": "stdout",
     "output_type": "stream",
     "text": [
      "sdss9_xm_gaia_4DESI_v0.fits\n"
     ]
    }
   ],
   "source": [
    "ls ../raw"
   ]
  },
  {
   "cell_type": "markdown",
   "metadata": {},
   "source": [
    "{ DESCRIPTION NEEDED }\n",
    "\n",
    "The selection criteria are:\n",
    "\n",
    "???"
   ]
  },
  {
   "cell_type": "raw",
   "metadata": {},
   "source": [
    "DATA MODEL REFERENCE:\n",
    "(see /project/projectdirs/desi/target/secondary/README for latest changes)\n",
    "\n",
    "(1) In $SCND_DIR/indata: .fits or .txt files defining the secondary\n",
    "      targets with columns corresponding to:\n",
    "    \n",
    "        ('RA', '>f8')\n",
    "        ('DEC', '>f8')\n",
    "        ('PMRA', '>f4')\n",
    "        ('PMDEC', '>f4')\n",
    "        ('REF_EPOCH', '>f4')\n",
    "        ('OVERRIDE', '?')\n",
    "\n",
    "      Units of these quantities are the same as for the Legacy Surveys\n",
    "      data model.\n",
    "\n",
    "      For .txt files the first N columns must correspond to the N columns\n",
    "      in secondary.indatamodel, and other columns can be anything. The #\n",
    "      may be used as a comment card. For objects with low proper motion\n",
    "      it is permissible to pass zeros for the proper motion columns. If\n",
    "      zero is passed for REF_EPOCH, it will be assumed to be 2015.5\n",
    "\n",
    "      For .fits files, a subset of the columns must correspond to the\n",
    "      columns in secondary.indatamodel, other columns can be anything.\n",
    "\n",
    "      Note that the OVERRIDE column in the data model means \"do not just\n",
    "      accept an existing target, override it and make a new TARGETID.\" It\n",
    "      should be True (override) or False (do not override) for each target.\n",
    "      In .txt files it should be 1 or 0 instead of True/False, and will be\n",
    "      loaded from the text file as the corresponding Boolean."
   ]
  },
  {
   "cell_type": "code",
   "execution_count": 3,
   "metadata": {},
   "outputs": [
    {
     "data": {
      "text/plain": [
       "'/global/projecta/projectdirs/desi/external/mws/sv/MWS_CALIB_SEGUE/1/code'"
      ]
     },
     "execution_count": 3,
     "metadata": {},
     "output_type": "execute_result"
    }
   ],
   "source": [
    "pwd"
   ]
  },
  {
   "cell_type": "code",
   "execution_count": 4,
   "metadata": {},
   "outputs": [],
   "source": [
    "import os\n",
    "import numpy as np\n",
    "from astropy.table import Table, Column\n",
    "import astropy.io.fits as fits"
   ]
  },
  {
   "cell_type": "code",
   "execution_count": 5,
   "metadata": {},
   "outputs": [],
   "source": [
    "target_class   = 'MWS_CALIB_SEGUE'\n",
    "input_filename = 'sdss9_xm_gaia_4DESI_v0.fits'\n",
    "\n",
    "REF_CAT   = 'G'\n",
    "REF_EPOCH = '2015.5'"
   ]
  },
  {
   "cell_type": "code",
   "execution_count": 6,
   "metadata": {},
   "outputs": [],
   "source": [
    "# Relative paths\n",
    "input_path  = os.path.join('..','raw',input_filename)\n",
    "\n",
    "# Separate bright and faint output\n",
    "output_path = os.path.join('..','indata','{}.fits'.format(target_class))\n",
    "\n",
    "output_dir  = os.path.dirname(output_path)\n",
    "if not os.path.exists(output_dir):\n",
    "    print('Making output directory: {}'.format(os.path.abspath(output_dir)))\n",
    "    os.makedirs(dir)"
   ]
  },
  {
   "cell_type": "code",
   "execution_count": 7,
   "metadata": {},
   "outputs": [
    {
     "name": "stdout",
     "output_type": "stream",
     "text": [
      "Reading input: /global/projecta/projectdirs/desi/external/mws/sv/MWS_CALIB_SEGUE/1/raw/sdss9_xm_gaia_4DESI_v0.fits\n",
      "Read 950007 rows\n"
     ]
    }
   ],
   "source": [
    "print('Reading input: {}'.format(os.path.abspath(input_path)))\n",
    "d = Table.read(input_path)\n",
    "print('Read {:d} rows'.format(len(d)))"
   ]
  },
  {
   "cell_type": "code",
   "execution_count": 8,
   "metadata": {},
   "outputs": [
    {
     "name": "stdout",
     "output_type": "stream",
     "text": [
      "First 3 rows:\n",
      "     source_id             objid        ... phot_rp_mean_mag   ebv   \n",
      "------------------- ------------------- ... ---------------- --------\n",
      "1962465291641071360 1237672025706857364 ...              nan 0.320162\n",
      "1962465287342442880 1237672025706857364 ...          17.5963 0.320232\n",
      "1961208137534314880 1237671938749893662 ...          14.4844 0.330373\n",
      "['source_id', 'objid', 'specobjid', 'ra', 'dec', 'pmra', 'pmdec', 'phot_g_mean_mag', 'phot_bp_mean_mag', 'phot_rp_mean_mag', 'ebv']\n"
     ]
    }
   ],
   "source": [
    "print('First 3 rows:')\n",
    "print(d[0:3])\n",
    "print(d.colnames)"
   ]
  },
  {
   "cell_type": "code",
   "execution_count": 9,
   "metadata": {},
   "outputs": [
    {
     "name": "stdout",
     "output_type": "stream",
     "text": [
      "Undefined mags for 0 targets\n",
      "Mag range:  6.19 < G < 21.50\n",
      "Targets brighter than G = 16: 66035/950007 (6.95%)\n"
     ]
    }
   ],
   "source": [
    "BRIGHT_TIME_BRIGHT_LIMIT = 16.0\n",
    "\n",
    "finite_mag                 = np.isfinite(d['phot_g_mean_mag'])\n",
    "brighter_than_bright_limit = (d['phot_g_mean_mag'] < BRIGHT_TIME_BRIGHT_LIMIT) & finite_mag\n",
    "fainter_than_bright_limit  = (d['phot_g_mean_mag'] > BRIGHT_TIME_BRIGHT_LIMIT) & finite_mag\n",
    "\n",
    "print('Undefined mags for {:d} targets'.format((~finite_mag).sum()))\n",
    "print('Mag range: {:5.2f} < G < {:5.2f}'.format(d['phot_g_mean_mag'][finite_mag].min() ,d['phot_g_mean_mag'][finite_mag].max()))\n",
    "print('Targets brighter than G = 16: {}/{} ({:3.2%})'.format(brighter_than_bright_limit.sum(),\n",
    "                                                             len(d),\n",
    "                                                             brighter_than_bright_limit.sum()/len(d)))\n",
    "\n",
    "bright_time_targets = fainter_than_bright_limit"
   ]
  },
  {
   "cell_type": "code",
   "execution_count": 10,
   "metadata": {},
   "outputs": [],
   "source": [
    "import matplotlib.pyplot as pl\n",
    "pl.hist(d['phot_g_mean_mag'][finite_mag],bins=np.arange(0,22,0.5));\n",
    "pl.xlabel('G');\n",
    "pl.axvline(BRIGHT_TIME_BRIGHT_LIMIT,c='r',alpha=0.5);"
   ]
  },
  {
   "cell_type": "markdown",
   "metadata": {},
   "source": [
    "Adjust to secondary target data model:"
   ]
  },
  {
   "cell_type": "code",
   "execution_count": 11,
   "metadata": {},
   "outputs": [],
   "source": [
    "output = d['ra','dec','source_id'][bright_time_targets]\n",
    "output.rename_columns(['ra','dec','source_id'],['RA','DEC','REF_ID'])\n",
    "output.add_column(Column(np.repeat(False,len(output)),'OVERRIDE'))\n",
    "output.add_column(Column(np.zeros(len(output),dtype=np.float32),'PMRA'))\n",
    "output.add_column(Column(np.zeros(len(output),dtype=np.float32),'PMDEC'))\n",
    "output.add_column(Column(np.repeat(REF_CAT,len(output)),'REF_CAT'))\n",
    "output.add_column(Column(np.repeat(REF_EPOCH,len(output)),'REF_EPOCH'))"
   ]
  },
  {
   "cell_type": "markdown",
   "metadata": {},
   "source": [
    "Add header:"
   ]
  },
  {
   "cell_type": "code",
   "execution_count": 12,
   "metadata": {},
   "outputs": [],
   "source": [
    "output.meta['VRAWDATA'] = int(os.path.abspath(input_path).split(os.path.sep)[-3])"
   ]
  },
  {
   "cell_type": "code",
   "execution_count": 13,
   "metadata": {},
   "outputs": [
    {
     "data": {
      "text/html": [
       "<i>Table length=3</i>\n",
       "<table id=\"table46913326872616\" class=\"table-striped table-bordered table-condensed\">\n",
       "<thead><tr><th>RA</th><th>DEC</th><th>REF_ID</th><th>OVERRIDE</th><th>PMRA</th><th>PMDEC</th><th>REF_CAT</th><th>REF_EPOCH</th></tr></thead>\n",
       "<thead><tr><th>float64</th><th>float64</th><th>int64</th><th>bool</th><th>float32</th><th>float32</th><th>str1</th><th>str6</th></tr></thead>\n",
       "<tr><td>331.005265786112</td><td>43.8489545073689</td><td>1962465291641071360</td><td>False</td><td>0.0</td><td>0.0</td><td>G</td><td>2015.5</td></tr>\n",
       "<tr><td>331.005099021819</td><td>43.8488248802653</td><td>1962465287342442880</td><td>False</td><td>0.0</td><td>0.0</td><td>G</td><td>2015.5</td></tr>\n",
       "<tr><td>329.606204063371</td><td>43.9767787247824</td><td>1961208137529073024</td><td>False</td><td>0.0</td><td>0.0</td><td>G</td><td>2015.5</td></tr>\n",
       "</table>"
      ],
      "text/plain": [
       "<Table length=3>\n",
       "       RA              DEC               REF_ID       ... REF_CAT REF_EPOCH\n",
       "    float64          float64             int64        ...   str1     str6  \n",
       "---------------- ---------------- ------------------- ... ------- ---------\n",
       "331.005265786112 43.8489545073689 1962465291641071360 ...       G    2015.5\n",
       "331.005099021819 43.8488248802653 1962465287342442880 ...       G    2015.5\n",
       "329.606204063371 43.9767787247824 1961208137529073024 ...       G    2015.5"
      ]
     },
     "execution_count": 13,
     "metadata": {},
     "output_type": "execute_result"
    }
   ],
   "source": [
    "output[0:3]"
   ]
  },
  {
   "cell_type": "markdown",
   "metadata": {},
   "source": [
    "Write output:"
   ]
  },
  {
   "cell_type": "code",
   "execution_count": 14,
   "metadata": {},
   "outputs": [
    {
     "name": "stdout",
     "output_type": "stream",
     "text": [
      "Writing 883965 rows of output to /global/projecta/projectdirs/desi/external/mws/sv/MWS_CALIB_SEGUE/1/indata/MWS_CALIB_SEGUE.fits\n"
     ]
    }
   ],
   "source": [
    "print('Writing {:d} rows of output to {}'.format(len(output),os.path.abspath(output_path)))\n",
    "output.write(output_path,overwrite=True)"
   ]
  },
  {
   "cell_type": "code",
   "execution_count": null,
   "metadata": {},
   "outputs": [],
   "source": []
  }
 ],
 "metadata": {
  "kernelspec": {
   "display_name": "Python 3",
   "language": "python",
   "name": "python3"
  },
  "language_info": {
   "codemirror_mode": {
    "name": "ipython",
    "version": 3
   },
   "file_extension": ".py",
   "mimetype": "text/x-python",
   "name": "python",
   "nbconvert_exporter": "python",
   "pygments_lexer": "ipython3",
   "version": "3.7.3"
  }
 },
 "nbformat": 4,
 "nbformat_minor": 4
}
