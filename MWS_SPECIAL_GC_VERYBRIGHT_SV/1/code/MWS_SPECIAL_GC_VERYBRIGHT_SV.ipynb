{
 "cells": [
  {
   "cell_type": "markdown",
   "metadata": {},
   "source": [
    "# MWS Secondary Target Selection"
   ]
  },
  {
   "cell_type": "markdown",
   "metadata": {},
   "source": [
    "## MWS_SPECIAL_GC_VERYBRIGHT_SV"
   ]
  },
  {
   "cell_type": "markdown",
   "metadata": {},
   "source": [
    "Maintainers:\n",
    "  - Ting Li (selection/catalog)\n",
    "  - Andrew Cooper (secondary target code)"
   ]
  },
  {
   "cell_type": "markdown",
   "metadata": {},
   "source": [
    "Membership probability is calculated by Vasiliev 2018 for 150 GC (based on the spatial distribution and proper motion) in https://arxiv.org/abs/1807.09775\n",
    "\n",
    "In this catalog we merge all the stars with membership probability > 0.5 into one list (0.5 is an arbitrary pick and we can easily change to a higher or lower threshold)."
   ]
  },
  {
   "cell_type": "raw",
   "metadata": {},
   "source": [
    "DATA MODEL REFERENCE:\n",
    "(see /project/projectdirs/desi/target/secondary/README for latest changes)\n",
    "\n",
    "(1) In $SCND_DIR/indata: .fits or .txt files defining the secondary\n",
    "      targets with columns corresponding to:\n",
    "    \n",
    "        ('RA', '>f8')\n",
    "        ('DEC', '>f8')\n",
    "        ('PMRA', '>f4')\n",
    "        ('PMDEC', '>f4')\n",
    "        ('REF_EPOCH', '>f4')\n",
    "        ('OVERRIDE', '?')\n",
    "\n",
    "      Units of these quantities are the same as for the Legacy Surveys\n",
    "      data model.\n",
    "\n",
    "      For .txt files the first N columns must correspond to the N columns\n",
    "      in secondary.indatamodel, and other columns can be anything. The #\n",
    "      may be used as a comment card. For objects with low proper motion\n",
    "      it is permissible to pass zeros for the proper motion columns. If\n",
    "      zero is passed for REF_EPOCH, it will be assumed to be 2015.5\n",
    "\n",
    "      For .fits files, a subset of the columns must correspond to the\n",
    "      columns in secondary.indatamodel, other columns can be anything.\n",
    "\n",
    "      Note that the OVERRIDE column in the data model means \"do not just\n",
    "      accept an existing target, override it and make a new TARGETID.\" It\n",
    "      should be True (override) or False (do not override) for each target.\n",
    "      In .txt files it should be 1 or 0 instead of True/False, and will be\n",
    "      loaded from the text file as the corresponding Boolean."
   ]
  },
  {
   "cell_type": "code",
   "execution_count": 1,
   "metadata": {},
   "outputs": [
    {
     "name": "stdout",
     "output_type": "stream",
     "text": [
      "/global/projecta/projectdirs/desi/external/mws/sv/MWS_SPECIAL_GC_VERYBRIGHT_SV/1/code\n",
      "gc_p0_5_gaia_4DESI_v0.fits\n"
     ]
    }
   ],
   "source": [
    "!pwd\n",
    "!ls ../raw"
   ]
  },
  {
   "cell_type": "code",
   "execution_count": 2,
   "metadata": {},
   "outputs": [],
   "source": [
    "# Parameters\n",
    "\n",
    "target_class   = 'MWS_SPECIAL_GC_VERYBRIGHT_SV'\n",
    "input_filename = 'gc_p0_5_gaia_4DESI_v0.fits'\n",
    "\n",
    "OVERRIDE       = True\n",
    "REF_CAT        = '?'\n",
    "REF_EPOCH      = 2015.5\n",
    "\n",
    "SELECT_MAG     = 'phot_g_mean_mag'\n",
    "BRIGHT_LIMIT   = 9.0\n",
    "FAINT_LIMIT    = 16.0\n",
    "\n",
    "colmap = {\n",
    "    'ra':        'RA',\n",
    "    'dec':       'DEC',\n",
    "    'source_id': 'REF_ID'\n",
    "}"
   ]
  },
  {
   "cell_type": "code",
   "execution_count": null,
   "metadata": {},
   "outputs": [],
   "source": [
    "from   importlib import reload\n",
    "import sys\n",
    "PYPATH = '/project/projectdirs/desi/external/mws/py/'\n",
    "if PYPATH not in sys.path: sys.path.append(PYPATH)\n",
    "import mwsecondary.mwsecondary as mws\n",
    "reload(mws)\n",
    "\n",
    "import os\n",
    "import sys\n",
    "import numpy as np\n",
    "\n",
    "targets = mws.SecondaryTargets(target_class,input_filename,ref_cat=REF_CAT,ref_epoch=REF_EPOCH)\n",
    "targets.print_info()\n",
    "\n",
    "mask = np.repeat(True,len(targets.data))\n",
    "mask   &= targets.select_finite_mag_range(SELECT_MAG,faint_limit=FAINT_LIMIT,bright_limit=BRIGHT_LIMIT)\n",
    "mask   &= targets.select_finite_range('dec',lower_limit=-30.0,verbose=True)\n",
    "mask   &= targets.select_unique('source_id',verbose=True)\n",
    "\n",
    "# Adjust to secondary target data model and write output\n",
    "output = targets.get_output(mask,cols=colmap,write=True,override=OVERRIDE)\n",
    "print(output[0:3])"
   ]
  },
  {
   "cell_type": "code",
   "execution_count": null,
   "metadata": {},
   "outputs": [],
   "source": []
  },
  {
   "cell_type": "code",
   "execution_count": null,
   "metadata": {},
   "outputs": [],
   "source": []
  }
 ],
 "metadata": {
  "kernelspec": {
   "display_name": "DESI master",
   "language": "python",
   "name": "desi-master"
  },
  "language_info": {
   "codemirror_mode": {
    "name": "ipython",
    "version": 3
   },
   "file_extension": ".py",
   "mimetype": "text/x-python",
   "name": "python",
   "nbconvert_exporter": "python",
   "pygments_lexer": "ipython3",
   "version": "3.6.6"
  }
 },
 "nbformat": 4,
 "nbformat_minor": 4
}
