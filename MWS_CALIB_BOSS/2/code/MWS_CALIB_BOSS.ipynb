{
 "cells": [
  {
   "cell_type": "markdown",
   "metadata": {},
   "source": [
    "# MWS Secondary Target Selection"
   ]
  },
  {
   "cell_type": "markdown",
   "metadata": {},
   "source": [
    "## MWS_CALIB_BOSS"
   ]
  },
  {
   "cell_type": "markdown",
   "metadata": {},
   "source": [
    "Maintainers:\n",
    "  - Ting Li (selection/catalog)\n",
    "  - Andrew Cooper (secondary target code)"
   ]
  },
  {
   "cell_type": "code",
   "execution_count": 1,
   "metadata": {},
   "outputs": [
    {
     "name": "stdout",
     "output_type": "stream",
     "text": [
      "/global/projecta/projectdirs/desi/external/mws/sv/MWS_CALIB_BOSS/2/code\n",
      "boss_xm_gaia_4DESI_v2.fits\n"
     ]
    }
   ],
   "source": [
    "!pwd\n",
    "!ls ../raw"
   ]
  },
  {
   "cell_type": "code",
   "execution_count": 2,
   "metadata": {},
   "outputs": [],
   "source": [
    "# Parameters\n",
    "\n",
    "target_class   = 'MWS_CALIB_BOSS'\n",
    "input_filename = 'boss_xm_gaia_4DESI_v2.fits'\n",
    "\n",
    "REF_CAT        = 'G'\n",
    "REF_EPOCH      = 2015.5\n",
    "\n",
    "SELECT_MAG     = 'phot_g_mean_mag'\n",
    "BRIGHT_LIMIT   = 16.0\n",
    "FAINT_LIMIT    = 20.0\n",
    "\n",
    "colmap = {\n",
    "    'ra':        'RA',\n",
    "    'dec':       'DEC',\n",
    "    'pmra':      'PMRA',\n",
    "    'pmdec':     'PMDEC',\n",
    "    'source_id': 'REF_ID'\n",
    "}"
   ]
  },
  {
   "cell_type": "markdown",
   "metadata": {},
   "source": [
    "{ DESCRIPTION NEEDED }\n",
    "\n",
    "The selection criteria are:\n",
    "\n",
    "???\n",
    "\n",
    "There are some duplicate source IDs in the raw catalog. The corresponding rows are similar (e.g. identical RA, DEC and mag) but some other columns differ. The secondary target indata is restricted to unique `source_id` only."
   ]
  },
  {
   "cell_type": "code",
   "execution_count": 3,
   "metadata": {},
   "outputs": [
    {
     "name": "stdout",
     "output_type": "stream",
     "text": [
      "Reading input: /global/projecta/projectdirs/desi/external/mws/sv/MWS_CALIB_BOSS/2/raw/boss_xm_gaia_4DESI_v2.fits\n",
      "Read 277334 rows\n",
      "First 3 rows:\n",
      "      ID        aa  bb ... phot_rp_mean_mag astrometric_excess_noise   ebv   \n",
      "-------------- --- --- ... ---------------- ------------------------ --------\n",
      "10000-57346-14 0.0 0.0 ...          19.4823          2.2445805875969 0.054242\n",
      "10000-57346-23 0.0 0.0 ...          15.5626                      0.0 0.070424\n",
      "10000-57346-26 0.0 0.0 ...          18.7329        0.625478182014694 0.054897\n",
      "\n",
      "Column names:\n",
      "['ID', 'aa', 'bb', 'cc', 'rmag', 'ee', 'ff', 'RA', 'DEC', 'gg', 'feh', 'teff', 'logg', 'feherr', 'tefferr', 'loggerr', 'hh', 'ii', 'jj', 'source_id', 'ra', 'dec', 'pmra', 'pmdec', 'phot_g_mean_mag', 'phot_bp_mean_mag', 'phot_rp_mean_mag', 'astrometric_excess_noise', 'ebv']\n",
      "\n",
      "\n",
      "Mag range: 11.52 < phot_g_mean_mag < 21.87\n",
      "Mags not finite: 0\n",
      "Selecting 152025 targets from 277334 (54.82%)\n",
      "Selecting 277334 from 277334 (100.00%) on dec\n",
      "254979 of 277334 targets have unique source_id\n",
      "Removing 22355 duplicates\n",
      "\n",
      "Writing 136895 rows of output to /global/projecta/projectdirs/desi/external/mws/sv/MWS_CALIB_BOSS/2/indata/MWS_CALIB_BOSS.fits\n",
      "       RA              DEC           PMRA    ... OVERRIDE REF_CAT REF_EPOCH\n",
      "---------------- ---------------- ---------- ... -------- ------- ---------\n",
      "30.9948802735346 26.6203437432308 -2.3699265 ...    False       G    2015.5\n",
      "31.1140741118194 26.9613367501388  2.0489373 ...    False       G    2015.5\n",
      "30.8794428828686 26.3680679138656 -0.9671696 ...    False       G    2015.5\n"
     ]
    },
    {
     "name": "stderr",
     "output_type": "stream",
     "text": [
      "WARNING: VerifyWarning: Keyword name 'BRIGHT_LIMIT' is greater than 8 characters or contains characters not allowed by the FITS standard; a HIERARCH card will be created. [astropy.io.fits.card]\n",
      "WARNING: VerifyWarning: Keyword name 'FAINT_LIMIT' is greater than 8 characters or contains characters not allowed by the FITS standard; a HIERARCH card will be created. [astropy.io.fits.card]\n"
     ]
    }
   ],
   "source": [
    "from   importlib import reload\n",
    "import sys\n",
    "PYPATH = '/project/projectdirs/desi/external/mws/py/'\n",
    "if PYPATH not in sys.path: sys.path.append(PYPATH)\n",
    "import mwsecondary.mwsecondary as mws\n",
    "reload(mws)\n",
    "\n",
    "import os\n",
    "import sys\n",
    "import numpy as np\n",
    "\n",
    "targets = mws.SecondaryTargets(target_class,input_filename,ref_cat=REF_CAT,ref_epoch=REF_EPOCH)\n",
    "targets.print_info()\n",
    "mask    = targets.select_finite_mag_range(SELECT_MAG,faint_limit=FAINT_LIMIT,bright_limit=BRIGHT_LIMIT)\n",
    "mask   &= targets.select_finite_range('dec',lower_limit=-30.0,verbose=True)\n",
    "mask   &= targets.select_unique('source_id',verbose=True)\n",
    "\n",
    "# Adjust to secondary target data model and write output\n",
    "header = dict([(_,globals()[_]) for _ in ['BRIGHT_LIMIT','FAINT_LIMIT']])\n",
    "output = targets.get_output(mask,cols=colmap,write=True,header=header)\n",
    "print(output[0:3])"
   ]
  },
  {
   "cell_type": "code",
   "execution_count": null,
   "metadata": {},
   "outputs": [],
   "source": []
  }
 ],
 "metadata": {
  "kernelspec": {
   "display_name": "Python 3",
   "language": "python",
   "name": "python3"
  },
  "language_info": {
   "codemirror_mode": {
    "name": "ipython",
    "version": 3
   },
   "file_extension": ".py",
   "mimetype": "text/x-python",
   "name": "python",
   "nbconvert_exporter": "python",
   "pygments_lexer": "ipython3",
   "version": "3.7.3"
  }
 },
 "nbformat": 4,
 "nbformat_minor": 4
}
